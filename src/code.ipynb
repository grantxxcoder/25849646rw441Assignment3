{
 "cells": [
  {
   "cell_type": "code",
   "execution_count": null,
   "id": "0863bf76",
   "metadata": {},
   "outputs": [
    {
     "ename": "ModuleNotFoundError",
     "evalue": "No module named 'torchvision'",
     "output_type": "error",
     "traceback": [
      "\u001b[31m---------------------------------------------------------------------------\u001b[39m",
      "\u001b[31mModuleNotFoundError\u001b[39m                       Traceback (most recent call last)",
      "\u001b[36mCell\u001b[39m\u001b[36m \u001b[39m\u001b[32mIn[17]\u001b[39m\u001b[32m, line 8\u001b[39m\n\u001b[32m      5\u001b[39m \u001b[38;5;28;01mimport\u001b[39;00m\u001b[38;5;250m \u001b[39m\u001b[34;01mos\u001b[39;00m\n\u001b[32m      7\u001b[39m \u001b[38;5;28;01mfrom\u001b[39;00m\u001b[38;5;250m \u001b[39m\u001b[34;01msklearn\u001b[39;00m\u001b[34;01m.\u001b[39;00m\u001b[34;01mdatasets\u001b[39;00m\u001b[38;5;250m \u001b[39m\u001b[38;5;28;01mimport\u001b[39;00m fetch_covtype\n\u001b[32m----> \u001b[39m\u001b[32m8\u001b[39m \u001b[38;5;28;01mimport\u001b[39;00m\u001b[38;5;250m \u001b[39m\u001b[34;01mtorchvision\u001b[39;00m\n\u001b[32m      9\u001b[39m \u001b[38;5;28;01mimport\u001b[39;00m\u001b[38;5;250m \u001b[39m\u001b[34;01mtorchvision\u001b[39;00m\u001b[34;01m.\u001b[39;00m\u001b[34;01mtransforms\u001b[39;00m\u001b[38;5;250m \u001b[39m\u001b[38;5;28;01mas\u001b[39;00m\u001b[38;5;250m \u001b[39m\u001b[34;01mtransforms\u001b[39;00m\n",
      "\u001b[31mModuleNotFoundError\u001b[39m: No module named 'torchvision'"
     ]
    }
   ],
   "source": [
    "import numpy as np \n",
    "import matplotlib.pyplot as plt\n",
    "import pandas as pd\n",
    "import seaborn as sns\n",
    "import os\n",
    "\n",
    "from sklearn.datasets import fetch_covtype\n",
    "import torchvision\n",
    "import torchvision.transforms as transforms\n",
    "import torch"
   ]
  },
  {
   "cell_type": "code",
   "execution_count": 6,
   "id": "315319d4",
   "metadata": {},
   "outputs": [],
   "source": [
    "data_dir = \"../data\"\n",
    "results_dir = \"../results\""
   ]
  },
  {
   "cell_type": "markdown",
   "id": "df7738c6",
   "metadata": {},
   "source": [
    "# Get datasets section"
   ]
  },
  {
   "cell_type": "markdown",
   "id": "596bea83",
   "metadata": {},
   "source": [
    "### Covtype dataset"
   ]
  },
  {
   "cell_type": "code",
   "execution_count": null,
   "id": "7fe394e7",
   "metadata": {},
   "outputs": [],
   "source": [
    "data_cov = fetch_covtype(as_frame=True)\n",
    "df_covtype = data_cov.frame \n",
    "\n",
    "X_cov_type = data_cov.data\n",
    "y_cov_type = data_cov.target"
   ]
  },
  {
   "cell_type": "code",
   "execution_count": 16,
   "id": "47ba6a88",
   "metadata": {},
   "outputs": [
    {
     "data": {
      "application/vnd.microsoft.datawrangler.viewer.v0+json": {
       "columns": [
        {
         "name": "index",
         "rawType": "int64",
         "type": "integer"
        },
        {
         "name": "Elevation",
         "rawType": "float64",
         "type": "float"
        },
        {
         "name": "Aspect",
         "rawType": "float64",
         "type": "float"
        },
        {
         "name": "Slope",
         "rawType": "float64",
         "type": "float"
        },
        {
         "name": "Horizontal_Distance_To_Hydrology",
         "rawType": "float64",
         "type": "float"
        },
        {
         "name": "Vertical_Distance_To_Hydrology",
         "rawType": "float64",
         "type": "float"
        },
        {
         "name": "Horizontal_Distance_To_Roadways",
         "rawType": "float64",
         "type": "float"
        },
        {
         "name": "Hillshade_9am",
         "rawType": "float64",
         "type": "float"
        },
        {
         "name": "Hillshade_Noon",
         "rawType": "float64",
         "type": "float"
        },
        {
         "name": "Hillshade_3pm",
         "rawType": "float64",
         "type": "float"
        },
        {
         "name": "Horizontal_Distance_To_Fire_Points",
         "rawType": "float64",
         "type": "float"
        },
        {
         "name": "Wilderness_Area_0",
         "rawType": "float64",
         "type": "float"
        },
        {
         "name": "Wilderness_Area_1",
         "rawType": "float64",
         "type": "float"
        },
        {
         "name": "Wilderness_Area_2",
         "rawType": "float64",
         "type": "float"
        },
        {
         "name": "Wilderness_Area_3",
         "rawType": "float64",
         "type": "float"
        },
        {
         "name": "Soil_Type_0",
         "rawType": "float64",
         "type": "float"
        },
        {
         "name": "Soil_Type_1",
         "rawType": "float64",
         "type": "float"
        },
        {
         "name": "Soil_Type_2",
         "rawType": "float64",
         "type": "float"
        },
        {
         "name": "Soil_Type_3",
         "rawType": "float64",
         "type": "float"
        },
        {
         "name": "Soil_Type_4",
         "rawType": "float64",
         "type": "float"
        },
        {
         "name": "Soil_Type_5",
         "rawType": "float64",
         "type": "float"
        },
        {
         "name": "Soil_Type_6",
         "rawType": "float64",
         "type": "float"
        },
        {
         "name": "Soil_Type_7",
         "rawType": "float64",
         "type": "float"
        },
        {
         "name": "Soil_Type_8",
         "rawType": "float64",
         "type": "float"
        },
        {
         "name": "Soil_Type_9",
         "rawType": "float64",
         "type": "float"
        },
        {
         "name": "Soil_Type_10",
         "rawType": "float64",
         "type": "float"
        },
        {
         "name": "Soil_Type_11",
         "rawType": "float64",
         "type": "float"
        },
        {
         "name": "Soil_Type_12",
         "rawType": "float64",
         "type": "float"
        },
        {
         "name": "Soil_Type_13",
         "rawType": "float64",
         "type": "float"
        },
        {
         "name": "Soil_Type_14",
         "rawType": "float64",
         "type": "float"
        },
        {
         "name": "Soil_Type_15",
         "rawType": "float64",
         "type": "float"
        },
        {
         "name": "Soil_Type_16",
         "rawType": "float64",
         "type": "float"
        },
        {
         "name": "Soil_Type_17",
         "rawType": "float64",
         "type": "float"
        },
        {
         "name": "Soil_Type_18",
         "rawType": "float64",
         "type": "float"
        },
        {
         "name": "Soil_Type_19",
         "rawType": "float64",
         "type": "float"
        },
        {
         "name": "Soil_Type_20",
         "rawType": "float64",
         "type": "float"
        },
        {
         "name": "Soil_Type_21",
         "rawType": "float64",
         "type": "float"
        },
        {
         "name": "Soil_Type_22",
         "rawType": "float64",
         "type": "float"
        },
        {
         "name": "Soil_Type_23",
         "rawType": "float64",
         "type": "float"
        },
        {
         "name": "Soil_Type_24",
         "rawType": "float64",
         "type": "float"
        },
        {
         "name": "Soil_Type_25",
         "rawType": "float64",
         "type": "float"
        },
        {
         "name": "Soil_Type_26",
         "rawType": "float64",
         "type": "float"
        },
        {
         "name": "Soil_Type_27",
         "rawType": "float64",
         "type": "float"
        },
        {
         "name": "Soil_Type_28",
         "rawType": "float64",
         "type": "float"
        },
        {
         "name": "Soil_Type_29",
         "rawType": "float64",
         "type": "float"
        },
        {
         "name": "Soil_Type_30",
         "rawType": "float64",
         "type": "float"
        },
        {
         "name": "Soil_Type_31",
         "rawType": "float64",
         "type": "float"
        },
        {
         "name": "Soil_Type_32",
         "rawType": "float64",
         "type": "float"
        },
        {
         "name": "Soil_Type_33",
         "rawType": "float64",
         "type": "float"
        },
        {
         "name": "Soil_Type_34",
         "rawType": "float64",
         "type": "float"
        },
        {
         "name": "Soil_Type_35",
         "rawType": "float64",
         "type": "float"
        },
        {
         "name": "Soil_Type_36",
         "rawType": "float64",
         "type": "float"
        },
        {
         "name": "Soil_Type_37",
         "rawType": "float64",
         "type": "float"
        },
        {
         "name": "Soil_Type_38",
         "rawType": "float64",
         "type": "float"
        },
        {
         "name": "Soil_Type_39",
         "rawType": "float64",
         "type": "float"
        },
        {
         "name": "Cover_Type",
         "rawType": "int32",
         "type": "integer"
        }
       ],
       "ref": "828b88ef-709c-4af9-a161-81bbb9203169",
       "rows": [
        [
         "0",
         "2596.0",
         "51.0",
         "3.0",
         "258.0",
         "0.0",
         "510.0",
         "221.0",
         "232.0",
         "148.0",
         "6279.0",
         "1.0",
         "0.0",
         "0.0",
         "0.0",
         "0.0",
         "0.0",
         "0.0",
         "0.0",
         "0.0",
         "0.0",
         "0.0",
         "0.0",
         "0.0",
         "0.0",
         "0.0",
         "0.0",
         "0.0",
         "0.0",
         "0.0",
         "0.0",
         "0.0",
         "0.0",
         "0.0",
         "0.0",
         "0.0",
         "0.0",
         "0.0",
         "0.0",
         "0.0",
         "0.0",
         "0.0",
         "0.0",
         "1.0",
         "0.0",
         "0.0",
         "0.0",
         "0.0",
         "0.0",
         "0.0",
         "0.0",
         "0.0",
         "0.0",
         "0.0",
         "0.0",
         "5"
        ],
        [
         "1",
         "2590.0",
         "56.0",
         "2.0",
         "212.0",
         "-6.0",
         "390.0",
         "220.0",
         "235.0",
         "151.0",
         "6225.0",
         "1.0",
         "0.0",
         "0.0",
         "0.0",
         "0.0",
         "0.0",
         "0.0",
         "0.0",
         "0.0",
         "0.0",
         "0.0",
         "0.0",
         "0.0",
         "0.0",
         "0.0",
         "0.0",
         "0.0",
         "0.0",
         "0.0",
         "0.0",
         "0.0",
         "0.0",
         "0.0",
         "0.0",
         "0.0",
         "0.0",
         "0.0",
         "0.0",
         "0.0",
         "0.0",
         "0.0",
         "0.0",
         "1.0",
         "0.0",
         "0.0",
         "0.0",
         "0.0",
         "0.0",
         "0.0",
         "0.0",
         "0.0",
         "0.0",
         "0.0",
         "0.0",
         "5"
        ],
        [
         "2",
         "2804.0",
         "139.0",
         "9.0",
         "268.0",
         "65.0",
         "3180.0",
         "234.0",
         "238.0",
         "135.0",
         "6121.0",
         "1.0",
         "0.0",
         "0.0",
         "0.0",
         "0.0",
         "0.0",
         "0.0",
         "0.0",
         "0.0",
         "0.0",
         "0.0",
         "0.0",
         "0.0",
         "0.0",
         "0.0",
         "1.0",
         "0.0",
         "0.0",
         "0.0",
         "0.0",
         "0.0",
         "0.0",
         "0.0",
         "0.0",
         "0.0",
         "0.0",
         "0.0",
         "0.0",
         "0.0",
         "0.0",
         "0.0",
         "0.0",
         "0.0",
         "0.0",
         "0.0",
         "0.0",
         "0.0",
         "0.0",
         "0.0",
         "0.0",
         "0.0",
         "0.0",
         "0.0",
         "0.0",
         "2"
        ],
        [
         "3",
         "2785.0",
         "155.0",
         "18.0",
         "242.0",
         "118.0",
         "3090.0",
         "238.0",
         "238.0",
         "122.0",
         "6211.0",
         "1.0",
         "0.0",
         "0.0",
         "0.0",
         "0.0",
         "0.0",
         "0.0",
         "0.0",
         "0.0",
         "0.0",
         "0.0",
         "0.0",
         "0.0",
         "0.0",
         "0.0",
         "0.0",
         "0.0",
         "0.0",
         "0.0",
         "0.0",
         "0.0",
         "0.0",
         "0.0",
         "0.0",
         "0.0",
         "0.0",
         "0.0",
         "0.0",
         "0.0",
         "0.0",
         "0.0",
         "0.0",
         "0.0",
         "1.0",
         "0.0",
         "0.0",
         "0.0",
         "0.0",
         "0.0",
         "0.0",
         "0.0",
         "0.0",
         "0.0",
         "0.0",
         "2"
        ],
        [
         "4",
         "2595.0",
         "45.0",
         "2.0",
         "153.0",
         "-1.0",
         "391.0",
         "220.0",
         "234.0",
         "150.0",
         "6172.0",
         "1.0",
         "0.0",
         "0.0",
         "0.0",
         "0.0",
         "0.0",
         "0.0",
         "0.0",
         "0.0",
         "0.0",
         "0.0",
         "0.0",
         "0.0",
         "0.0",
         "0.0",
         "0.0",
         "0.0",
         "0.0",
         "0.0",
         "0.0",
         "0.0",
         "0.0",
         "0.0",
         "0.0",
         "0.0",
         "0.0",
         "0.0",
         "0.0",
         "0.0",
         "0.0",
         "0.0",
         "0.0",
         "1.0",
         "0.0",
         "0.0",
         "0.0",
         "0.0",
         "0.0",
         "0.0",
         "0.0",
         "0.0",
         "0.0",
         "0.0",
         "0.0",
         "5"
        ]
       ],
       "shape": {
        "columns": 55,
        "rows": 5
       }
      },
      "text/html": [
       "<div>\n",
       "<style scoped>\n",
       "    .dataframe tbody tr th:only-of-type {\n",
       "        vertical-align: middle;\n",
       "    }\n",
       "\n",
       "    .dataframe tbody tr th {\n",
       "        vertical-align: top;\n",
       "    }\n",
       "\n",
       "    .dataframe thead th {\n",
       "        text-align: right;\n",
       "    }\n",
       "</style>\n",
       "<table border=\"1\" class=\"dataframe\">\n",
       "  <thead>\n",
       "    <tr style=\"text-align: right;\">\n",
       "      <th></th>\n",
       "      <th>Elevation</th>\n",
       "      <th>Aspect</th>\n",
       "      <th>Slope</th>\n",
       "      <th>Horizontal_Distance_To_Hydrology</th>\n",
       "      <th>Vertical_Distance_To_Hydrology</th>\n",
       "      <th>Horizontal_Distance_To_Roadways</th>\n",
       "      <th>Hillshade_9am</th>\n",
       "      <th>Hillshade_Noon</th>\n",
       "      <th>Hillshade_3pm</th>\n",
       "      <th>Horizontal_Distance_To_Fire_Points</th>\n",
       "      <th>...</th>\n",
       "      <th>Soil_Type_31</th>\n",
       "      <th>Soil_Type_32</th>\n",
       "      <th>Soil_Type_33</th>\n",
       "      <th>Soil_Type_34</th>\n",
       "      <th>Soil_Type_35</th>\n",
       "      <th>Soil_Type_36</th>\n",
       "      <th>Soil_Type_37</th>\n",
       "      <th>Soil_Type_38</th>\n",
       "      <th>Soil_Type_39</th>\n",
       "      <th>Cover_Type</th>\n",
       "    </tr>\n",
       "  </thead>\n",
       "  <tbody>\n",
       "    <tr>\n",
       "      <th>0</th>\n",
       "      <td>2596.0</td>\n",
       "      <td>51.0</td>\n",
       "      <td>3.0</td>\n",
       "      <td>258.0</td>\n",
       "      <td>0.0</td>\n",
       "      <td>510.0</td>\n",
       "      <td>221.0</td>\n",
       "      <td>232.0</td>\n",
       "      <td>148.0</td>\n",
       "      <td>6279.0</td>\n",
       "      <td>...</td>\n",
       "      <td>0.0</td>\n",
       "      <td>0.0</td>\n",
       "      <td>0.0</td>\n",
       "      <td>0.0</td>\n",
       "      <td>0.0</td>\n",
       "      <td>0.0</td>\n",
       "      <td>0.0</td>\n",
       "      <td>0.0</td>\n",
       "      <td>0.0</td>\n",
       "      <td>5</td>\n",
       "    </tr>\n",
       "    <tr>\n",
       "      <th>1</th>\n",
       "      <td>2590.0</td>\n",
       "      <td>56.0</td>\n",
       "      <td>2.0</td>\n",
       "      <td>212.0</td>\n",
       "      <td>-6.0</td>\n",
       "      <td>390.0</td>\n",
       "      <td>220.0</td>\n",
       "      <td>235.0</td>\n",
       "      <td>151.0</td>\n",
       "      <td>6225.0</td>\n",
       "      <td>...</td>\n",
       "      <td>0.0</td>\n",
       "      <td>0.0</td>\n",
       "      <td>0.0</td>\n",
       "      <td>0.0</td>\n",
       "      <td>0.0</td>\n",
       "      <td>0.0</td>\n",
       "      <td>0.0</td>\n",
       "      <td>0.0</td>\n",
       "      <td>0.0</td>\n",
       "      <td>5</td>\n",
       "    </tr>\n",
       "    <tr>\n",
       "      <th>2</th>\n",
       "      <td>2804.0</td>\n",
       "      <td>139.0</td>\n",
       "      <td>9.0</td>\n",
       "      <td>268.0</td>\n",
       "      <td>65.0</td>\n",
       "      <td>3180.0</td>\n",
       "      <td>234.0</td>\n",
       "      <td>238.0</td>\n",
       "      <td>135.0</td>\n",
       "      <td>6121.0</td>\n",
       "      <td>...</td>\n",
       "      <td>0.0</td>\n",
       "      <td>0.0</td>\n",
       "      <td>0.0</td>\n",
       "      <td>0.0</td>\n",
       "      <td>0.0</td>\n",
       "      <td>0.0</td>\n",
       "      <td>0.0</td>\n",
       "      <td>0.0</td>\n",
       "      <td>0.0</td>\n",
       "      <td>2</td>\n",
       "    </tr>\n",
       "    <tr>\n",
       "      <th>3</th>\n",
       "      <td>2785.0</td>\n",
       "      <td>155.0</td>\n",
       "      <td>18.0</td>\n",
       "      <td>242.0</td>\n",
       "      <td>118.0</td>\n",
       "      <td>3090.0</td>\n",
       "      <td>238.0</td>\n",
       "      <td>238.0</td>\n",
       "      <td>122.0</td>\n",
       "      <td>6211.0</td>\n",
       "      <td>...</td>\n",
       "      <td>0.0</td>\n",
       "      <td>0.0</td>\n",
       "      <td>0.0</td>\n",
       "      <td>0.0</td>\n",
       "      <td>0.0</td>\n",
       "      <td>0.0</td>\n",
       "      <td>0.0</td>\n",
       "      <td>0.0</td>\n",
       "      <td>0.0</td>\n",
       "      <td>2</td>\n",
       "    </tr>\n",
       "    <tr>\n",
       "      <th>4</th>\n",
       "      <td>2595.0</td>\n",
       "      <td>45.0</td>\n",
       "      <td>2.0</td>\n",
       "      <td>153.0</td>\n",
       "      <td>-1.0</td>\n",
       "      <td>391.0</td>\n",
       "      <td>220.0</td>\n",
       "      <td>234.0</td>\n",
       "      <td>150.0</td>\n",
       "      <td>6172.0</td>\n",
       "      <td>...</td>\n",
       "      <td>0.0</td>\n",
       "      <td>0.0</td>\n",
       "      <td>0.0</td>\n",
       "      <td>0.0</td>\n",
       "      <td>0.0</td>\n",
       "      <td>0.0</td>\n",
       "      <td>0.0</td>\n",
       "      <td>0.0</td>\n",
       "      <td>0.0</td>\n",
       "      <td>5</td>\n",
       "    </tr>\n",
       "  </tbody>\n",
       "</table>\n",
       "<p>5 rows × 55 columns</p>\n",
       "</div>"
      ],
      "text/plain": [
       "   Elevation  Aspect  Slope  Horizontal_Distance_To_Hydrology  \\\n",
       "0     2596.0    51.0    3.0                             258.0   \n",
       "1     2590.0    56.0    2.0                             212.0   \n",
       "2     2804.0   139.0    9.0                             268.0   \n",
       "3     2785.0   155.0   18.0                             242.0   \n",
       "4     2595.0    45.0    2.0                             153.0   \n",
       "\n",
       "   Vertical_Distance_To_Hydrology  Horizontal_Distance_To_Roadways  \\\n",
       "0                             0.0                            510.0   \n",
       "1                            -6.0                            390.0   \n",
       "2                            65.0                           3180.0   \n",
       "3                           118.0                           3090.0   \n",
       "4                            -1.0                            391.0   \n",
       "\n",
       "   Hillshade_9am  Hillshade_Noon  Hillshade_3pm  \\\n",
       "0          221.0           232.0          148.0   \n",
       "1          220.0           235.0          151.0   \n",
       "2          234.0           238.0          135.0   \n",
       "3          238.0           238.0          122.0   \n",
       "4          220.0           234.0          150.0   \n",
       "\n",
       "   Horizontal_Distance_To_Fire_Points  ...  Soil_Type_31  Soil_Type_32  \\\n",
       "0                              6279.0  ...           0.0           0.0   \n",
       "1                              6225.0  ...           0.0           0.0   \n",
       "2                              6121.0  ...           0.0           0.0   \n",
       "3                              6211.0  ...           0.0           0.0   \n",
       "4                              6172.0  ...           0.0           0.0   \n",
       "\n",
       "   Soil_Type_33  Soil_Type_34  Soil_Type_35  Soil_Type_36  Soil_Type_37  \\\n",
       "0           0.0           0.0           0.0           0.0           0.0   \n",
       "1           0.0           0.0           0.0           0.0           0.0   \n",
       "2           0.0           0.0           0.0           0.0           0.0   \n",
       "3           0.0           0.0           0.0           0.0           0.0   \n",
       "4           0.0           0.0           0.0           0.0           0.0   \n",
       "\n",
       "   Soil_Type_38  Soil_Type_39  Cover_Type  \n",
       "0           0.0           0.0           5  \n",
       "1           0.0           0.0           5  \n",
       "2           0.0           0.0           2  \n",
       "3           0.0           0.0           2  \n",
       "4           0.0           0.0           5  \n",
       "\n",
       "[5 rows x 55 columns]"
      ]
     },
     "execution_count": 16,
     "metadata": {},
     "output_type": "execute_result"
    }
   ],
   "source": [
    "df_covtype.head()"
   ]
  },
  {
   "cell_type": "markdown",
   "id": "0917baad",
   "metadata": {},
   "source": [
    "### Fashion-MNIST dataset"
   ]
  },
  {
   "cell_type": "code",
   "execution_count": null,
   "id": "5b5ed01a",
   "metadata": {},
   "outputs": [],
   "source": [
    "\n",
    "# Download and load Fashion-MNIST\n",
    "transform = transforms.Compose([transforms.ToTensor()])\n",
    "\n",
    "train_dataset = torchvision.datasets.FashionMNIST(\n",
    "    root='./data', \n",
    "    train=True, \n",
    "    download=True,  \n",
    "    transform=transform\n",
    ")\n",
    "\n",
    "test_dataset = torchvision.datasets.FashionMNIST(\n",
    "    root='./data', \n",
    "    train=False, \n",
    "    download=True, \n",
    "    transform=transform\n",
    ")"
   ]
  },
  {
   "cell_type": "markdown",
   "id": "c610100f",
   "metadata": {},
   "source": [
    "### Prepare each dataset for training and testing"
   ]
  },
  {
   "cell_type": "code",
   "execution_count": null,
   "id": "43f1c124",
   "metadata": {},
   "outputs": [],
   "source": [
    "# Convert train_dataset to DataFrame\n",
    "train_images = []\n",
    "train_labels = []\n",
    "\n",
    "for img, label in train_dataset:\n",
    "    train_images.append(img.numpy().flatten())\n",
    "    train_labels.append(label)\n",
    "\n",
    "df_train_fashion = pd.DataFrame(train_images)\n",
    "df_train_fashion['label'] = train_labels\n",
    "\n",
    "# Convert test_dataset to DataFrame\n",
    "test_images = []\n",
    "test_labels = []\n",
    "\n",
    "for img, label in test_dataset:\n",
    "    test_images.append(img.numpy().flatten())\n",
    "    test_labels.append(label)\n",
    "\n",
    "df_test_fashion = pd.DataFrame(test_images)\n",
    "df_test_fashion['label'] = test_labels"
   ]
  }
 ],
 "metadata": {
  "kernelspec": {
   "display_name": ".venv",
   "language": "python",
   "name": "python3"
  },
  "language_info": {
   "codemirror_mode": {
    "name": "ipython",
    "version": 3
   },
   "file_extension": ".py",
   "mimetype": "text/x-python",
   "name": "python",
   "nbconvert_exporter": "python",
   "pygments_lexer": "ipython3",
   "version": "3.12.3"
  }
 },
 "nbformat": 4,
 "nbformat_minor": 5
}
