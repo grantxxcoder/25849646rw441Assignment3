{
 "cells": [
  {
   "cell_type": "code",
   "execution_count": 1,
   "id": "0863bf76",
   "metadata": {},
   "outputs": [
    {
     "name": "stdout",
     "output_type": "stream",
     "text": [
      "Using device: cpu\n"
     ]
    }
   ],
   "source": [
    "import numpy as np \n",
    "import matplotlib.pyplot as plt\n",
    "from matplotlib import rcParams\n",
    "import pandas as pd\n",
    "import seaborn as sns\n",
    "import os\n",
    "\n",
    "from sklearn.datasets import fetch_covtype\n",
    "import torchvision\n",
    "import torchvision.transforms as transforms\n",
    "import torch\n",
    "\n",
    "from sklearn.neural_network import MLPClassifier\n",
    "from sklearn.metrics import classification_report, accuracy_score, f1_score, confusion_matrix, precision_score, recall_score\n",
    "from sklearn.model_selection import GridSearchCV\n",
    "\n",
    "from sklearn.preprocessing import StandardScaler\n",
    "from sklearn.model_selection import train_test_split\n",
    "\n",
    "import tqdm\n",
    "from baselineClassifierNN import SimpleMLP\n",
    "from DynamicClassifierNN import DynamicMLP\n",
    "\n",
    "import torch\n",
    "import torch.nn as nn\n",
    "import torch.optim as optim\n",
    "from sklearn.metrics import accuracy_score\n",
    "from itertools import product\n",
    "\n",
    "\n",
    "device = torch.device(\"cuda\" if torch.cuda.is_available() else \"cpu\")\n",
    "print(\"Using device:\", device)"
   ]
  },
  {
   "cell_type": "code",
   "execution_count": 2,
   "id": "5e32572d",
   "metadata": {},
   "outputs": [],
   "source": [
    "rcParams['font.family'] = 'sans-serif'\n",
    "rcParams['font.sans-serif'] = ['Arial', 'DejaVu Sans', 'Liberation Sans']\n",
    "rcParams['axes.labelsize'] = 12  # Academic font size for axis labels\n",
    "rcParams['xtick.labelsize'] = 10\n",
    "rcParams['ytick.labelsize'] = 10\n",
    "rcParams['axes.titlesize'] = 14\n",
    "figsize = (8, 6) "
   ]
  },
  {
   "cell_type": "code",
   "execution_count": 3,
   "id": "315319d4",
   "metadata": {},
   "outputs": [],
   "source": [
    "data_dir = \"../data\"\n",
    "results_dir = \"../results\""
   ]
  },
  {
   "cell_type": "markdown",
   "id": "df7738c6",
   "metadata": {},
   "source": [
    "# Get datasets section"
   ]
  },
  {
   "cell_type": "markdown",
   "id": "596bea83",
   "metadata": {},
   "source": [
    "### Covtype dataset"
   ]
  },
  {
   "cell_type": "code",
   "execution_count": 4,
   "id": "7fe394e7",
   "metadata": {},
   "outputs": [
    {
     "name": "stdout",
     "output_type": "stream",
     "text": [
      "Covtype dataset loaded.\n",
      "Covtype features shape: (581012, 55), Covtype labels shape: (581012,)\n"
     ]
    }
   ],
   "source": [
    "data_cov = fetch_covtype(as_frame=True)\n",
    "df_covtype = data_cov.frame \n",
    "\n",
    "df_covtype['Cover_Type'] = df_covtype['Cover_Type'] - 1\n",
    "df_covtype['Aspect_sin'] = np.sin(np.deg2rad(df_covtype['Aspect']))\n",
    "df_covtype['Aspect_cos'] = np.cos(np.deg2rad(df_covtype['Aspect']))\n",
    "df_covtype = df_covtype.drop(columns=['Aspect'])\n",
    "\n",
    "\n",
    "X_cov_type = df_covtype.drop('Cover_Type', axis=1).values\n",
    "y_cov_type = df_covtype['Cover_Type'].values\n",
    "\n",
    "print(\"Covtype dataset loaded.\")\n",
    "print(f\"Covtype features shape: {X_cov_type.shape}, Covtype labels shape: {y_cov_type.shape}\")"
   ]
  },
  {
   "cell_type": "code",
   "execution_count": 5,
   "id": "47ba6a88",
   "metadata": {},
   "outputs": [
    {
     "data": {
      "application/vnd.microsoft.datawrangler.viewer.v0+json": {
       "columns": [
        {
         "name": "index",
         "rawType": "int64",
         "type": "integer"
        },
        {
         "name": "Elevation",
         "rawType": "float64",
         "type": "float"
        },
        {
         "name": "Slope",
         "rawType": "float64",
         "type": "float"
        },
        {
         "name": "Horizontal_Distance_To_Hydrology",
         "rawType": "float64",
         "type": "float"
        },
        {
         "name": "Vertical_Distance_To_Hydrology",
         "rawType": "float64",
         "type": "float"
        },
        {
         "name": "Horizontal_Distance_To_Roadways",
         "rawType": "float64",
         "type": "float"
        },
        {
         "name": "Hillshade_9am",
         "rawType": "float64",
         "type": "float"
        },
        {
         "name": "Hillshade_Noon",
         "rawType": "float64",
         "type": "float"
        },
        {
         "name": "Hillshade_3pm",
         "rawType": "float64",
         "type": "float"
        },
        {
         "name": "Horizontal_Distance_To_Fire_Points",
         "rawType": "float64",
         "type": "float"
        },
        {
         "name": "Wilderness_Area_0",
         "rawType": "float64",
         "type": "float"
        },
        {
         "name": "Wilderness_Area_1",
         "rawType": "float64",
         "type": "float"
        },
        {
         "name": "Wilderness_Area_2",
         "rawType": "float64",
         "type": "float"
        },
        {
         "name": "Wilderness_Area_3",
         "rawType": "float64",
         "type": "float"
        },
        {
         "name": "Soil_Type_0",
         "rawType": "float64",
         "type": "float"
        },
        {
         "name": "Soil_Type_1",
         "rawType": "float64",
         "type": "float"
        },
        {
         "name": "Soil_Type_2",
         "rawType": "float64",
         "type": "float"
        },
        {
         "name": "Soil_Type_3",
         "rawType": "float64",
         "type": "float"
        },
        {
         "name": "Soil_Type_4",
         "rawType": "float64",
         "type": "float"
        },
        {
         "name": "Soil_Type_5",
         "rawType": "float64",
         "type": "float"
        },
        {
         "name": "Soil_Type_6",
         "rawType": "float64",
         "type": "float"
        },
        {
         "name": "Soil_Type_7",
         "rawType": "float64",
         "type": "float"
        },
        {
         "name": "Soil_Type_8",
         "rawType": "float64",
         "type": "float"
        },
        {
         "name": "Soil_Type_9",
         "rawType": "float64",
         "type": "float"
        },
        {
         "name": "Soil_Type_10",
         "rawType": "float64",
         "type": "float"
        },
        {
         "name": "Soil_Type_11",
         "rawType": "float64",
         "type": "float"
        },
        {
         "name": "Soil_Type_12",
         "rawType": "float64",
         "type": "float"
        },
        {
         "name": "Soil_Type_13",
         "rawType": "float64",
         "type": "float"
        },
        {
         "name": "Soil_Type_14",
         "rawType": "float64",
         "type": "float"
        },
        {
         "name": "Soil_Type_15",
         "rawType": "float64",
         "type": "float"
        },
        {
         "name": "Soil_Type_16",
         "rawType": "float64",
         "type": "float"
        },
        {
         "name": "Soil_Type_17",
         "rawType": "float64",
         "type": "float"
        },
        {
         "name": "Soil_Type_18",
         "rawType": "float64",
         "type": "float"
        },
        {
         "name": "Soil_Type_19",
         "rawType": "float64",
         "type": "float"
        },
        {
         "name": "Soil_Type_20",
         "rawType": "float64",
         "type": "float"
        },
        {
         "name": "Soil_Type_21",
         "rawType": "float64",
         "type": "float"
        },
        {
         "name": "Soil_Type_22",
         "rawType": "float64",
         "type": "float"
        },
        {
         "name": "Soil_Type_23",
         "rawType": "float64",
         "type": "float"
        },
        {
         "name": "Soil_Type_24",
         "rawType": "float64",
         "type": "float"
        },
        {
         "name": "Soil_Type_25",
         "rawType": "float64",
         "type": "float"
        },
        {
         "name": "Soil_Type_26",
         "rawType": "float64",
         "type": "float"
        },
        {
         "name": "Soil_Type_27",
         "rawType": "float64",
         "type": "float"
        },
        {
         "name": "Soil_Type_28",
         "rawType": "float64",
         "type": "float"
        },
        {
         "name": "Soil_Type_29",
         "rawType": "float64",
         "type": "float"
        },
        {
         "name": "Soil_Type_30",
         "rawType": "float64",
         "type": "float"
        },
        {
         "name": "Soil_Type_31",
         "rawType": "float64",
         "type": "float"
        },
        {
         "name": "Soil_Type_32",
         "rawType": "float64",
         "type": "float"
        },
        {
         "name": "Soil_Type_33",
         "rawType": "float64",
         "type": "float"
        },
        {
         "name": "Soil_Type_34",
         "rawType": "float64",
         "type": "float"
        },
        {
         "name": "Soil_Type_35",
         "rawType": "float64",
         "type": "float"
        },
        {
         "name": "Soil_Type_36",
         "rawType": "float64",
         "type": "float"
        },
        {
         "name": "Soil_Type_37",
         "rawType": "float64",
         "type": "float"
        },
        {
         "name": "Soil_Type_38",
         "rawType": "float64",
         "type": "float"
        },
        {
         "name": "Soil_Type_39",
         "rawType": "float64",
         "type": "float"
        },
        {
         "name": "Cover_Type",
         "rawType": "int32",
         "type": "integer"
        },
        {
         "name": "Aspect_sin",
         "rawType": "float64",
         "type": "float"
        },
        {
         "name": "Aspect_cos",
         "rawType": "float64",
         "type": "float"
        }
       ],
       "ref": "5ba0bfa0-c8ed-4dc6-a4ca-93b6badd8c5a",
       "rows": [
        [
         "0",
         "2596.0",
         "3.0",
         "258.0",
         "0.0",
         "510.0",
         "221.0",
         "232.0",
         "148.0",
         "6279.0",
         "1.0",
         "0.0",
         "0.0",
         "0.0",
         "0.0",
         "0.0",
         "0.0",
         "0.0",
         "0.0",
         "0.0",
         "0.0",
         "0.0",
         "0.0",
         "0.0",
         "0.0",
         "0.0",
         "0.0",
         "0.0",
         "0.0",
         "0.0",
         "0.0",
         "0.0",
         "0.0",
         "0.0",
         "0.0",
         "0.0",
         "0.0",
         "0.0",
         "0.0",
         "0.0",
         "0.0",
         "0.0",
         "1.0",
         "0.0",
         "0.0",
         "0.0",
         "0.0",
         "0.0",
         "0.0",
         "0.0",
         "0.0",
         "0.0",
         "0.0",
         "0.0",
         "4",
         "0.7771459614569709",
         "0.6293203910498375"
        ],
        [
         "1",
         "2590.0",
         "2.0",
         "212.0",
         "-6.0",
         "390.0",
         "220.0",
         "235.0",
         "151.0",
         "6225.0",
         "1.0",
         "0.0",
         "0.0",
         "0.0",
         "0.0",
         "0.0",
         "0.0",
         "0.0",
         "0.0",
         "0.0",
         "0.0",
         "0.0",
         "0.0",
         "0.0",
         "0.0",
         "0.0",
         "0.0",
         "0.0",
         "0.0",
         "0.0",
         "0.0",
         "0.0",
         "0.0",
         "0.0",
         "0.0",
         "0.0",
         "0.0",
         "0.0",
         "0.0",
         "0.0",
         "0.0",
         "0.0",
         "1.0",
         "0.0",
         "0.0",
         "0.0",
         "0.0",
         "0.0",
         "0.0",
         "0.0",
         "0.0",
         "0.0",
         "0.0",
         "0.0",
         "4",
         "0.8290375725550417",
         "0.5591929034707468"
        ],
        [
         "2",
         "2804.0",
         "9.0",
         "268.0",
         "65.0",
         "3180.0",
         "234.0",
         "238.0",
         "135.0",
         "6121.0",
         "1.0",
         "0.0",
         "0.0",
         "0.0",
         "0.0",
         "0.0",
         "0.0",
         "0.0",
         "0.0",
         "0.0",
         "0.0",
         "0.0",
         "0.0",
         "0.0",
         "0.0",
         "1.0",
         "0.0",
         "0.0",
         "0.0",
         "0.0",
         "0.0",
         "0.0",
         "0.0",
         "0.0",
         "0.0",
         "0.0",
         "0.0",
         "0.0",
         "0.0",
         "0.0",
         "0.0",
         "0.0",
         "0.0",
         "0.0",
         "0.0",
         "0.0",
         "0.0",
         "0.0",
         "0.0",
         "0.0",
         "0.0",
         "0.0",
         "0.0",
         "0.0",
         "1",
         "0.6560590289905073",
         "-0.754709580222772"
        ],
        [
         "3",
         "2785.0",
         "18.0",
         "242.0",
         "118.0",
         "3090.0",
         "238.0",
         "238.0",
         "122.0",
         "6211.0",
         "1.0",
         "0.0",
         "0.0",
         "0.0",
         "0.0",
         "0.0",
         "0.0",
         "0.0",
         "0.0",
         "0.0",
         "0.0",
         "0.0",
         "0.0",
         "0.0",
         "0.0",
         "0.0",
         "0.0",
         "0.0",
         "0.0",
         "0.0",
         "0.0",
         "0.0",
         "0.0",
         "0.0",
         "0.0",
         "0.0",
         "0.0",
         "0.0",
         "0.0",
         "0.0",
         "0.0",
         "0.0",
         "0.0",
         "1.0",
         "0.0",
         "0.0",
         "0.0",
         "0.0",
         "0.0",
         "0.0",
         "0.0",
         "0.0",
         "0.0",
         "0.0",
         "1",
         "0.4226182617406995",
         "-0.9063077870366499"
        ],
        [
         "4",
         "2595.0",
         "2.0",
         "153.0",
         "-1.0",
         "391.0",
         "220.0",
         "234.0",
         "150.0",
         "6172.0",
         "1.0",
         "0.0",
         "0.0",
         "0.0",
         "0.0",
         "0.0",
         "0.0",
         "0.0",
         "0.0",
         "0.0",
         "0.0",
         "0.0",
         "0.0",
         "0.0",
         "0.0",
         "0.0",
         "0.0",
         "0.0",
         "0.0",
         "0.0",
         "0.0",
         "0.0",
         "0.0",
         "0.0",
         "0.0",
         "0.0",
         "0.0",
         "0.0",
         "0.0",
         "0.0",
         "0.0",
         "0.0",
         "1.0",
         "0.0",
         "0.0",
         "0.0",
         "0.0",
         "0.0",
         "0.0",
         "0.0",
         "0.0",
         "0.0",
         "0.0",
         "0.0",
         "4",
         "0.7071067811865475",
         "0.7071067811865476"
        ]
       ],
       "shape": {
        "columns": 56,
        "rows": 5
       }
      },
      "text/html": [
       "<div>\n",
       "<style scoped>\n",
       "    .dataframe tbody tr th:only-of-type {\n",
       "        vertical-align: middle;\n",
       "    }\n",
       "\n",
       "    .dataframe tbody tr th {\n",
       "        vertical-align: top;\n",
       "    }\n",
       "\n",
       "    .dataframe thead th {\n",
       "        text-align: right;\n",
       "    }\n",
       "</style>\n",
       "<table border=\"1\" class=\"dataframe\">\n",
       "  <thead>\n",
       "    <tr style=\"text-align: right;\">\n",
       "      <th></th>\n",
       "      <th>Elevation</th>\n",
       "      <th>Slope</th>\n",
       "      <th>Horizontal_Distance_To_Hydrology</th>\n",
       "      <th>Vertical_Distance_To_Hydrology</th>\n",
       "      <th>Horizontal_Distance_To_Roadways</th>\n",
       "      <th>Hillshade_9am</th>\n",
       "      <th>Hillshade_Noon</th>\n",
       "      <th>Hillshade_3pm</th>\n",
       "      <th>Horizontal_Distance_To_Fire_Points</th>\n",
       "      <th>Wilderness_Area_0</th>\n",
       "      <th>...</th>\n",
       "      <th>Soil_Type_33</th>\n",
       "      <th>Soil_Type_34</th>\n",
       "      <th>Soil_Type_35</th>\n",
       "      <th>Soil_Type_36</th>\n",
       "      <th>Soil_Type_37</th>\n",
       "      <th>Soil_Type_38</th>\n",
       "      <th>Soil_Type_39</th>\n",
       "      <th>Cover_Type</th>\n",
       "      <th>Aspect_sin</th>\n",
       "      <th>Aspect_cos</th>\n",
       "    </tr>\n",
       "  </thead>\n",
       "  <tbody>\n",
       "    <tr>\n",
       "      <th>0</th>\n",
       "      <td>2596.0</td>\n",
       "      <td>3.0</td>\n",
       "      <td>258.0</td>\n",
       "      <td>0.0</td>\n",
       "      <td>510.0</td>\n",
       "      <td>221.0</td>\n",
       "      <td>232.0</td>\n",
       "      <td>148.0</td>\n",
       "      <td>6279.0</td>\n",
       "      <td>1.0</td>\n",
       "      <td>...</td>\n",
       "      <td>0.0</td>\n",
       "      <td>0.0</td>\n",
       "      <td>0.0</td>\n",
       "      <td>0.0</td>\n",
       "      <td>0.0</td>\n",
       "      <td>0.0</td>\n",
       "      <td>0.0</td>\n",
       "      <td>4</td>\n",
       "      <td>0.777146</td>\n",
       "      <td>0.629320</td>\n",
       "    </tr>\n",
       "    <tr>\n",
       "      <th>1</th>\n",
       "      <td>2590.0</td>\n",
       "      <td>2.0</td>\n",
       "      <td>212.0</td>\n",
       "      <td>-6.0</td>\n",
       "      <td>390.0</td>\n",
       "      <td>220.0</td>\n",
       "      <td>235.0</td>\n",
       "      <td>151.0</td>\n",
       "      <td>6225.0</td>\n",
       "      <td>1.0</td>\n",
       "      <td>...</td>\n",
       "      <td>0.0</td>\n",
       "      <td>0.0</td>\n",
       "      <td>0.0</td>\n",
       "      <td>0.0</td>\n",
       "      <td>0.0</td>\n",
       "      <td>0.0</td>\n",
       "      <td>0.0</td>\n",
       "      <td>4</td>\n",
       "      <td>0.829038</td>\n",
       "      <td>0.559193</td>\n",
       "    </tr>\n",
       "    <tr>\n",
       "      <th>2</th>\n",
       "      <td>2804.0</td>\n",
       "      <td>9.0</td>\n",
       "      <td>268.0</td>\n",
       "      <td>65.0</td>\n",
       "      <td>3180.0</td>\n",
       "      <td>234.0</td>\n",
       "      <td>238.0</td>\n",
       "      <td>135.0</td>\n",
       "      <td>6121.0</td>\n",
       "      <td>1.0</td>\n",
       "      <td>...</td>\n",
       "      <td>0.0</td>\n",
       "      <td>0.0</td>\n",
       "      <td>0.0</td>\n",
       "      <td>0.0</td>\n",
       "      <td>0.0</td>\n",
       "      <td>0.0</td>\n",
       "      <td>0.0</td>\n",
       "      <td>1</td>\n",
       "      <td>0.656059</td>\n",
       "      <td>-0.754710</td>\n",
       "    </tr>\n",
       "    <tr>\n",
       "      <th>3</th>\n",
       "      <td>2785.0</td>\n",
       "      <td>18.0</td>\n",
       "      <td>242.0</td>\n",
       "      <td>118.0</td>\n",
       "      <td>3090.0</td>\n",
       "      <td>238.0</td>\n",
       "      <td>238.0</td>\n",
       "      <td>122.0</td>\n",
       "      <td>6211.0</td>\n",
       "      <td>1.0</td>\n",
       "      <td>...</td>\n",
       "      <td>0.0</td>\n",
       "      <td>0.0</td>\n",
       "      <td>0.0</td>\n",
       "      <td>0.0</td>\n",
       "      <td>0.0</td>\n",
       "      <td>0.0</td>\n",
       "      <td>0.0</td>\n",
       "      <td>1</td>\n",
       "      <td>0.422618</td>\n",
       "      <td>-0.906308</td>\n",
       "    </tr>\n",
       "    <tr>\n",
       "      <th>4</th>\n",
       "      <td>2595.0</td>\n",
       "      <td>2.0</td>\n",
       "      <td>153.0</td>\n",
       "      <td>-1.0</td>\n",
       "      <td>391.0</td>\n",
       "      <td>220.0</td>\n",
       "      <td>234.0</td>\n",
       "      <td>150.0</td>\n",
       "      <td>6172.0</td>\n",
       "      <td>1.0</td>\n",
       "      <td>...</td>\n",
       "      <td>0.0</td>\n",
       "      <td>0.0</td>\n",
       "      <td>0.0</td>\n",
       "      <td>0.0</td>\n",
       "      <td>0.0</td>\n",
       "      <td>0.0</td>\n",
       "      <td>0.0</td>\n",
       "      <td>4</td>\n",
       "      <td>0.707107</td>\n",
       "      <td>0.707107</td>\n",
       "    </tr>\n",
       "  </tbody>\n",
       "</table>\n",
       "<p>5 rows × 56 columns</p>\n",
       "</div>"
      ],
      "text/plain": [
       "   Elevation  Slope  Horizontal_Distance_To_Hydrology  \\\n",
       "0     2596.0    3.0                             258.0   \n",
       "1     2590.0    2.0                             212.0   \n",
       "2     2804.0    9.0                             268.0   \n",
       "3     2785.0   18.0                             242.0   \n",
       "4     2595.0    2.0                             153.0   \n",
       "\n",
       "   Vertical_Distance_To_Hydrology  Horizontal_Distance_To_Roadways  \\\n",
       "0                             0.0                            510.0   \n",
       "1                            -6.0                            390.0   \n",
       "2                            65.0                           3180.0   \n",
       "3                           118.0                           3090.0   \n",
       "4                            -1.0                            391.0   \n",
       "\n",
       "   Hillshade_9am  Hillshade_Noon  Hillshade_3pm  \\\n",
       "0          221.0           232.0          148.0   \n",
       "1          220.0           235.0          151.0   \n",
       "2          234.0           238.0          135.0   \n",
       "3          238.0           238.0          122.0   \n",
       "4          220.0           234.0          150.0   \n",
       "\n",
       "   Horizontal_Distance_To_Fire_Points  Wilderness_Area_0  ...  Soil_Type_33  \\\n",
       "0                              6279.0                1.0  ...           0.0   \n",
       "1                              6225.0                1.0  ...           0.0   \n",
       "2                              6121.0                1.0  ...           0.0   \n",
       "3                              6211.0                1.0  ...           0.0   \n",
       "4                              6172.0                1.0  ...           0.0   \n",
       "\n",
       "   Soil_Type_34  Soil_Type_35  Soil_Type_36  Soil_Type_37  Soil_Type_38  \\\n",
       "0           0.0           0.0           0.0           0.0           0.0   \n",
       "1           0.0           0.0           0.0           0.0           0.0   \n",
       "2           0.0           0.0           0.0           0.0           0.0   \n",
       "3           0.0           0.0           0.0           0.0           0.0   \n",
       "4           0.0           0.0           0.0           0.0           0.0   \n",
       "\n",
       "   Soil_Type_39  Cover_Type  Aspect_sin  Aspect_cos  \n",
       "0           0.0           4    0.777146    0.629320  \n",
       "1           0.0           4    0.829038    0.559193  \n",
       "2           0.0           1    0.656059   -0.754710  \n",
       "3           0.0           1    0.422618   -0.906308  \n",
       "4           0.0           4    0.707107    0.707107  \n",
       "\n",
       "[5 rows x 56 columns]"
      ]
     },
     "execution_count": 5,
     "metadata": {},
     "output_type": "execute_result"
    }
   ],
   "source": [
    "df_covtype.head()"
   ]
  },
  {
   "cell_type": "markdown",
   "id": "0917baad",
   "metadata": {},
   "source": [
    "### Fashion-MNIST dataset"
   ]
  },
  {
   "cell_type": "code",
   "execution_count": 6,
   "id": "5b5ed01a",
   "metadata": {},
   "outputs": [
    {
     "name": "stdout",
     "output_type": "stream",
     "text": [
      "Fashion-MNIST dataset loaded.\n",
      "Fashion-MNIST train shape: (60000, 785), Fashion-MNIST test shape: (10000, 785)\n"
     ]
    },
    {
     "data": {
      "application/vnd.microsoft.datawrangler.viewer.v0+json": {
       "columns": [
        {
         "name": "index",
         "rawType": "int64",
         "type": "integer"
        },
        {
         "name": "0",
         "rawType": "float32",
         "type": "float"
        },
        {
         "name": "1",
         "rawType": "float32",
         "type": "float"
        },
        {
         "name": "2",
         "rawType": "float32",
         "type": "float"
        },
        {
         "name": "3",
         "rawType": "float32",
         "type": "float"
        },
        {
         "name": "4",
         "rawType": "float32",
         "type": "float"
        },
        {
         "name": "5",
         "rawType": "float32",
         "type": "float"
        },
        {
         "name": "6",
         "rawType": "float32",
         "type": "float"
        },
        {
         "name": "7",
         "rawType": "float32",
         "type": "float"
        },
        {
         "name": "8",
         "rawType": "float32",
         "type": "float"
        },
        {
         "name": "9",
         "rawType": "float32",
         "type": "float"
        },
        {
         "name": "10",
         "rawType": "float32",
         "type": "float"
        },
        {
         "name": "11",
         "rawType": "float32",
         "type": "float"
        },
        {
         "name": "12",
         "rawType": "float32",
         "type": "float"
        },
        {
         "name": "13",
         "rawType": "float32",
         "type": "float"
        },
        {
         "name": "14",
         "rawType": "float32",
         "type": "float"
        },
        {
         "name": "15",
         "rawType": "float32",
         "type": "float"
        },
        {
         "name": "16",
         "rawType": "float32",
         "type": "float"
        },
        {
         "name": "17",
         "rawType": "float32",
         "type": "float"
        },
        {
         "name": "18",
         "rawType": "float32",
         "type": "float"
        },
        {
         "name": "19",
         "rawType": "float32",
         "type": "float"
        },
        {
         "name": "20",
         "rawType": "float32",
         "type": "float"
        },
        {
         "name": "21",
         "rawType": "float32",
         "type": "float"
        },
        {
         "name": "22",
         "rawType": "float32",
         "type": "float"
        },
        {
         "name": "23",
         "rawType": "float32",
         "type": "float"
        },
        {
         "name": "24",
         "rawType": "float32",
         "type": "float"
        },
        {
         "name": "25",
         "rawType": "float32",
         "type": "float"
        },
        {
         "name": "26",
         "rawType": "float32",
         "type": "float"
        },
        {
         "name": "27",
         "rawType": "float32",
         "type": "float"
        },
        {
         "name": "28",
         "rawType": "float32",
         "type": "float"
        },
        {
         "name": "29",
         "rawType": "float32",
         "type": "float"
        },
        {
         "name": "30",
         "rawType": "float32",
         "type": "float"
        },
        {
         "name": "31",
         "rawType": "float32",
         "type": "float"
        },
        {
         "name": "32",
         "rawType": "float32",
         "type": "float"
        },
        {
         "name": "33",
         "rawType": "float32",
         "type": "float"
        },
        {
         "name": "34",
         "rawType": "float32",
         "type": "float"
        },
        {
         "name": "35",
         "rawType": "float32",
         "type": "float"
        },
        {
         "name": "36",
         "rawType": "float32",
         "type": "float"
        },
        {
         "name": "37",
         "rawType": "float32",
         "type": "float"
        },
        {
         "name": "38",
         "rawType": "float32",
         "type": "float"
        },
        {
         "name": "39",
         "rawType": "float32",
         "type": "float"
        },
        {
         "name": "40",
         "rawType": "float32",
         "type": "float"
        },
        {
         "name": "41",
         "rawType": "float32",
         "type": "float"
        },
        {
         "name": "42",
         "rawType": "float32",
         "type": "float"
        },
        {
         "name": "43",
         "rawType": "float32",
         "type": "float"
        },
        {
         "name": "44",
         "rawType": "float32",
         "type": "float"
        },
        {
         "name": "45",
         "rawType": "float32",
         "type": "float"
        },
        {
         "name": "46",
         "rawType": "float32",
         "type": "float"
        },
        {
         "name": "47",
         "rawType": "float32",
         "type": "float"
        },
        {
         "name": "48",
         "rawType": "float32",
         "type": "float"
        },
        {
         "name": "49",
         "rawType": "float32",
         "type": "float"
        },
        {
         "name": "50",
         "rawType": "float32",
         "type": "float"
        },
        {
         "name": "51",
         "rawType": "float32",
         "type": "float"
        },
        {
         "name": "52",
         "rawType": "float32",
         "type": "float"
        },
        {
         "name": "53",
         "rawType": "float32",
         "type": "float"
        },
        {
         "name": "54",
         "rawType": "float32",
         "type": "float"
        },
        {
         "name": "55",
         "rawType": "float32",
         "type": "float"
        },
        {
         "name": "56",
         "rawType": "float32",
         "type": "float"
        },
        {
         "name": "57",
         "rawType": "float32",
         "type": "float"
        },
        {
         "name": "58",
         "rawType": "float32",
         "type": "float"
        },
        {
         "name": "59",
         "rawType": "float32",
         "type": "float"
        },
        {
         "name": "60",
         "rawType": "float32",
         "type": "float"
        },
        {
         "name": "61",
         "rawType": "float32",
         "type": "float"
        },
        {
         "name": "62",
         "rawType": "float32",
         "type": "float"
        },
        {
         "name": "63",
         "rawType": "float32",
         "type": "float"
        },
        {
         "name": "64",
         "rawType": "float32",
         "type": "float"
        },
        {
         "name": "65",
         "rawType": "float32",
         "type": "float"
        },
        {
         "name": "66",
         "rawType": "float32",
         "type": "float"
        },
        {
         "name": "67",
         "rawType": "float32",
         "type": "float"
        },
        {
         "name": "68",
         "rawType": "float32",
         "type": "float"
        },
        {
         "name": "69",
         "rawType": "float32",
         "type": "float"
        },
        {
         "name": "70",
         "rawType": "float32",
         "type": "float"
        },
        {
         "name": "71",
         "rawType": "float32",
         "type": "float"
        },
        {
         "name": "72",
         "rawType": "float32",
         "type": "float"
        },
        {
         "name": "73",
         "rawType": "float32",
         "type": "float"
        },
        {
         "name": "74",
         "rawType": "float32",
         "type": "float"
        },
        {
         "name": "75",
         "rawType": "float32",
         "type": "float"
        },
        {
         "name": "76",
         "rawType": "float32",
         "type": "float"
        },
        {
         "name": "77",
         "rawType": "float32",
         "type": "float"
        },
        {
         "name": "78",
         "rawType": "float32",
         "type": "float"
        },
        {
         "name": "79",
         "rawType": "float32",
         "type": "float"
        },
        {
         "name": "80",
         "rawType": "float32",
         "type": "float"
        },
        {
         "name": "81",
         "rawType": "float32",
         "type": "float"
        },
        {
         "name": "82",
         "rawType": "float32",
         "type": "float"
        },
        {
         "name": "83",
         "rawType": "float32",
         "type": "float"
        },
        {
         "name": "84",
         "rawType": "float32",
         "type": "float"
        },
        {
         "name": "85",
         "rawType": "float32",
         "type": "float"
        },
        {
         "name": "86",
         "rawType": "float32",
         "type": "float"
        },
        {
         "name": "87",
         "rawType": "float32",
         "type": "float"
        },
        {
         "name": "88",
         "rawType": "float32",
         "type": "float"
        },
        {
         "name": "89",
         "rawType": "float32",
         "type": "float"
        },
        {
         "name": "90",
         "rawType": "float32",
         "type": "float"
        },
        {
         "name": "91",
         "rawType": "float32",
         "type": "float"
        },
        {
         "name": "92",
         "rawType": "float32",
         "type": "float"
        },
        {
         "name": "93",
         "rawType": "float32",
         "type": "float"
        },
        {
         "name": "94",
         "rawType": "float32",
         "type": "float"
        },
        {
         "name": "95",
         "rawType": "float32",
         "type": "float"
        },
        {
         "name": "96",
         "rawType": "float32",
         "type": "float"
        },
        {
         "name": "97",
         "rawType": "float32",
         "type": "float"
        },
        {
         "name": "98",
         "rawType": "float32",
         "type": "float"
        },
        {
         "name": "99",
         "rawType": "float32",
         "type": "float"
        },
        {
         "name": "100",
         "rawType": "float32",
         "type": "float"
        },
        {
         "name": "101",
         "rawType": "float32",
         "type": "float"
        },
        {
         "name": "102",
         "rawType": "float32",
         "type": "float"
        },
        {
         "name": "103",
         "rawType": "float32",
         "type": "float"
        },
        {
         "name": "104",
         "rawType": "float32",
         "type": "float"
        },
        {
         "name": "105",
         "rawType": "float32",
         "type": "float"
        },
        {
         "name": "106",
         "rawType": "float32",
         "type": "float"
        },
        {
         "name": "107",
         "rawType": "float32",
         "type": "float"
        },
        {
         "name": "108",
         "rawType": "float32",
         "type": "float"
        },
        {
         "name": "109",
         "rawType": "float32",
         "type": "float"
        },
        {
         "name": "110",
         "rawType": "float32",
         "type": "float"
        },
        {
         "name": "111",
         "rawType": "float32",
         "type": "float"
        },
        {
         "name": "112",
         "rawType": "float32",
         "type": "float"
        },
        {
         "name": "113",
         "rawType": "float32",
         "type": "float"
        },
        {
         "name": "114",
         "rawType": "float32",
         "type": "float"
        },
        {
         "name": "115",
         "rawType": "float32",
         "type": "float"
        },
        {
         "name": "116",
         "rawType": "float32",
         "type": "float"
        },
        {
         "name": "117",
         "rawType": "float32",
         "type": "float"
        },
        {
         "name": "118",
         "rawType": "float32",
         "type": "float"
        },
        {
         "name": "119",
         "rawType": "float32",
         "type": "float"
        },
        {
         "name": "120",
         "rawType": "float32",
         "type": "float"
        },
        {
         "name": "121",
         "rawType": "float32",
         "type": "float"
        },
        {
         "name": "122",
         "rawType": "float32",
         "type": "float"
        },
        {
         "name": "123",
         "rawType": "float32",
         "type": "float"
        },
        {
         "name": "124",
         "rawType": "float32",
         "type": "float"
        },
        {
         "name": "125",
         "rawType": "float32",
         "type": "float"
        },
        {
         "name": "126",
         "rawType": "float32",
         "type": "float"
        },
        {
         "name": "127",
         "rawType": "float32",
         "type": "float"
        },
        {
         "name": "128",
         "rawType": "float32",
         "type": "float"
        },
        {
         "name": "129",
         "rawType": "float32",
         "type": "float"
        },
        {
         "name": "130",
         "rawType": "float32",
         "type": "float"
        },
        {
         "name": "131",
         "rawType": "float32",
         "type": "float"
        },
        {
         "name": "132",
         "rawType": "float32",
         "type": "float"
        },
        {
         "name": "133",
         "rawType": "float32",
         "type": "float"
        },
        {
         "name": "134",
         "rawType": "float32",
         "type": "float"
        },
        {
         "name": "135",
         "rawType": "float32",
         "type": "float"
        },
        {
         "name": "136",
         "rawType": "float32",
         "type": "float"
        },
        {
         "name": "137",
         "rawType": "float32",
         "type": "float"
        },
        {
         "name": "138",
         "rawType": "float32",
         "type": "float"
        },
        {
         "name": "139",
         "rawType": "float32",
         "type": "float"
        },
        {
         "name": "140",
         "rawType": "float32",
         "type": "float"
        },
        {
         "name": "141",
         "rawType": "float32",
         "type": "float"
        },
        {
         "name": "142",
         "rawType": "float32",
         "type": "float"
        },
        {
         "name": "143",
         "rawType": "float32",
         "type": "float"
        },
        {
         "name": "144",
         "rawType": "float32",
         "type": "float"
        },
        {
         "name": "145",
         "rawType": "float32",
         "type": "float"
        },
        {
         "name": "146",
         "rawType": "float32",
         "type": "float"
        },
        {
         "name": "147",
         "rawType": "float32",
         "type": "float"
        },
        {
         "name": "148",
         "rawType": "float32",
         "type": "float"
        },
        {
         "name": "149",
         "rawType": "float32",
         "type": "float"
        },
        {
         "name": "150",
         "rawType": "float32",
         "type": "float"
        },
        {
         "name": "151",
         "rawType": "float32",
         "type": "float"
        },
        {
         "name": "152",
         "rawType": "float32",
         "type": "float"
        },
        {
         "name": "153",
         "rawType": "float32",
         "type": "float"
        },
        {
         "name": "154",
         "rawType": "float32",
         "type": "float"
        },
        {
         "name": "155",
         "rawType": "float32",
         "type": "float"
        },
        {
         "name": "156",
         "rawType": "float32",
         "type": "float"
        },
        {
         "name": "157",
         "rawType": "float32",
         "type": "float"
        },
        {
         "name": "158",
         "rawType": "float32",
         "type": "float"
        },
        {
         "name": "159",
         "rawType": "float32",
         "type": "float"
        },
        {
         "name": "160",
         "rawType": "float32",
         "type": "float"
        },
        {
         "name": "161",
         "rawType": "float32",
         "type": "float"
        },
        {
         "name": "162",
         "rawType": "float32",
         "type": "float"
        },
        {
         "name": "163",
         "rawType": "float32",
         "type": "float"
        },
        {
         "name": "164",
         "rawType": "float32",
         "type": "float"
        },
        {
         "name": "165",
         "rawType": "float32",
         "type": "float"
        },
        {
         "name": "166",
         "rawType": "float32",
         "type": "float"
        },
        {
         "name": "167",
         "rawType": "float32",
         "type": "float"
        },
        {
         "name": "168",
         "rawType": "float32",
         "type": "float"
        },
        {
         "name": "169",
         "rawType": "float32",
         "type": "float"
        },
        {
         "name": "170",
         "rawType": "float32",
         "type": "float"
        },
        {
         "name": "171",
         "rawType": "float32",
         "type": "float"
        },
        {
         "name": "172",
         "rawType": "float32",
         "type": "float"
        },
        {
         "name": "173",
         "rawType": "float32",
         "type": "float"
        },
        {
         "name": "174",
         "rawType": "float32",
         "type": "float"
        },
        {
         "name": "175",
         "rawType": "float32",
         "type": "float"
        },
        {
         "name": "176",
         "rawType": "float32",
         "type": "float"
        },
        {
         "name": "177",
         "rawType": "float32",
         "type": "float"
        },
        {
         "name": "178",
         "rawType": "float32",
         "type": "float"
        },
        {
         "name": "179",
         "rawType": "float32",
         "type": "float"
        },
        {
         "name": "180",
         "rawType": "float32",
         "type": "float"
        },
        {
         "name": "181",
         "rawType": "float32",
         "type": "float"
        },
        {
         "name": "182",
         "rawType": "float32",
         "type": "float"
        },
        {
         "name": "183",
         "rawType": "float32",
         "type": "float"
        },
        {
         "name": "184",
         "rawType": "float32",
         "type": "float"
        },
        {
         "name": "185",
         "rawType": "float32",
         "type": "float"
        },
        {
         "name": "186",
         "rawType": "float32",
         "type": "float"
        },
        {
         "name": "187",
         "rawType": "float32",
         "type": "float"
        },
        {
         "name": "188",
         "rawType": "float32",
         "type": "float"
        },
        {
         "name": "189",
         "rawType": "float32",
         "type": "float"
        },
        {
         "name": "190",
         "rawType": "float32",
         "type": "float"
        },
        {
         "name": "191",
         "rawType": "float32",
         "type": "float"
        },
        {
         "name": "192",
         "rawType": "float32",
         "type": "float"
        },
        {
         "name": "193",
         "rawType": "float32",
         "type": "float"
        },
        {
         "name": "194",
         "rawType": "float32",
         "type": "float"
        },
        {
         "name": "195",
         "rawType": "float32",
         "type": "float"
        },
        {
         "name": "196",
         "rawType": "float32",
         "type": "float"
        },
        {
         "name": "197",
         "rawType": "float32",
         "type": "float"
        },
        {
         "name": "198",
         "rawType": "float32",
         "type": "float"
        },
        {
         "name": "199",
         "rawType": "float32",
         "type": "float"
        },
        {
         "name": "200",
         "rawType": "float32",
         "type": "float"
        },
        {
         "name": "201",
         "rawType": "float32",
         "type": "float"
        },
        {
         "name": "202",
         "rawType": "float32",
         "type": "float"
        },
        {
         "name": "203",
         "rawType": "float32",
         "type": "float"
        },
        {
         "name": "204",
         "rawType": "float32",
         "type": "float"
        },
        {
         "name": "205",
         "rawType": "float32",
         "type": "float"
        },
        {
         "name": "206",
         "rawType": "float32",
         "type": "float"
        },
        {
         "name": "207",
         "rawType": "float32",
         "type": "float"
        },
        {
         "name": "208",
         "rawType": "float32",
         "type": "float"
        },
        {
         "name": "209",
         "rawType": "float32",
         "type": "float"
        },
        {
         "name": "210",
         "rawType": "float32",
         "type": "float"
        },
        {
         "name": "211",
         "rawType": "float32",
         "type": "float"
        },
        {
         "name": "212",
         "rawType": "float32",
         "type": "float"
        },
        {
         "name": "213",
         "rawType": "float32",
         "type": "float"
        },
        {
         "name": "214",
         "rawType": "float32",
         "type": "float"
        },
        {
         "name": "215",
         "rawType": "float32",
         "type": "float"
        },
        {
         "name": "216",
         "rawType": "float32",
         "type": "float"
        },
        {
         "name": "217",
         "rawType": "float32",
         "type": "float"
        },
        {
         "name": "218",
         "rawType": "float32",
         "type": "float"
        },
        {
         "name": "219",
         "rawType": "float32",
         "type": "float"
        },
        {
         "name": "220",
         "rawType": "float32",
         "type": "float"
        },
        {
         "name": "221",
         "rawType": "float32",
         "type": "float"
        },
        {
         "name": "222",
         "rawType": "float32",
         "type": "float"
        },
        {
         "name": "223",
         "rawType": "float32",
         "type": "float"
        },
        {
         "name": "224",
         "rawType": "float32",
         "type": "float"
        },
        {
         "name": "225",
         "rawType": "float32",
         "type": "float"
        },
        {
         "name": "226",
         "rawType": "float32",
         "type": "float"
        },
        {
         "name": "227",
         "rawType": "float32",
         "type": "float"
        },
        {
         "name": "228",
         "rawType": "float32",
         "type": "float"
        },
        {
         "name": "229",
         "rawType": "float32",
         "type": "float"
        },
        {
         "name": "230",
         "rawType": "float32",
         "type": "float"
        },
        {
         "name": "231",
         "rawType": "float32",
         "type": "float"
        },
        {
         "name": "232",
         "rawType": "float32",
         "type": "float"
        },
        {
         "name": "233",
         "rawType": "float32",
         "type": "float"
        },
        {
         "name": "234",
         "rawType": "float32",
         "type": "float"
        },
        {
         "name": "235",
         "rawType": "float32",
         "type": "float"
        },
        {
         "name": "236",
         "rawType": "float32",
         "type": "float"
        },
        {
         "name": "237",
         "rawType": "float32",
         "type": "float"
        },
        {
         "name": "238",
         "rawType": "float32",
         "type": "float"
        },
        {
         "name": "239",
         "rawType": "float32",
         "type": "float"
        },
        {
         "name": "240",
         "rawType": "float32",
         "type": "float"
        },
        {
         "name": "241",
         "rawType": "float32",
         "type": "float"
        },
        {
         "name": "242",
         "rawType": "float32",
         "type": "float"
        },
        {
         "name": "243",
         "rawType": "float32",
         "type": "float"
        },
        {
         "name": "244",
         "rawType": "float32",
         "type": "float"
        },
        {
         "name": "245",
         "rawType": "float32",
         "type": "float"
        },
        {
         "name": "246",
         "rawType": "float32",
         "type": "float"
        },
        {
         "name": "247",
         "rawType": "float32",
         "type": "float"
        },
        {
         "name": "248",
         "rawType": "float32",
         "type": "float"
        },
        {
         "name": "249",
         "rawType": "float32",
         "type": "float"
        },
        {
         "name": "250",
         "rawType": "float32",
         "type": "float"
        },
        {
         "name": "251",
         "rawType": "float32",
         "type": "float"
        },
        {
         "name": "252",
         "rawType": "float32",
         "type": "float"
        },
        {
         "name": "253",
         "rawType": "float32",
         "type": "float"
        },
        {
         "name": "254",
         "rawType": "float32",
         "type": "float"
        },
        {
         "name": "255",
         "rawType": "float32",
         "type": "float"
        },
        {
         "name": "256",
         "rawType": "float32",
         "type": "float"
        },
        {
         "name": "257",
         "rawType": "float32",
         "type": "float"
        },
        {
         "name": "258",
         "rawType": "float32",
         "type": "float"
        },
        {
         "name": "259",
         "rawType": "float32",
         "type": "float"
        },
        {
         "name": "260",
         "rawType": "float32",
         "type": "float"
        },
        {
         "name": "261",
         "rawType": "float32",
         "type": "float"
        },
        {
         "name": "262",
         "rawType": "float32",
         "type": "float"
        },
        {
         "name": "263",
         "rawType": "float32",
         "type": "float"
        },
        {
         "name": "264",
         "rawType": "float32",
         "type": "float"
        },
        {
         "name": "265",
         "rawType": "float32",
         "type": "float"
        },
        {
         "name": "266",
         "rawType": "float32",
         "type": "float"
        },
        {
         "name": "267",
         "rawType": "float32",
         "type": "float"
        },
        {
         "name": "268",
         "rawType": "float32",
         "type": "float"
        },
        {
         "name": "269",
         "rawType": "float32",
         "type": "float"
        },
        {
         "name": "270",
         "rawType": "float32",
         "type": "float"
        },
        {
         "name": "271",
         "rawType": "float32",
         "type": "float"
        },
        {
         "name": "272",
         "rawType": "float32",
         "type": "float"
        },
        {
         "name": "273",
         "rawType": "float32",
         "type": "float"
        },
        {
         "name": "274",
         "rawType": "float32",
         "type": "float"
        },
        {
         "name": "275",
         "rawType": "float32",
         "type": "float"
        },
        {
         "name": "276",
         "rawType": "float32",
         "type": "float"
        },
        {
         "name": "277",
         "rawType": "float32",
         "type": "float"
        },
        {
         "name": "278",
         "rawType": "float32",
         "type": "float"
        },
        {
         "name": "279",
         "rawType": "float32",
         "type": "float"
        },
        {
         "name": "280",
         "rawType": "float32",
         "type": "float"
        },
        {
         "name": "281",
         "rawType": "float32",
         "type": "float"
        },
        {
         "name": "282",
         "rawType": "float32",
         "type": "float"
        },
        {
         "name": "283",
         "rawType": "float32",
         "type": "float"
        },
        {
         "name": "284",
         "rawType": "float32",
         "type": "float"
        },
        {
         "name": "285",
         "rawType": "float32",
         "type": "float"
        },
        {
         "name": "286",
         "rawType": "float32",
         "type": "float"
        },
        {
         "name": "287",
         "rawType": "float32",
         "type": "float"
        },
        {
         "name": "288",
         "rawType": "float32",
         "type": "float"
        },
        {
         "name": "289",
         "rawType": "float32",
         "type": "float"
        },
        {
         "name": "290",
         "rawType": "float32",
         "type": "float"
        },
        {
         "name": "291",
         "rawType": "float32",
         "type": "float"
        },
        {
         "name": "292",
         "rawType": "float32",
         "type": "float"
        },
        {
         "name": "293",
         "rawType": "float32",
         "type": "float"
        },
        {
         "name": "294",
         "rawType": "float32",
         "type": "float"
        },
        {
         "name": "295",
         "rawType": "float32",
         "type": "float"
        },
        {
         "name": "296",
         "rawType": "float32",
         "type": "float"
        },
        {
         "name": "297",
         "rawType": "float32",
         "type": "float"
        },
        {
         "name": "298",
         "rawType": "float32",
         "type": "float"
        },
        {
         "name": "299",
         "rawType": "float32",
         "type": "float"
        },
        {
         "name": "300",
         "rawType": "float32",
         "type": "float"
        },
        {
         "name": "301",
         "rawType": "float32",
         "type": "float"
        },
        {
         "name": "302",
         "rawType": "float32",
         "type": "float"
        },
        {
         "name": "303",
         "rawType": "float32",
         "type": "float"
        },
        {
         "name": "304",
         "rawType": "float32",
         "type": "float"
        },
        {
         "name": "305",
         "rawType": "float32",
         "type": "float"
        },
        {
         "name": "306",
         "rawType": "float32",
         "type": "float"
        },
        {
         "name": "307",
         "rawType": "float32",
         "type": "float"
        },
        {
         "name": "308",
         "rawType": "float32",
         "type": "float"
        },
        {
         "name": "309",
         "rawType": "float32",
         "type": "float"
        },
        {
         "name": "310",
         "rawType": "float32",
         "type": "float"
        },
        {
         "name": "311",
         "rawType": "float32",
         "type": "float"
        },
        {
         "name": "312",
         "rawType": "float32",
         "type": "float"
        },
        {
         "name": "313",
         "rawType": "float32",
         "type": "float"
        },
        {
         "name": "314",
         "rawType": "float32",
         "type": "float"
        },
        {
         "name": "315",
         "rawType": "float32",
         "type": "float"
        },
        {
         "name": "316",
         "rawType": "float32",
         "type": "float"
        },
        {
         "name": "317",
         "rawType": "float32",
         "type": "float"
        },
        {
         "name": "318",
         "rawType": "float32",
         "type": "float"
        },
        {
         "name": "319",
         "rawType": "float32",
         "type": "float"
        },
        {
         "name": "320",
         "rawType": "float32",
         "type": "float"
        },
        {
         "name": "321",
         "rawType": "float32",
         "type": "float"
        },
        {
         "name": "322",
         "rawType": "float32",
         "type": "float"
        },
        {
         "name": "323",
         "rawType": "float32",
         "type": "float"
        },
        {
         "name": "324",
         "rawType": "float32",
         "type": "float"
        },
        {
         "name": "325",
         "rawType": "float32",
         "type": "float"
        },
        {
         "name": "326",
         "rawType": "float32",
         "type": "float"
        },
        {
         "name": "327",
         "rawType": "float32",
         "type": "float"
        },
        {
         "name": "328",
         "rawType": "float32",
         "type": "float"
        },
        {
         "name": "329",
         "rawType": "float32",
         "type": "float"
        },
        {
         "name": "330",
         "rawType": "float32",
         "type": "float"
        },
        {
         "name": "331",
         "rawType": "float32",
         "type": "float"
        },
        {
         "name": "332",
         "rawType": "float32",
         "type": "float"
        },
        {
         "name": "333",
         "rawType": "float32",
         "type": "float"
        },
        {
         "name": "334",
         "rawType": "float32",
         "type": "float"
        },
        {
         "name": "335",
         "rawType": "float32",
         "type": "float"
        },
        {
         "name": "336",
         "rawType": "float32",
         "type": "float"
        },
        {
         "name": "337",
         "rawType": "float32",
         "type": "float"
        },
        {
         "name": "338",
         "rawType": "float32",
         "type": "float"
        },
        {
         "name": "339",
         "rawType": "float32",
         "type": "float"
        },
        {
         "name": "340",
         "rawType": "float32",
         "type": "float"
        },
        {
         "name": "341",
         "rawType": "float32",
         "type": "float"
        },
        {
         "name": "342",
         "rawType": "float32",
         "type": "float"
        },
        {
         "name": "343",
         "rawType": "float32",
         "type": "float"
        },
        {
         "name": "344",
         "rawType": "float32",
         "type": "float"
        },
        {
         "name": "345",
         "rawType": "float32",
         "type": "float"
        },
        {
         "name": "346",
         "rawType": "float32",
         "type": "float"
        },
        {
         "name": "347",
         "rawType": "float32",
         "type": "float"
        },
        {
         "name": "348",
         "rawType": "float32",
         "type": "float"
        },
        {
         "name": "349",
         "rawType": "float32",
         "type": "float"
        },
        {
         "name": "350",
         "rawType": "float32",
         "type": "float"
        },
        {
         "name": "351",
         "rawType": "float32",
         "type": "float"
        },
        {
         "name": "352",
         "rawType": "float32",
         "type": "float"
        },
        {
         "name": "353",
         "rawType": "float32",
         "type": "float"
        },
        {
         "name": "354",
         "rawType": "float32",
         "type": "float"
        },
        {
         "name": "355",
         "rawType": "float32",
         "type": "float"
        },
        {
         "name": "356",
         "rawType": "float32",
         "type": "float"
        },
        {
         "name": "357",
         "rawType": "float32",
         "type": "float"
        },
        {
         "name": "358",
         "rawType": "float32",
         "type": "float"
        },
        {
         "name": "359",
         "rawType": "float32",
         "type": "float"
        },
        {
         "name": "360",
         "rawType": "float32",
         "type": "float"
        },
        {
         "name": "361",
         "rawType": "float32",
         "type": "float"
        },
        {
         "name": "362",
         "rawType": "float32",
         "type": "float"
        },
        {
         "name": "363",
         "rawType": "float32",
         "type": "float"
        },
        {
         "name": "364",
         "rawType": "float32",
         "type": "float"
        },
        {
         "name": "365",
         "rawType": "float32",
         "type": "float"
        },
        {
         "name": "366",
         "rawType": "float32",
         "type": "float"
        },
        {
         "name": "367",
         "rawType": "float32",
         "type": "float"
        },
        {
         "name": "368",
         "rawType": "float32",
         "type": "float"
        },
        {
         "name": "369",
         "rawType": "float32",
         "type": "float"
        },
        {
         "name": "370",
         "rawType": "float32",
         "type": "float"
        },
        {
         "name": "371",
         "rawType": "float32",
         "type": "float"
        },
        {
         "name": "372",
         "rawType": "float32",
         "type": "float"
        },
        {
         "name": "373",
         "rawType": "float32",
         "type": "float"
        },
        {
         "name": "374",
         "rawType": "float32",
         "type": "float"
        },
        {
         "name": "375",
         "rawType": "float32",
         "type": "float"
        },
        {
         "name": "376",
         "rawType": "float32",
         "type": "float"
        },
        {
         "name": "377",
         "rawType": "float32",
         "type": "float"
        },
        {
         "name": "378",
         "rawType": "float32",
         "type": "float"
        },
        {
         "name": "379",
         "rawType": "float32",
         "type": "float"
        },
        {
         "name": "380",
         "rawType": "float32",
         "type": "float"
        },
        {
         "name": "381",
         "rawType": "float32",
         "type": "float"
        },
        {
         "name": "382",
         "rawType": "float32",
         "type": "float"
        },
        {
         "name": "383",
         "rawType": "float32",
         "type": "float"
        },
        {
         "name": "384",
         "rawType": "float32",
         "type": "float"
        },
        {
         "name": "385",
         "rawType": "float32",
         "type": "float"
        },
        {
         "name": "386",
         "rawType": "float32",
         "type": "float"
        },
        {
         "name": "387",
         "rawType": "float32",
         "type": "float"
        },
        {
         "name": "388",
         "rawType": "float32",
         "type": "float"
        },
        {
         "name": "389",
         "rawType": "float32",
         "type": "float"
        },
        {
         "name": "390",
         "rawType": "float32",
         "type": "float"
        },
        {
         "name": "391",
         "rawType": "float32",
         "type": "float"
        },
        {
         "name": "392",
         "rawType": "float32",
         "type": "float"
        },
        {
         "name": "393",
         "rawType": "float32",
         "type": "float"
        },
        {
         "name": "394",
         "rawType": "float32",
         "type": "float"
        },
        {
         "name": "395",
         "rawType": "float32",
         "type": "float"
        },
        {
         "name": "396",
         "rawType": "float32",
         "type": "float"
        },
        {
         "name": "397",
         "rawType": "float32",
         "type": "float"
        },
        {
         "name": "398",
         "rawType": "float32",
         "type": "float"
        },
        {
         "name": "399",
         "rawType": "float32",
         "type": "float"
        },
        {
         "name": "400",
         "rawType": "float32",
         "type": "float"
        },
        {
         "name": "401",
         "rawType": "float32",
         "type": "float"
        },
        {
         "name": "402",
         "rawType": "float32",
         "type": "float"
        },
        {
         "name": "403",
         "rawType": "float32",
         "type": "float"
        },
        {
         "name": "404",
         "rawType": "float32",
         "type": "float"
        },
        {
         "name": "405",
         "rawType": "float32",
         "type": "float"
        },
        {
         "name": "406",
         "rawType": "float32",
         "type": "float"
        },
        {
         "name": "407",
         "rawType": "float32",
         "type": "float"
        },
        {
         "name": "408",
         "rawType": "float32",
         "type": "float"
        },
        {
         "name": "409",
         "rawType": "float32",
         "type": "float"
        },
        {
         "name": "410",
         "rawType": "float32",
         "type": "float"
        },
        {
         "name": "411",
         "rawType": "float32",
         "type": "float"
        },
        {
         "name": "412",
         "rawType": "float32",
         "type": "float"
        },
        {
         "name": "413",
         "rawType": "float32",
         "type": "float"
        },
        {
         "name": "414",
         "rawType": "float32",
         "type": "float"
        },
        {
         "name": "415",
         "rawType": "float32",
         "type": "float"
        },
        {
         "name": "416",
         "rawType": "float32",
         "type": "float"
        },
        {
         "name": "417",
         "rawType": "float32",
         "type": "float"
        },
        {
         "name": "418",
         "rawType": "float32",
         "type": "float"
        },
        {
         "name": "419",
         "rawType": "float32",
         "type": "float"
        },
        {
         "name": "420",
         "rawType": "float32",
         "type": "float"
        },
        {
         "name": "421",
         "rawType": "float32",
         "type": "float"
        },
        {
         "name": "422",
         "rawType": "float32",
         "type": "float"
        },
        {
         "name": "423",
         "rawType": "float32",
         "type": "float"
        },
        {
         "name": "424",
         "rawType": "float32",
         "type": "float"
        },
        {
         "name": "425",
         "rawType": "float32",
         "type": "float"
        },
        {
         "name": "426",
         "rawType": "float32",
         "type": "float"
        },
        {
         "name": "427",
         "rawType": "float32",
         "type": "float"
        },
        {
         "name": "428",
         "rawType": "float32",
         "type": "float"
        },
        {
         "name": "429",
         "rawType": "float32",
         "type": "float"
        },
        {
         "name": "430",
         "rawType": "float32",
         "type": "float"
        },
        {
         "name": "431",
         "rawType": "float32",
         "type": "float"
        },
        {
         "name": "432",
         "rawType": "float32",
         "type": "float"
        },
        {
         "name": "433",
         "rawType": "float32",
         "type": "float"
        },
        {
         "name": "434",
         "rawType": "float32",
         "type": "float"
        },
        {
         "name": "435",
         "rawType": "float32",
         "type": "float"
        },
        {
         "name": "436",
         "rawType": "float32",
         "type": "float"
        },
        {
         "name": "437",
         "rawType": "float32",
         "type": "float"
        },
        {
         "name": "438",
         "rawType": "float32",
         "type": "float"
        },
        {
         "name": "439",
         "rawType": "float32",
         "type": "float"
        },
        {
         "name": "440",
         "rawType": "float32",
         "type": "float"
        },
        {
         "name": "441",
         "rawType": "float32",
         "type": "float"
        },
        {
         "name": "442",
         "rawType": "float32",
         "type": "float"
        },
        {
         "name": "443",
         "rawType": "float32",
         "type": "float"
        },
        {
         "name": "444",
         "rawType": "float32",
         "type": "float"
        },
        {
         "name": "445",
         "rawType": "float32",
         "type": "float"
        },
        {
         "name": "446",
         "rawType": "float32",
         "type": "float"
        },
        {
         "name": "447",
         "rawType": "float32",
         "type": "float"
        },
        {
         "name": "448",
         "rawType": "float32",
         "type": "float"
        },
        {
         "name": "449",
         "rawType": "float32",
         "type": "float"
        },
        {
         "name": "450",
         "rawType": "float32",
         "type": "float"
        },
        {
         "name": "451",
         "rawType": "float32",
         "type": "float"
        },
        {
         "name": "452",
         "rawType": "float32",
         "type": "float"
        },
        {
         "name": "453",
         "rawType": "float32",
         "type": "float"
        },
        {
         "name": "454",
         "rawType": "float32",
         "type": "float"
        },
        {
         "name": "455",
         "rawType": "float32",
         "type": "float"
        },
        {
         "name": "456",
         "rawType": "float32",
         "type": "float"
        },
        {
         "name": "457",
         "rawType": "float32",
         "type": "float"
        },
        {
         "name": "458",
         "rawType": "float32",
         "type": "float"
        },
        {
         "name": "459",
         "rawType": "float32",
         "type": "float"
        },
        {
         "name": "460",
         "rawType": "float32",
         "type": "float"
        },
        {
         "name": "461",
         "rawType": "float32",
         "type": "float"
        },
        {
         "name": "462",
         "rawType": "float32",
         "type": "float"
        },
        {
         "name": "463",
         "rawType": "float32",
         "type": "float"
        },
        {
         "name": "464",
         "rawType": "float32",
         "type": "float"
        },
        {
         "name": "465",
         "rawType": "float32",
         "type": "float"
        },
        {
         "name": "466",
         "rawType": "float32",
         "type": "float"
        },
        {
         "name": "467",
         "rawType": "float32",
         "type": "float"
        },
        {
         "name": "468",
         "rawType": "float32",
         "type": "float"
        },
        {
         "name": "469",
         "rawType": "float32",
         "type": "float"
        },
        {
         "name": "470",
         "rawType": "float32",
         "type": "float"
        },
        {
         "name": "471",
         "rawType": "float32",
         "type": "float"
        },
        {
         "name": "472",
         "rawType": "float32",
         "type": "float"
        },
        {
         "name": "473",
         "rawType": "float32",
         "type": "float"
        },
        {
         "name": "474",
         "rawType": "float32",
         "type": "float"
        },
        {
         "name": "475",
         "rawType": "float32",
         "type": "float"
        },
        {
         "name": "476",
         "rawType": "float32",
         "type": "float"
        },
        {
         "name": "477",
         "rawType": "float32",
         "type": "float"
        },
        {
         "name": "478",
         "rawType": "float32",
         "type": "float"
        },
        {
         "name": "479",
         "rawType": "float32",
         "type": "float"
        },
        {
         "name": "480",
         "rawType": "float32",
         "type": "float"
        },
        {
         "name": "481",
         "rawType": "float32",
         "type": "float"
        },
        {
         "name": "482",
         "rawType": "float32",
         "type": "float"
        },
        {
         "name": "483",
         "rawType": "float32",
         "type": "float"
        },
        {
         "name": "484",
         "rawType": "float32",
         "type": "float"
        },
        {
         "name": "485",
         "rawType": "float32",
         "type": "float"
        },
        {
         "name": "486",
         "rawType": "float32",
         "type": "float"
        },
        {
         "name": "487",
         "rawType": "float32",
         "type": "float"
        },
        {
         "name": "488",
         "rawType": "float32",
         "type": "float"
        },
        {
         "name": "489",
         "rawType": "float32",
         "type": "float"
        },
        {
         "name": "490",
         "rawType": "float32",
         "type": "float"
        },
        {
         "name": "491",
         "rawType": "float32",
         "type": "float"
        },
        {
         "name": "492",
         "rawType": "float32",
         "type": "float"
        },
        {
         "name": "493",
         "rawType": "float32",
         "type": "float"
        },
        {
         "name": "494",
         "rawType": "float32",
         "type": "float"
        },
        {
         "name": "495",
         "rawType": "float32",
         "type": "float"
        },
        {
         "name": "496",
         "rawType": "float32",
         "type": "float"
        },
        {
         "name": "497",
         "rawType": "float32",
         "type": "float"
        },
        {
         "name": "498",
         "rawType": "float32",
         "type": "float"
        },
        {
         "name": "499",
         "rawType": "float32",
         "type": "float"
        },
        {
         "name": "500",
         "rawType": "float32",
         "type": "float"
        },
        {
         "name": "501",
         "rawType": "float32",
         "type": "float"
        },
        {
         "name": "502",
         "rawType": "float32",
         "type": "float"
        },
        {
         "name": "503",
         "rawType": "float32",
         "type": "float"
        },
        {
         "name": "504",
         "rawType": "float32",
         "type": "float"
        },
        {
         "name": "505",
         "rawType": "float32",
         "type": "float"
        },
        {
         "name": "506",
         "rawType": "float32",
         "type": "float"
        },
        {
         "name": "507",
         "rawType": "float32",
         "type": "float"
        },
        {
         "name": "508",
         "rawType": "float32",
         "type": "float"
        },
        {
         "name": "509",
         "rawType": "float32",
         "type": "float"
        },
        {
         "name": "510",
         "rawType": "float32",
         "type": "float"
        },
        {
         "name": "511",
         "rawType": "float32",
         "type": "float"
        },
        {
         "name": "512",
         "rawType": "float32",
         "type": "float"
        },
        {
         "name": "513",
         "rawType": "float32",
         "type": "float"
        },
        {
         "name": "514",
         "rawType": "float32",
         "type": "float"
        },
        {
         "name": "515",
         "rawType": "float32",
         "type": "float"
        },
        {
         "name": "516",
         "rawType": "float32",
         "type": "float"
        },
        {
         "name": "517",
         "rawType": "float32",
         "type": "float"
        },
        {
         "name": "518",
         "rawType": "float32",
         "type": "float"
        },
        {
         "name": "519",
         "rawType": "float32",
         "type": "float"
        },
        {
         "name": "520",
         "rawType": "float32",
         "type": "float"
        },
        {
         "name": "521",
         "rawType": "float32",
         "type": "float"
        },
        {
         "name": "522",
         "rawType": "float32",
         "type": "float"
        },
        {
         "name": "523",
         "rawType": "float32",
         "type": "float"
        },
        {
         "name": "524",
         "rawType": "float32",
         "type": "float"
        },
        {
         "name": "525",
         "rawType": "float32",
         "type": "float"
        },
        {
         "name": "526",
         "rawType": "float32",
         "type": "float"
        },
        {
         "name": "527",
         "rawType": "float32",
         "type": "float"
        },
        {
         "name": "528",
         "rawType": "float32",
         "type": "float"
        },
        {
         "name": "529",
         "rawType": "float32",
         "type": "float"
        },
        {
         "name": "530",
         "rawType": "float32",
         "type": "float"
        },
        {
         "name": "531",
         "rawType": "float32",
         "type": "float"
        },
        {
         "name": "532",
         "rawType": "float32",
         "type": "float"
        },
        {
         "name": "533",
         "rawType": "float32",
         "type": "float"
        },
        {
         "name": "534",
         "rawType": "float32",
         "type": "float"
        },
        {
         "name": "535",
         "rawType": "float32",
         "type": "float"
        },
        {
         "name": "536",
         "rawType": "float32",
         "type": "float"
        },
        {
         "name": "537",
         "rawType": "float32",
         "type": "float"
        },
        {
         "name": "538",
         "rawType": "float32",
         "type": "float"
        },
        {
         "name": "539",
         "rawType": "float32",
         "type": "float"
        },
        {
         "name": "540",
         "rawType": "float32",
         "type": "float"
        },
        {
         "name": "541",
         "rawType": "float32",
         "type": "float"
        },
        {
         "name": "542",
         "rawType": "float32",
         "type": "float"
        },
        {
         "name": "543",
         "rawType": "float32",
         "type": "float"
        },
        {
         "name": "544",
         "rawType": "float32",
         "type": "float"
        },
        {
         "name": "545",
         "rawType": "float32",
         "type": "float"
        },
        {
         "name": "546",
         "rawType": "float32",
         "type": "float"
        },
        {
         "name": "547",
         "rawType": "float32",
         "type": "float"
        },
        {
         "name": "548",
         "rawType": "float32",
         "type": "float"
        },
        {
         "name": "549",
         "rawType": "float32",
         "type": "float"
        },
        {
         "name": "550",
         "rawType": "float32",
         "type": "float"
        },
        {
         "name": "551",
         "rawType": "float32",
         "type": "float"
        },
        {
         "name": "552",
         "rawType": "float32",
         "type": "float"
        },
        {
         "name": "553",
         "rawType": "float32",
         "type": "float"
        },
        {
         "name": "554",
         "rawType": "float32",
         "type": "float"
        },
        {
         "name": "555",
         "rawType": "float32",
         "type": "float"
        },
        {
         "name": "556",
         "rawType": "float32",
         "type": "float"
        },
        {
         "name": "557",
         "rawType": "float32",
         "type": "float"
        },
        {
         "name": "558",
         "rawType": "float32",
         "type": "float"
        },
        {
         "name": "559",
         "rawType": "float32",
         "type": "float"
        },
        {
         "name": "560",
         "rawType": "float32",
         "type": "float"
        },
        {
         "name": "561",
         "rawType": "float32",
         "type": "float"
        },
        {
         "name": "562",
         "rawType": "float32",
         "type": "float"
        },
        {
         "name": "563",
         "rawType": "float32",
         "type": "float"
        },
        {
         "name": "564",
         "rawType": "float32",
         "type": "float"
        },
        {
         "name": "565",
         "rawType": "float32",
         "type": "float"
        },
        {
         "name": "566",
         "rawType": "float32",
         "type": "float"
        },
        {
         "name": "567",
         "rawType": "float32",
         "type": "float"
        },
        {
         "name": "568",
         "rawType": "float32",
         "type": "float"
        },
        {
         "name": "569",
         "rawType": "float32",
         "type": "float"
        },
        {
         "name": "570",
         "rawType": "float32",
         "type": "float"
        },
        {
         "name": "571",
         "rawType": "float32",
         "type": "float"
        },
        {
         "name": "572",
         "rawType": "float32",
         "type": "float"
        },
        {
         "name": "573",
         "rawType": "float32",
         "type": "float"
        },
        {
         "name": "574",
         "rawType": "float32",
         "type": "float"
        },
        {
         "name": "575",
         "rawType": "float32",
         "type": "float"
        },
        {
         "name": "576",
         "rawType": "float32",
         "type": "float"
        },
        {
         "name": "577",
         "rawType": "float32",
         "type": "float"
        },
        {
         "name": "578",
         "rawType": "float32",
         "type": "float"
        },
        {
         "name": "579",
         "rawType": "float32",
         "type": "float"
        },
        {
         "name": "580",
         "rawType": "float32",
         "type": "float"
        },
        {
         "name": "581",
         "rawType": "float32",
         "type": "float"
        },
        {
         "name": "582",
         "rawType": "float32",
         "type": "float"
        },
        {
         "name": "583",
         "rawType": "float32",
         "type": "float"
        },
        {
         "name": "584",
         "rawType": "float32",
         "type": "float"
        },
        {
         "name": "585",
         "rawType": "float32",
         "type": "float"
        },
        {
         "name": "586",
         "rawType": "float32",
         "type": "float"
        },
        {
         "name": "587",
         "rawType": "float32",
         "type": "float"
        },
        {
         "name": "588",
         "rawType": "float32",
         "type": "float"
        },
        {
         "name": "589",
         "rawType": "float32",
         "type": "float"
        },
        {
         "name": "590",
         "rawType": "float32",
         "type": "float"
        },
        {
         "name": "591",
         "rawType": "float32",
         "type": "float"
        },
        {
         "name": "592",
         "rawType": "float32",
         "type": "float"
        },
        {
         "name": "593",
         "rawType": "float32",
         "type": "float"
        },
        {
         "name": "594",
         "rawType": "float32",
         "type": "float"
        },
        {
         "name": "595",
         "rawType": "float32",
         "type": "float"
        },
        {
         "name": "596",
         "rawType": "float32",
         "type": "float"
        },
        {
         "name": "597",
         "rawType": "float32",
         "type": "float"
        },
        {
         "name": "598",
         "rawType": "float32",
         "type": "float"
        },
        {
         "name": "599",
         "rawType": "float32",
         "type": "float"
        },
        {
         "name": "600",
         "rawType": "float32",
         "type": "float"
        },
        {
         "name": "601",
         "rawType": "float32",
         "type": "float"
        },
        {
         "name": "602",
         "rawType": "float32",
         "type": "float"
        },
        {
         "name": "603",
         "rawType": "float32",
         "type": "float"
        },
        {
         "name": "604",
         "rawType": "float32",
         "type": "float"
        },
        {
         "name": "605",
         "rawType": "float32",
         "type": "float"
        },
        {
         "name": "606",
         "rawType": "float32",
         "type": "float"
        },
        {
         "name": "607",
         "rawType": "float32",
         "type": "float"
        },
        {
         "name": "608",
         "rawType": "float32",
         "type": "float"
        },
        {
         "name": "609",
         "rawType": "float32",
         "type": "float"
        },
        {
         "name": "610",
         "rawType": "float32",
         "type": "float"
        },
        {
         "name": "611",
         "rawType": "float32",
         "type": "float"
        },
        {
         "name": "612",
         "rawType": "float32",
         "type": "float"
        },
        {
         "name": "613",
         "rawType": "float32",
         "type": "float"
        },
        {
         "name": "614",
         "rawType": "float32",
         "type": "float"
        },
        {
         "name": "615",
         "rawType": "float32",
         "type": "float"
        },
        {
         "name": "616",
         "rawType": "float32",
         "type": "float"
        },
        {
         "name": "617",
         "rawType": "float32",
         "type": "float"
        },
        {
         "name": "618",
         "rawType": "float32",
         "type": "float"
        },
        {
         "name": "619",
         "rawType": "float32",
         "type": "float"
        },
        {
         "name": "620",
         "rawType": "float32",
         "type": "float"
        },
        {
         "name": "621",
         "rawType": "float32",
         "type": "float"
        },
        {
         "name": "622",
         "rawType": "float32",
         "type": "float"
        },
        {
         "name": "623",
         "rawType": "float32",
         "type": "float"
        },
        {
         "name": "624",
         "rawType": "float32",
         "type": "float"
        },
        {
         "name": "625",
         "rawType": "float32",
         "type": "float"
        },
        {
         "name": "626",
         "rawType": "float32",
         "type": "float"
        },
        {
         "name": "627",
         "rawType": "float32",
         "type": "float"
        },
        {
         "name": "628",
         "rawType": "float32",
         "type": "float"
        },
        {
         "name": "629",
         "rawType": "float32",
         "type": "float"
        },
        {
         "name": "630",
         "rawType": "float32",
         "type": "float"
        },
        {
         "name": "631",
         "rawType": "float32",
         "type": "float"
        },
        {
         "name": "632",
         "rawType": "float32",
         "type": "float"
        },
        {
         "name": "633",
         "rawType": "float32",
         "type": "float"
        },
        {
         "name": "634",
         "rawType": "float32",
         "type": "float"
        },
        {
         "name": "635",
         "rawType": "float32",
         "type": "float"
        },
        {
         "name": "636",
         "rawType": "float32",
         "type": "float"
        },
        {
         "name": "637",
         "rawType": "float32",
         "type": "float"
        },
        {
         "name": "638",
         "rawType": "float32",
         "type": "float"
        },
        {
         "name": "639",
         "rawType": "float32",
         "type": "float"
        },
        {
         "name": "640",
         "rawType": "float32",
         "type": "float"
        },
        {
         "name": "641",
         "rawType": "float32",
         "type": "float"
        },
        {
         "name": "642",
         "rawType": "float32",
         "type": "float"
        },
        {
         "name": "643",
         "rawType": "float32",
         "type": "float"
        },
        {
         "name": "644",
         "rawType": "float32",
         "type": "float"
        },
        {
         "name": "645",
         "rawType": "float32",
         "type": "float"
        },
        {
         "name": "646",
         "rawType": "float32",
         "type": "float"
        },
        {
         "name": "647",
         "rawType": "float32",
         "type": "float"
        },
        {
         "name": "648",
         "rawType": "float32",
         "type": "float"
        },
        {
         "name": "649",
         "rawType": "float32",
         "type": "float"
        },
        {
         "name": "650",
         "rawType": "float32",
         "type": "float"
        },
        {
         "name": "651",
         "rawType": "float32",
         "type": "float"
        },
        {
         "name": "652",
         "rawType": "float32",
         "type": "float"
        },
        {
         "name": "653",
         "rawType": "float32",
         "type": "float"
        },
        {
         "name": "654",
         "rawType": "float32",
         "type": "float"
        },
        {
         "name": "655",
         "rawType": "float32",
         "type": "float"
        },
        {
         "name": "656",
         "rawType": "float32",
         "type": "float"
        },
        {
         "name": "657",
         "rawType": "float32",
         "type": "float"
        },
        {
         "name": "658",
         "rawType": "float32",
         "type": "float"
        },
        {
         "name": "659",
         "rawType": "float32",
         "type": "float"
        },
        {
         "name": "660",
         "rawType": "float32",
         "type": "float"
        },
        {
         "name": "661",
         "rawType": "float32",
         "type": "float"
        },
        {
         "name": "662",
         "rawType": "float32",
         "type": "float"
        },
        {
         "name": "663",
         "rawType": "float32",
         "type": "float"
        },
        {
         "name": "664",
         "rawType": "float32",
         "type": "float"
        },
        {
         "name": "665",
         "rawType": "float32",
         "type": "float"
        },
        {
         "name": "666",
         "rawType": "float32",
         "type": "float"
        },
        {
         "name": "667",
         "rawType": "float32",
         "type": "float"
        },
        {
         "name": "668",
         "rawType": "float32",
         "type": "float"
        },
        {
         "name": "669",
         "rawType": "float32",
         "type": "float"
        },
        {
         "name": "670",
         "rawType": "float32",
         "type": "float"
        },
        {
         "name": "671",
         "rawType": "float32",
         "type": "float"
        },
        {
         "name": "672",
         "rawType": "float32",
         "type": "float"
        },
        {
         "name": "673",
         "rawType": "float32",
         "type": "float"
        },
        {
         "name": "674",
         "rawType": "float32",
         "type": "float"
        },
        {
         "name": "675",
         "rawType": "float32",
         "type": "float"
        },
        {
         "name": "676",
         "rawType": "float32",
         "type": "float"
        },
        {
         "name": "677",
         "rawType": "float32",
         "type": "float"
        },
        {
         "name": "678",
         "rawType": "float32",
         "type": "float"
        },
        {
         "name": "679",
         "rawType": "float32",
         "type": "float"
        },
        {
         "name": "680",
         "rawType": "float32",
         "type": "float"
        },
        {
         "name": "681",
         "rawType": "float32",
         "type": "float"
        },
        {
         "name": "682",
         "rawType": "float32",
         "type": "float"
        },
        {
         "name": "683",
         "rawType": "float32",
         "type": "float"
        },
        {
         "name": "684",
         "rawType": "float32",
         "type": "float"
        },
        {
         "name": "685",
         "rawType": "float32",
         "type": "float"
        },
        {
         "name": "686",
         "rawType": "float32",
         "type": "float"
        },
        {
         "name": "687",
         "rawType": "float32",
         "type": "float"
        },
        {
         "name": "688",
         "rawType": "float32",
         "type": "float"
        },
        {
         "name": "689",
         "rawType": "float32",
         "type": "float"
        },
        {
         "name": "690",
         "rawType": "float32",
         "type": "float"
        },
        {
         "name": "691",
         "rawType": "float32",
         "type": "float"
        },
        {
         "name": "692",
         "rawType": "float32",
         "type": "float"
        },
        {
         "name": "693",
         "rawType": "float32",
         "type": "float"
        },
        {
         "name": "694",
         "rawType": "float32",
         "type": "float"
        },
        {
         "name": "695",
         "rawType": "float32",
         "type": "float"
        },
        {
         "name": "696",
         "rawType": "float32",
         "type": "float"
        },
        {
         "name": "697",
         "rawType": "float32",
         "type": "float"
        },
        {
         "name": "698",
         "rawType": "float32",
         "type": "float"
        },
        {
         "name": "699",
         "rawType": "float32",
         "type": "float"
        },
        {
         "name": "700",
         "rawType": "float32",
         "type": "float"
        },
        {
         "name": "701",
         "rawType": "float32",
         "type": "float"
        },
        {
         "name": "702",
         "rawType": "float32",
         "type": "float"
        },
        {
         "name": "703",
         "rawType": "float32",
         "type": "float"
        },
        {
         "name": "704",
         "rawType": "float32",
         "type": "float"
        },
        {
         "name": "705",
         "rawType": "float32",
         "type": "float"
        },
        {
         "name": "706",
         "rawType": "float32",
         "type": "float"
        },
        {
         "name": "707",
         "rawType": "float32",
         "type": "float"
        },
        {
         "name": "708",
         "rawType": "float32",
         "type": "float"
        },
        {
         "name": "709",
         "rawType": "float32",
         "type": "float"
        },
        {
         "name": "710",
         "rawType": "float32",
         "type": "float"
        },
        {
         "name": "711",
         "rawType": "float32",
         "type": "float"
        },
        {
         "name": "712",
         "rawType": "float32",
         "type": "float"
        },
        {
         "name": "713",
         "rawType": "float32",
         "type": "float"
        },
        {
         "name": "714",
         "rawType": "float32",
         "type": "float"
        },
        {
         "name": "715",
         "rawType": "float32",
         "type": "float"
        },
        {
         "name": "716",
         "rawType": "float32",
         "type": "float"
        },
        {
         "name": "717",
         "rawType": "float32",
         "type": "float"
        },
        {
         "name": "718",
         "rawType": "float32",
         "type": "float"
        },
        {
         "name": "719",
         "rawType": "float32",
         "type": "float"
        },
        {
         "name": "720",
         "rawType": "float32",
         "type": "float"
        },
        {
         "name": "721",
         "rawType": "float32",
         "type": "float"
        },
        {
         "name": "722",
         "rawType": "float32",
         "type": "float"
        },
        {
         "name": "723",
         "rawType": "float32",
         "type": "float"
        },
        {
         "name": "724",
         "rawType": "float32",
         "type": "float"
        },
        {
         "name": "725",
         "rawType": "float32",
         "type": "float"
        },
        {
         "name": "726",
         "rawType": "float32",
         "type": "float"
        },
        {
         "name": "727",
         "rawType": "float32",
         "type": "float"
        },
        {
         "name": "728",
         "rawType": "float32",
         "type": "float"
        },
        {
         "name": "729",
         "rawType": "float32",
         "type": "float"
        },
        {
         "name": "730",
         "rawType": "float32",
         "type": "float"
        },
        {
         "name": "731",
         "rawType": "float32",
         "type": "float"
        },
        {
         "name": "732",
         "rawType": "float32",
         "type": "float"
        },
        {
         "name": "733",
         "rawType": "float32",
         "type": "float"
        },
        {
         "name": "734",
         "rawType": "float32",
         "type": "float"
        },
        {
         "name": "735",
         "rawType": "float32",
         "type": "float"
        },
        {
         "name": "736",
         "rawType": "float32",
         "type": "float"
        },
        {
         "name": "737",
         "rawType": "float32",
         "type": "float"
        },
        {
         "name": "738",
         "rawType": "float32",
         "type": "float"
        },
        {
         "name": "739",
         "rawType": "float32",
         "type": "float"
        },
        {
         "name": "740",
         "rawType": "float32",
         "type": "float"
        },
        {
         "name": "741",
         "rawType": "float32",
         "type": "float"
        },
        {
         "name": "742",
         "rawType": "float32",
         "type": "float"
        },
        {
         "name": "743",
         "rawType": "float32",
         "type": "float"
        },
        {
         "name": "744",
         "rawType": "float32",
         "type": "float"
        },
        {
         "name": "745",
         "rawType": "float32",
         "type": "float"
        },
        {
         "name": "746",
         "rawType": "float32",
         "type": "float"
        },
        {
         "name": "747",
         "rawType": "float32",
         "type": "float"
        },
        {
         "name": "748",
         "rawType": "float32",
         "type": "float"
        },
        {
         "name": "749",
         "rawType": "float32",
         "type": "float"
        },
        {
         "name": "750",
         "rawType": "float32",
         "type": "float"
        },
        {
         "name": "751",
         "rawType": "float32",
         "type": "float"
        },
        {
         "name": "752",
         "rawType": "float32",
         "type": "float"
        },
        {
         "name": "753",
         "rawType": "float32",
         "type": "float"
        },
        {
         "name": "754",
         "rawType": "float32",
         "type": "float"
        },
        {
         "name": "755",
         "rawType": "float32",
         "type": "float"
        },
        {
         "name": "756",
         "rawType": "float32",
         "type": "float"
        },
        {
         "name": "757",
         "rawType": "float32",
         "type": "float"
        },
        {
         "name": "758",
         "rawType": "float32",
         "type": "float"
        },
        {
         "name": "759",
         "rawType": "float32",
         "type": "float"
        },
        {
         "name": "760",
         "rawType": "float32",
         "type": "float"
        },
        {
         "name": "761",
         "rawType": "float32",
         "type": "float"
        },
        {
         "name": "762",
         "rawType": "float32",
         "type": "float"
        },
        {
         "name": "763",
         "rawType": "float32",
         "type": "float"
        },
        {
         "name": "764",
         "rawType": "float32",
         "type": "float"
        },
        {
         "name": "765",
         "rawType": "float32",
         "type": "float"
        },
        {
         "name": "766",
         "rawType": "float32",
         "type": "float"
        },
        {
         "name": "767",
         "rawType": "float32",
         "type": "float"
        },
        {
         "name": "768",
         "rawType": "float32",
         "type": "float"
        },
        {
         "name": "769",
         "rawType": "float32",
         "type": "float"
        },
        {
         "name": "770",
         "rawType": "float32",
         "type": "float"
        },
        {
         "name": "771",
         "rawType": "float32",
         "type": "float"
        },
        {
         "name": "772",
         "rawType": "float32",
         "type": "float"
        },
        {
         "name": "773",
         "rawType": "float32",
         "type": "float"
        },
        {
         "name": "774",
         "rawType": "float32",
         "type": "float"
        },
        {
         "name": "775",
         "rawType": "float32",
         "type": "float"
        },
        {
         "name": "776",
         "rawType": "float32",
         "type": "float"
        },
        {
         "name": "777",
         "rawType": "float32",
         "type": "float"
        },
        {
         "name": "778",
         "rawType": "float32",
         "type": "float"
        },
        {
         "name": "779",
         "rawType": "float32",
         "type": "float"
        },
        {
         "name": "780",
         "rawType": "float32",
         "type": "float"
        },
        {
         "name": "781",
         "rawType": "float32",
         "type": "float"
        },
        {
         "name": "782",
         "rawType": "float32",
         "type": "float"
        },
        {
         "name": "783",
         "rawType": "float32",
         "type": "float"
        },
        {
         "name": "label",
         "rawType": "int64",
         "type": "integer"
        }
       ],
       "ref": "78115ed4-960e-484e-a744-1b0cc3e40209",
       "rows": [
        [
         "0",
         "0.0",
         "0.0",
         "0.0",
         "0.0",
         "0.0",
         "0.0",
         "0.0",
         "0.0",
         "0.0",
         "0.0",
         "0.0",
         "0.0",
         "0.0",
         "0.0",
         "0.0",
         "0.0",
         "0.0",
         "0.0",
         "0.0",
         "0.0",
         "0.0",
         "0.0",
         "0.0",
         "0.0",
         "0.0",
         "0.0",
         "0.0",
         "0.0",
         "0.0",
         "0.0",
         "0.0",
         "0.0",
         "0.0",
         "0.0",
         "0.0",
         "0.0",
         "0.0",
         "0.0",
         "0.0",
         "0.0",
         "0.0",
         "0.0",
         "0.0",
         "0.0",
         "0.0",
         "0.0",
         "0.0",
         "0.0",
         "0.0",
         "0.0",
         "0.0",
         "0.0",
         "0.0",
         "0.0",
         "0.0",
         "0.0",
         "0.0",
         "0.0",
         "0.0",
         "0.0",
         "0.0",
         "0.0",
         "0.0",
         "0.0",
         "0.0",
         "0.0",
         "0.0",
         "0.0",
         "0.0",
         "0.0",
         "0.0",
         "0.0",
         "0.0",
         "0.0",
         "0.0",
         "0.0",
         "0.0",
         "0.0",
         "0.0",
         "0.0",
         "0.0",
         "0.0",
         "0.0",
         "0.0",
         "0.0",
         "0.0",
         "0.0",
         "0.0",
         "0.0",
         "0.0",
         "0.0",
         "0.0",
         "0.0",
         "0.0",
         "0.0",
         "0.0",
         "0.003921569",
         "0.0",
         "0.0",
         "0.050980393",
         "0.28627452",
         "0.0",
         "0.0",
         "0.003921569",
         "0.015686275",
         "0.0",
         "0.0",
         "0.0",
         "0.0",
         "0.003921569",
         "0.003921569",
         "0.0",
         "0.0",
         "0.0",
         "0.0",
         "0.0",
         "0.0",
         "0.0",
         "0.0",
         "0.0",
         "0.0",
         "0.0",
         "0.0",
         "0.0",
         "0.011764706",
         "0.0",
         "0.14117648",
         "0.53333336",
         "0.49803922",
         "0.24313726",
         "0.21176471",
         "0.0",
         "0.0",
         "0.0",
         "0.003921569",
         "0.011764706",
         "0.015686275",
         "0.0",
         "0.0",
         "0.011764706",
         "0.0",
         "0.0",
         "0.0",
         "0.0",
         "0.0",
         "0.0",
         "0.0",
         "0.0",
         "0.0",
         "0.0",
         "0.0",
         "0.0",
         "0.023529412",
         "0.0",
         "0.4",
         "0.8",
         "0.6901961",
         "0.5254902",
         "0.5647059",
         "0.48235294",
         "0.09019608",
         "0.0",
         "0.0",
         "0.0",
         "0.0",
         "0.047058824",
         "0.039215688",
         "0.0",
         "0.0",
         "0.0",
         "0.0",
         "0.0",
         "0.0",
         "0.0",
         "0.0",
         "0.0",
         "0.0",
         "0.0",
         "0.0",
         "0.0",
         "0.0",
         "0.0",
         "0.60784316",
         "0.9254902",
         "0.8117647",
         "0.69803923",
         "0.41960785",
         "0.6117647",
         "0.6313726",
         "0.42745098",
         "0.2509804",
         "0.09019608",
         "0.3019608",
         "0.50980395",
         "0.28235295",
         "0.05882353",
         "0.0",
         "0.0",
         "0.0",
         "0.0",
         "0.0",
         "0.0",
         "0.0",
         "0.0",
         "0.0",
         "0.0",
         "0.0",
         "0.003921569",
         "0.0",
         "0.27058825",
         "0.8117647",
         "0.8745098",
         "0.85490197",
         "0.84705883",
         "0.84705883",
         "0.6392157",
         "0.49803922",
         "0.4745098",
         "0.47843137",
         "0.57254905",
         "0.5529412",
         "0.34509805",
         "0.6745098",
         "0.25882354",
         "0.0",
         "0.0",
         "0.0",
         "0.0",
         "0.0",
         "0.0",
         "0.0",
         "0.0",
         "0.0",
         "0.003921569",
         "0.003921569",
         "0.003921569",
         "0.0",
         "0.78431374",
         "0.9098039",
         "0.9098039",
         "0.9137255",
         "0.8980392",
         "0.8745098",
         "0.8745098",
         "0.84313726",
         "0.8352941",
         "0.6431373",
         "0.49803922",
         "0.48235294",
         "0.76862746",
         "0.8980392",
         "0.0",
         "0.0",
         "0.0",
         "0.0",
         "0.0",
         "0.0",
         "0.0",
         "0.0",
         "0.0",
         "0.0",
         "0.0",
         "0.0",
         "0.0",
         "0.0",
         "0.7176471",
         "0.88235295",
         "0.84705883",
         "0.8745098",
         "0.89411765",
         "0.92156863",
         "0.8901961",
         "0.8784314",
         "0.87058824",
         "0.8784314",
         "0.8666667",
         "0.8745098",
         "0.9607843",
         "0.6784314",
         "0.0",
         "0.0",
         "0.0",
         "0.0",
         "0.0",
         "0.0",
         "0.0",
         "0.0",
         "0.0",
         "0.0",
         "0.0",
         "0.0",
         "0.0",
         "0.0",
         "0.75686276",
         "0.89411765",
         "0.85490197",
         "0.8352941",
         "0.7764706",
         "0.7058824",
         "0.83137256",
         "0.8235294",
         "0.827451",
         "0.8352941",
         "0.8745098",
         "0.8627451",
         "0.9529412",
         "0.7921569",
         "0.0",
         "0.0",
         "0.0",
         "0.0",
         "0.0",
         "0.0",
         "0.0",
         "0.0",
         "0.0",
         "0.0",
         "0.003921569",
         "0.011764706",
         "0.0",
         "0.047058824",
         "0.85882354",
         "0.8627451",
         "0.83137256",
         "0.85490197",
         "0.7529412",
         "0.6627451",
         "0.8901961",
         "0.8156863",
         "0.85490197",
         "0.8784314",
         "0.83137256",
         "0.8862745",
         "0.77254903",
         "0.81960785",
         "0.20392157",
         "0.0",
         "0.0",
         "0.0",
         "0.0",
         "0.0",
         "0.0",
         "0.0",
         "0.0",
         "0.0",
         "0.0",
         "0.023529412",
         "0.0",
         "0.3882353",
         "0.95686275",
         "0.87058824",
         "0.8627451",
         "0.85490197",
         "0.79607844",
         "0.7764706",
         "0.8666667",
         "0.84313726",
         "0.8352941",
         "0.87058824",
         "0.8627451",
         "0.9607843",
         "0.46666667",
         "0.654902",
         "0.21960784",
         "0.0",
         "0.0",
         "0.0",
         "0.0",
         "0.0",
         "0.0",
         "0.0",
         "0.0",
         "0.0",
         "0.015686275",
         "0.0",
         "0.0",
         "0.21568628",
         "0.9254902",
         "0.89411765",
         "0.9019608",
         "0.89411765",
         "0.9411765",
         "0.9098039",
         "0.8352941",
         "0.85490197",
         "0.8745098",
         "0.91764706",
         "0.8509804",
         "0.8509804",
         "0.81960785",
         "0.36078432",
         "0.0",
         "0.0",
         "0.0",
         "0.003921569",
         "0.015686275",
         "0.023529412",
         "0.02745098",
         "0.007843138",
         "0.0",
         "0.0",
         "0.0",
         "0.0",
         "0.0",
         "0.92941177",
         "0.8862745",
         "0.8509804",
         "0.8745098",
         "0.87058824",
         "0.85882354",
         "0.87058824",
         "0.8666667",
         "0.84705883",
         "0.8745098",
         "0.8980392",
         "0.84313726",
         "0.85490197",
         "1.0",
         "0.3019608",
         "0.0",
         "0.0",
         "0.011764706",
         "0.0",
         "0.0",
         "0.0",
         "0.0",
         "0.0",
         "0.0",
         "0.0",
         "0.24313726",
         "0.5686275",
         "0.8",
         "0.89411765",
         "0.8117647",
         "0.8352941",
         "0.8666667",
         "0.85490197",
         "0.8156863",
         "0.827451",
         "0.85490197",
         "0.8784314",
         "0.8745098",
         "0.85882354",
         "0.84313726",
         "0.8784314",
         "0.95686275",
         "0.62352943",
         "0.0",
         "0.0",
         "0.0",
         "0.0",
         "0.0",
         "0.07058824",
         "0.17254902",
         "0.32156864",
         "0.41960785",
         "0.7411765",
         "0.89411765",
         "0.8627451",
         "0.87058824",
         "0.8509804",
         "0.8862745",
         "0.78431374",
         "0.8039216",
         "0.827451",
         "0.9019608",
         "0.8784314",
         "0.91764706",
         "0.6901961",
         "0.7372549",
         "0.98039216",
         "0.972549",
         "0.9137255",
         "0.93333334",
         "0.84313726",
         "0.0",
         "0.0",
         "0.22352941",
         "0.73333335",
         "0.8156863",
         "0.8784314",
         "0.8666667",
         "0.8784314",
         "0.8156863",
         "0.8",
         "0.8392157",
         "0.8156863",
         "0.81960785",
         "0.78431374",
         "0.62352943",
         "0.9607843",
         "0.75686276",
         "0.80784315",
         "0.8745098",
         "1.0",
         "1.0",
         "0.8666667",
         "0.91764706",
         "0.8666667",
         "0.827451",
         "0.8627451",
         "0.9098039",
         "0.9647059",
         "0.0",
         "0.011764706",
         "0.7921569",
         "0.89411765",
         "0.8784314",
         "0.8666667",
         "0.827451",
         "0.827451",
         "0.8392157",
         "0.8039216",
         "0.8039216",
         "0.8039216",
         "0.8627451",
         "0.9411765",
         "0.3137255",
         "0.5882353",
         "1.0",
         "0.8980392",
         "0.8666667",
         "0.7372549",
         "0.6039216",
         "0.7490196",
         "0.8235294",
         "0.8",
         "0.81960785",
         "0.87058824",
         "0.89411765",
         "0.88235295",
         "0.0",
         "0.38431373",
         "0.9137255",
         "0.7764706",
         "0.8235294",
         "0.87058824",
         "0.8980392",
         "0.8980392",
         "0.91764706",
         "0.9764706",
         "0.8627451",
         "0.7607843",
         "0.84313726",
         "0.8509804",
         "0.94509804",
         "0.25490198",
         "0.28627452",
         "0.41568628",
         "0.45882353",
         "0.65882355",
         "0.85882354",
         "0.8666667",
         "0.84313726",
         "0.8509804",
         "0.8745098",
         "0.8745098",
         "0.8784314",
         "0.8980392",
         "0.11372549",
         "0.29411766",
         "0.8",
         "0.83137256",
         "0.8",
         "0.75686276",
         "0.8039216",
         "0.827451",
         "0.88235295",
         "0.84705883",
         "0.7254902",
         "0.77254903",
         "0.80784315",
         "0.7764706",
         "0.8352941",
         "0.9411765",
         "0.7647059",
         "0.8901961",
         "0.9607843",
         "0.9372549",
         "0.8745098",
         "0.85490197",
         "0.83137256",
         "0.81960785",
         "0.87058824",
         "0.8627451",
         "0.8666667",
         "0.9019608",
         "0.2627451",
         "0.1882353",
         "0.79607844",
         "0.7176471",
         "0.7607843",
         "0.8352941",
         "0.77254903",
         "0.7254902",
         "0.74509805",
         "0.7607843",
         "0.7529412",
         "0.7921569",
         "0.8392157",
         "0.85882354",
         "0.8666667",
         "0.8627451",
         "0.9254902",
         "0.88235295",
         "0.84705883",
         "0.78039217",
         "0.80784315",
         "0.7294118",
         "0.70980394",
         "0.69411767",
         "0.6745098",
         "0.70980394",
         "0.8039216",
         "0.80784315",
         "0.4509804",
         "0.0",
         "0.47843137",
         "0.85882354",
         "0.75686276",
         "0.7019608",
         "0.67058825",
         "0.7176471",
         "0.76862746",
         "0.8",
         "0.8235294",
         "0.8352941",
         "0.8117647",
         "0.827451",
         "0.8235294",
         "0.78431374",
         "0.76862746",
         "0.7607843",
         "0.7490196",
         "0.7647059",
         "0.7490196",
         "0.7764706",
         "0.7529412",
         "0.6901961",
         "0.6117647",
         "0.654902",
         "0.69411767",
         "0.8235294",
         "0.36078432",
         "0.0",
         "0.0",
         "0.2901961",
         "0.7411765",
         "0.83137256",
         "0.7490196",
         "0.6862745",
         "0.6745098",
         "0.6862745",
         "0.70980394",
         "0.7254902",
         "0.7372549",
         "0.7411765",
         "0.7372549",
         "0.75686276",
         "0.7764706",
         "0.8",
         "0.81960785",
         "0.8235294",
         "0.8235294",
         "0.827451",
         "0.7372549",
         "0.7372549",
         "0.7607843",
         "0.7529412",
         "0.84705883",
         "0.6666667",
         "0.0",
         "0.007843138",
         "0.0",
         "0.0",
         "0.0",
         "0.25882354",
         "0.78431374",
         "0.87058824",
         "0.92941177",
         "0.9372549",
         "0.9490196",
         "0.9647059",
         "0.9529412",
         "0.95686275",
         "0.8666667",
         "0.8627451",
         "0.75686276",
         "0.7490196",
         "0.7019608",
         "0.7137255",
         "0.7137255",
         "0.70980394",
         "0.6901961",
         "0.6509804",
         "0.65882355",
         "0.3882353",
         "0.22745098",
         "0.0",
         "0.0",
         "0.0",
         "0.0",
         "0.0",
         "0.0",
         "0.0",
         "0.0",
         "0.0",
         "0.15686275",
         "0.23921569",
         "0.17254902",
         "0.28235295",
         "0.16078432",
         "0.13725491",
         "0.0",
         "0.0",
         "0.0",
         "0.0",
         "0.0",
         "0.0",
         "0.0",
         "0.0",
         "0.0",
         "0.0",
         "0.0",
         "0.0",
         "0.0",
         "0.0",
         "0.0",
         "0.0",
         "0.0",
         "0.0",
         "0.0",
         "0.0",
         "0.0",
         "0.0",
         "0.0",
         "0.0",
         "0.0",
         "0.0",
         "0.0",
         "0.0",
         "0.0",
         "0.0",
         "0.0",
         "0.0",
         "0.0",
         "0.0",
         "0.0",
         "0.0",
         "0.0",
         "0.0",
         "0.0",
         "0.0",
         "0.0",
         "0.0",
         "0.0",
         "0.0",
         "0.0",
         "0.0",
         "0.0",
         "0.0",
         "0.0",
         "0.0",
         "0.0",
         "0.0",
         "0.0",
         "0.0",
         "0.0",
         "0.0",
         "0.0",
         "0.0",
         "0.0",
         "0.0",
         "0.0",
         "0.0",
         "0.0",
         "0.0",
         "0.0",
         "0.0",
         "0.0",
         "0.0",
         "0.0",
         "0.0",
         "0.0",
         "9"
        ],
        [
         "1",
         "0.0",
         "0.0",
         "0.0",
         "0.0",
         "0.0",
         "0.003921569",
         "0.0",
         "0.0",
         "0.0",
         "0.0",
         "0.16078432",
         "0.7372549",
         "0.40392157",
         "0.21176471",
         "0.1882353",
         "0.16862746",
         "0.34117648",
         "0.65882355",
         "0.52156866",
         "0.0627451",
         "0.0",
         "0.0",
         "0.0",
         "0.0",
         "0.0",
         "0.0",
         "0.0",
         "0.0",
         "0.0",
         "0.0",
         "0.0",
         "0.003921569",
         "0.0",
         "0.0",
         "0.0",
         "0.19215687",
         "0.53333336",
         "0.85882354",
         "0.84705883",
         "0.89411765",
         "0.9254902",
         "1.0",
         "1.0",
         "1.0",
         "1.0",
         "0.8509804",
         "0.84313726",
         "0.99607843",
         "0.90588236",
         "0.627451",
         "0.1764706",
         "0.0",
         "0.0",
         "0.0",
         "0.0",
         "0.0",
         "0.0",
         "0.0",
         "0.0",
         "0.0",
         "0.0",
         "0.05490196",
         "0.6901961",
         "0.87058824",
         "0.8784314",
         "0.83137256",
         "0.79607844",
         "0.7764706",
         "0.76862746",
         "0.78431374",
         "0.84313726",
         "0.8",
         "0.7921569",
         "0.7882353",
         "0.7882353",
         "0.7882353",
         "0.81960785",
         "0.85490197",
         "0.8784314",
         "0.6431373",
         "0.0",
         "0.0",
         "0.0",
         "0.0",
         "0.0",
         "0.0",
         "0.0",
         "0.0",
         "0.0",
         "0.7372549",
         "0.85882354",
         "0.78431374",
         "0.7764706",
         "0.7921569",
         "0.7764706",
         "0.78039217",
         "0.78039217",
         "0.7882353",
         "0.76862746",
         "0.7764706",
         "0.7764706",
         "0.78431374",
         "0.78431374",
         "0.78431374",
         "0.78431374",
         "0.7882353",
         "0.78431374",
         "0.88235295",
         "0.16078432",
         "0.0",
         "0.0",
         "0.0",
         "0.0",
         "0.0",
         "0.0",
         "0.0",
         "0.2",
         "0.85882354",
         "0.78039217",
         "0.79607844",
         "0.79607844",
         "0.83137256",
         "0.93333334",
         "0.972549",
         "0.98039216",
         "0.9607843",
         "0.9764706",
         "0.9647059",
         "0.96862745",
         "0.9882353",
         "0.972549",
         "0.92156863",
         "0.8117647",
         "0.79607844",
         "0.79607844",
         "0.87058824",
         "0.54901963",
         "0.0",
         "0.0",
         "0.0",
         "0.0",
         "0.0",
         "0.0",
         "0.0",
         "0.45490196",
         "0.8862745",
         "0.80784315",
         "0.8",
         "0.8117647",
         "0.8",
         "0.39607844",
         "0.29411766",
         "0.18431373",
         "0.28627452",
         "0.1882353",
         "0.19607843",
         "0.1764706",
         "0.2",
         "0.24705882",
         "0.44313726",
         "0.87058824",
         "0.7921569",
         "0.80784315",
         "0.8627451",
         "0.8784314",
         "0.0",
         "0.0",
         "0.0",
         "0.0",
         "0.0",
         "0.0",
         "0.0",
         "0.78431374",
         "0.87058824",
         "0.81960785",
         "0.79607844",
         "0.84313726",
         "0.78431374",
         "0.0",
         "0.27450982",
         "0.38431373",
         "0.0",
         "0.40392157",
         "0.23137255",
         "0.26666668",
         "0.2784314",
         "0.19215687",
         "0.0",
         "0.85882354",
         "0.80784315",
         "0.8392157",
         "0.8235294",
         "0.98039216",
         "0.14901961",
         "0.0",
         "0.0",
         "0.0",
         "0.0",
         "0.0",
         "0.0",
         "0.96862745",
         "0.85490197",
         "0.83137256",
         "0.8235294",
         "0.84313726",
         "0.8392157",
         "0.0",
         "0.99607843",
         "0.9529412",
         "0.54509807",
         "1.0",
         "0.68235296",
         "0.9843137",
         "1.0",
         "0.8039216",
         "0.0",
         "0.84313726",
         "0.8509804",
         "0.8392157",
         "0.8156863",
         "0.8627451",
         "0.37254903",
         "0.0",
         "0.0",
         "0.0",
         "0.0",
         "0.0",
         "0.1764706",
         "0.8862745",
         "0.8392157",
         "0.8392157",
         "0.84313726",
         "0.8784314",
         "0.8039216",
         "0.0",
         "0.16470589",
         "0.13725491",
         "0.23529412",
         "0.0627451",
         "0.06666667",
         "0.047058824",
         "0.050980393",
         "0.27450982",
         "0.0",
         "0.7411765",
         "0.84705883",
         "0.83137256",
         "0.80784315",
         "0.83137256",
         "0.6117647",
         "0.0",
         "0.0",
         "0.0",
         "0.0",
         "0.0",
         "0.6431373",
         "0.92156863",
         "0.8392157",
         "0.827451",
         "0.8627451",
         "0.84705883",
         "0.7882353",
         "0.20392157",
         "0.2784314",
         "0.34901962",
         "0.36862746",
         "0.3254902",
         "0.30588236",
         "0.27450982",
         "0.29803923",
         "0.36078432",
         "0.34117648",
         "0.80784315",
         "0.8117647",
         "0.87058824",
         "0.8352941",
         "0.85882354",
         "0.8156863",
         "0.0",
         "0.0",
         "0.0",
         "0.0",
         "0.0",
         "0.41568628",
         "0.73333335",
         "0.8745098",
         "0.92941177",
         "0.972549",
         "0.827451",
         "0.7764706",
         "0.9882353",
         "0.98039216",
         "0.972549",
         "0.9607843",
         "0.972549",
         "0.9882353",
         "0.99215686",
         "0.98039216",
         "0.9882353",
         "0.9372549",
         "0.7882353",
         "0.83137256",
         "0.88235295",
         "0.84313726",
         "0.75686276",
         "0.44313726",
         "0.0",
         "0.0",
         "0.0",
         "0.0",
         "0.0",
         "0.0",
         "0.0",
         "0.06666667",
         "0.21176471",
         "0.62352943",
         "0.87058824",
         "0.75686276",
         "0.8156863",
         "0.7529412",
         "0.77254903",
         "0.78431374",
         "0.78431374",
         "0.78431374",
         "0.78431374",
         "0.7882353",
         "0.79607844",
         "0.7647059",
         "0.8235294",
         "0.64705884",
         "0.0",
         "0.0",
         "0.0",
         "0.0",
         "0.0",
         "0.0",
         "0.0",
         "0.0",
         "0.0",
         "0.0",
         "0.0",
         "0.0",
         "0.0",
         "0.18431373",
         "0.88235295",
         "0.7529412",
         "0.8392157",
         "0.79607844",
         "0.80784315",
         "0.8",
         "0.8",
         "0.8039216",
         "0.80784315",
         "0.8",
         "0.83137256",
         "0.77254903",
         "0.85490197",
         "0.41960785",
         "0.0",
         "0.0",
         "0.0",
         "0.0",
         "0.0",
         "0.0",
         "0.0",
         "0.0",
         "0.0",
         "0.0",
         "0.003921569",
         "0.023529412",
         "0.0",
         "0.18039216",
         "0.83137256",
         "0.7647059",
         "0.83137256",
         "0.7921569",
         "0.80784315",
         "0.8039216",
         "0.8",
         "0.8039216",
         "0.80784315",
         "0.8",
         "0.83137256",
         "0.78431374",
         "0.85490197",
         "0.35686275",
         "0.0",
         "0.011764706",
         "0.003921569",
         "0.0",
         "0.0",
         "0.0",
         "0.0",
         "0.0",
         "0.0",
         "0.0",
         "0.0",
         "0.003921569",
         "0.0",
         "0.043137256",
         "0.77254903",
         "0.78039217",
         "0.8039216",
         "0.7921569",
         "0.8039216",
         "0.80784315",
         "0.8",
         "0.8039216",
         "0.8117647",
         "0.8",
         "0.8039216",
         "0.8039216",
         "0.85490197",
         "0.3019608",
         "0.0",
         "0.019607844",
         "0.0",
         "0.0",
         "0.0",
         "0.0",
         "0.0",
         "0.0",
         "0.0",
         "0.0",
         "0.0",
         "0.011764706",
         "0.0",
         "0.007843138",
         "0.7490196",
         "0.7764706",
         "0.7882353",
         "0.8039216",
         "0.80784315",
         "0.8039216",
         "0.8039216",
         "0.80784315",
         "0.81960785",
         "0.80784315",
         "0.78039217",
         "0.81960785",
         "0.85882354",
         "0.2901961",
         "0.0",
         "0.019607844",
         "0.0",
         "0.0",
         "0.0",
         "0.0",
         "0.0",
         "0.0",
         "0.0",
         "0.0",
         "0.0",
         "0.007843138",
         "0.0",
         "0.0",
         "0.7372549",
         "0.77254903",
         "0.78431374",
         "0.8117647",
         "0.8117647",
         "0.8",
         "0.8117647",
         "0.8117647",
         "0.8235294",
         "0.8156863",
         "0.7764706",
         "0.8117647",
         "0.8666667",
         "0.28235295",
         "0.0",
         "0.015686275",
         "0.0",
         "0.0",
         "0.0",
         "0.0",
         "0.0",
         "0.0",
         "0.0",
         "0.0",
         "0.0",
         "0.007843138",
         "0.0",
         "0.0",
         "0.84313726",
         "0.7764706",
         "0.79607844",
         "0.80784315",
         "0.8156863",
         "0.8039216",
         "0.8117647",
         "0.8117647",
         "0.8235294",
         "0.8156863",
         "0.78431374",
         "0.7921569",
         "0.87058824",
         "0.29411766",
         "0.0",
         "0.015686275",
         "0.0",
         "0.0",
         "0.0",
         "0.0",
         "0.0",
         "0.0",
         "0.0",
         "0.0",
         "0.0",
         "0.003921569",
         "0.0",
         "0.0",
         "0.83137256",
         "0.7764706",
         "0.81960785",
         "0.80784315",
         "0.81960785",
         "0.80784315",
         "0.8156863",
         "0.8117647",
         "0.827451",
         "0.80784315",
         "0.8039216",
         "0.7764706",
         "0.8666667",
         "0.3137255",
         "0.0",
         "0.011764706",
         "0.0",
         "0.0",
         "0.0",
         "0.0",
         "0.0",
         "0.0",
         "0.0",
         "0.0",
         "0.0",
         "0.003921569",
         "0.0",
         "0.0",
         "0.8",
         "0.7882353",
         "0.8039216",
         "0.8156863",
         "0.8117647",
         "0.8039216",
         "0.827451",
         "0.8039216",
         "0.8235294",
         "0.8235294",
         "0.81960785",
         "0.7647059",
         "0.8666667",
         "0.3764706",
         "0.0",
         "0.011764706",
         "0.0",
         "0.0",
         "0.0",
         "0.0",
         "0.0",
         "0.0",
         "0.0",
         "0.0",
         "0.0",
         "0.003921569",
         "0.0",
         "0.0",
         "0.7921569",
         "0.7882353",
         "0.8039216",
         "0.81960785",
         "0.8117647",
         "0.8039216",
         "0.8352941",
         "0.80784315",
         "0.8235294",
         "0.81960785",
         "0.8235294",
         "0.7607843",
         "0.8509804",
         "0.4117647",
         "0.0",
         "0.007843138",
         "0.0",
         "0.0",
         "0.0",
         "0.0",
         "0.0",
         "0.0",
         "0.0",
         "0.0",
         "0.0",
         "0.003921569",
         "0.0",
         "0.0",
         "0.8",
         "0.8",
         "0.8039216",
         "0.8156863",
         "0.8117647",
         "0.8039216",
         "0.84313726",
         "0.8117647",
         "0.8235294",
         "0.8156863",
         "0.827451",
         "0.75686276",
         "0.8352941",
         "0.4509804",
         "0.0",
         "0.007843138",
         "0.0",
         "0.0",
         "0.0",
         "0.0",
         "0.0",
         "0.0",
         "0.0",
         "0.0",
         "0.0",
         "0.0",
         "0.0",
         "0.0",
         "0.8",
         "0.8117647",
         "0.8117647",
         "0.8156863",
         "0.80784315",
         "0.80784315",
         "0.84313726",
         "0.8235294",
         "0.8235294",
         "0.8117647",
         "0.83137256",
         "0.7647059",
         "0.8235294",
         "0.4627451",
         "0.0",
         "0.007843138",
         "0.0",
         "0.0",
         "0.0",
         "0.0",
         "0.0",
         "0.0",
         "0.0",
         "0.0",
         "0.0",
         "0.003921569",
         "0.0",
         "0.0",
         "0.7764706",
         "0.8156863",
         "0.8156863",
         "0.8156863",
         "0.8",
         "0.8117647",
         "0.83137256",
         "0.83137256",
         "0.8235294",
         "0.8117647",
         "0.827451",
         "0.76862746",
         "0.8117647",
         "0.4745098",
         "0.0",
         "0.003921569",
         "0.0",
         "0.0",
         "0.0",
         "0.0",
         "0.0",
         "0.0",
         "0.0",
         "0.0",
         "0.0",
         "0.003921569",
         "0.0",
         "0.0",
         "0.7764706",
         "0.8235294",
         "0.8117647",
         "0.8156863",
         "0.80784315",
         "0.81960785",
         "0.8352941",
         "0.83137256",
         "0.827451",
         "0.8117647",
         "0.8235294",
         "0.77254903",
         "0.8117647",
         "0.4862745",
         "0.0",
         "0.003921569",
         "0.0",
         "0.0",
         "0.0",
         "0.0",
         "0.0",
         "0.0",
         "0.0",
         "0.0",
         "0.0",
         "0.0",
         "0.0",
         "0.0",
         "0.6745098",
         "0.8235294",
         "0.79607844",
         "0.7882353",
         "0.78039217",
         "0.8",
         "0.8117647",
         "0.8039216",
         "0.8",
         "0.7882353",
         "0.8039216",
         "0.77254903",
         "0.80784315",
         "0.49803922",
         "0.0",
         "0.0",
         "0.0",
         "0.0",
         "0.0",
         "0.0",
         "0.0",
         "0.0",
         "0.0",
         "0.0",
         "0.0",
         "0.0",
         "0.0",
         "0.0",
         "0.7372549",
         "0.8666667",
         "0.8392157",
         "0.91764706",
         "0.9254902",
         "0.93333334",
         "0.95686275",
         "0.95686275",
         "0.95686275",
         "0.9411765",
         "0.9529412",
         "0.8392157",
         "0.8784314",
         "0.63529414",
         "0.0",
         "0.007843138",
         "0.0",
         "0.0",
         "0.0",
         "0.0",
         "0.0",
         "0.0",
         "0.0",
         "0.0",
         "0.0",
         "0.003921569",
         "0.0",
         "0.0",
         "0.54509807",
         "0.57254905",
         "0.50980395",
         "0.5294118",
         "0.5294118",
         "0.5372549",
         "0.49019608",
         "0.4862745",
         "0.49019608",
         "0.4745098",
         "0.46666667",
         "0.44705883",
         "0.50980395",
         "0.29803923",
         "0.0",
         "0.0",
         "0.0",
         "0.0",
         "0.0",
         "0.0",
         "0"
        ],
        [
         "2",
         "0.0",
         "0.0",
         "0.0",
         "0.0",
         "0.0",
         "0.0",
         "0.0",
         "0.0",
         "0.0",
         "0.08627451",
         "0.4627451",
         "0.09411765",
         "0.0",
         "0.0",
         "0.0",
         "0.0",
         "0.0",
         "0.1882353",
         "0.34509805",
         "0.019607844",
         "0.0",
         "0.0",
         "0.0",
         "0.0",
         "0.0",
         "0.0",
         "0.0",
         "0.0",
         "0.0",
         "0.0",
         "0.0",
         "0.0",
         "0.0",
         "0.0",
         "0.0",
         "0.0",
         "0.047058824",
         "0.39215687",
         "0.83137256",
         "0.8039216",
         "0.7254902",
         "0.7019608",
         "0.6784314",
         "0.7294118",
         "0.75686276",
         "0.8666667",
         "0.5568628",
         "0.33333334",
         "0.0",
         "0.0",
         "0.0",
         "0.0",
         "0.0",
         "0.0",
         "0.0",
         "0.0",
         "0.0",
         "0.0",
         "0.0",
         "0.0",
         "0.0",
         "0.0",
         "0.0",
         "0.0",
         "0.0",
         "0.33333334",
         "0.29803923",
         "0.78039217",
         "0.88235295",
         "0.972549",
         "1.0",
         "0.93333334",
         "0.8862745",
         "0.6156863",
         "0.26666668",
         "0.3137255",
         "0.0",
         "0.0",
         "0.0",
         "0.0",
         "0.0",
         "0.0",
         "0.0",
         "0.0",
         "0.0",
         "0.0",
         "0.0",
         "0.0",
         "0.0",
         "0.0",
         "0.0",
         "0.0",
         "0.0",
         "0.35686275",
         "0.27058825",
         "0.35686275",
         "0.7882353",
         "0.85490197",
         "0.88235295",
         "0.81960785",
         "0.61960787",
         "0.23921569",
         "0.3647059",
         "0.28235295",
         "0.0",
         "0.0",
         "0.0",
         "0.0",
         "0.0",
         "0.0",
         "0.0",
         "0.0",
         "0.0",
         "0.0",
         "0.0",
         "0.0",
         "0.0",
         "0.0",
         "0.0",
         "0.0",
         "0.0",
         "0.30980393",
         "0.34901962",
         "0.23921569",
         "0.23137255",
         "0.34117648",
         "0.42352942",
         "0.29411766",
         "0.21960784",
         "0.29803923",
         "0.38039216",
         "0.28627452",
         "0.0",
         "0.0",
         "0.0",
         "0.0",
         "0.0",
         "0.0",
         "0.0",
         "0.0",
         "0.0",
         "0.0",
         "0.0",
         "0.0",
         "0.0",
         "0.0",
         "0.0",
         "0.0",
         "0.0",
         "0.29411766",
         "0.34901962",
         "0.3137255",
         "0.3137255",
         "0.2627451",
         "0.24705882",
         "0.28627452",
         "0.3254902",
         "0.3137255",
         "0.3764706",
         "0.28235295",
         "0.0",
         "0.0",
         "0.0",
         "0.0",
         "0.0",
         "0.0",
         "0.0",
         "0.0",
         "0.0",
         "0.0",
         "0.0",
         "0.0",
         "0.0",
         "0.0",
         "0.0",
         "0.0",
         "0.0",
         "0.3019608",
         "0.34509805",
         "0.3019608",
         "0.3137255",
         "0.3254902",
         "0.3254902",
         "0.3254902",
         "0.3254902",
         "0.31764707",
         "0.37254903",
         "0.29803923",
         "0.0",
         "0.0",
         "0.0",
         "0.0",
         "0.0",
         "0.0",
         "0.0",
         "0.0",
         "0.0",
         "0.0",
         "0.0",
         "0.0",
         "0.0",
         "0.0",
         "0.0",
         "0.0",
         "0.0",
         "0.34901962",
         "0.3764706",
         "0.3137255",
         "0.3254902",
         "0.31764707",
         "0.32941177",
         "0.33333334",
         "0.33333334",
         "0.33333334",
         "0.38039216",
         "0.32941177",
         "0.0",
         "0.0",
         "0.0",
         "0.0",
         "0.0",
         "0.0",
         "0.0",
         "0.0",
         "0.0",
         "0.0",
         "0.0",
         "0.0",
         "0.0",
         "0.0",
         "0.0",
         "0.0",
         "0.0",
         "0.3647059",
         "0.38039216",
         "0.31764707",
         "0.33333334",
         "0.32941177",
         "0.33333334",
         "0.34117648",
         "0.34509805",
         "0.32941177",
         "0.3882353",
         "0.34117648",
         "0.0",
         "0.0",
         "0.0",
         "0.0",
         "0.0",
         "0.0",
         "0.0",
         "0.0",
         "0.0",
         "0.0",
         "0.0",
         "0.0",
         "0.0",
         "0.0",
         "0.0",
         "0.0",
         "0.0",
         "0.37254903",
         "0.34117648",
         "0.32941177",
         "0.34117648",
         "0.34509805",
         "0.33333334",
         "0.34117648",
         "0.34117648",
         "0.32941177",
         "0.36078432",
         "0.34117648",
         "0.0",
         "0.0",
         "0.0",
         "0.0",
         "0.0",
         "0.0",
         "0.0",
         "0.0",
         "0.0",
         "0.0",
         "0.0",
         "0.0",
         "0.0",
         "0.0",
         "0.0",
         "0.0",
         "0.0",
         "0.38039216",
         "0.34117648",
         "0.34117648",
         "0.33333334",
         "0.34509805",
         "0.34117648",
         "0.34117648",
         "0.34117648",
         "0.34509805",
         "0.33333334",
         "0.41960785",
         "0.0",
         "0.0",
         "0.0",
         "0.0",
         "0.0",
         "0.0",
         "0.0",
         "0.0",
         "0.0",
         "0.0",
         "0.0",
         "0.0",
         "0.0",
         "0.0",
         "0.0",
         "0.0",
         "0.06666667",
         "0.39215687",
         "0.34509805",
         "0.34117648",
         "0.34117648",
         "0.34509805",
         "0.34117648",
         "0.34117648",
         "0.33333334",
         "0.34901962",
         "0.3019608",
         "0.4627451",
         "0.03137255",
         "0.0",
         "0.0",
         "0.0",
         "0.0",
         "0.0",
         "0.0",
         "0.0",
         "0.0",
         "0.0",
         "0.0",
         "0.0",
         "0.0",
         "0.0",
         "0.0",
         "0.0",
         "0.039215688",
         "0.3647059",
         "0.34117648",
         "0.34117648",
         "0.34117648",
         "0.34117648",
         "0.34117648",
         "0.34509805",
         "0.34117648",
         "0.34901962",
         "0.3137255",
         "0.40392157",
         "0.0",
         "0.0",
         "0.0",
         "0.0",
         "0.0",
         "0.0",
         "0.0",
         "0.0",
         "0.0",
         "0.0",
         "0.0",
         "0.0",
         "0.0",
         "0.0",
         "0.0",
         "0.0",
         "0.03529412",
         "0.3764706",
         "0.34117648",
         "0.34117648",
         "0.34117648",
         "0.34117648",
         "0.34117648",
         "0.34509805",
         "0.34117648",
         "0.34509805",
         "0.34117648",
         "0.40392157",
         "0.0",
         "0.0",
         "0.0",
         "0.0",
         "0.0",
         "0.0",
         "0.0",
         "0.0",
         "0.0",
         "0.0",
         "0.0",
         "0.0",
         "0.0",
         "0.0",
         "0.0",
         "0.0",
         "0.047058824",
         "0.3764706",
         "0.33333334",
         "0.34117648",
         "0.34117648",
         "0.34117648",
         "0.33333334",
         "0.34117648",
         "0.34117648",
         "0.34509805",
         "0.34901962",
         "0.39215687",
         "0.007843138",
         "0.0",
         "0.0",
         "0.0",
         "0.0",
         "0.0",
         "0.0",
         "0.0",
         "0.0",
         "0.0",
         "0.0",
         "0.0",
         "0.0",
         "0.0",
         "0.0",
         "0.0",
         "0.078431375",
         "0.37254903",
         "0.32941177",
         "0.34509805",
         "0.33333334",
         "0.34117648",
         "0.34509805",
         "0.34509805",
         "0.34509805",
         "0.34901962",
         "0.34509805",
         "0.3882353",
         "0.03137255",
         "0.0",
         "0.0",
         "0.0",
         "0.0",
         "0.0",
         "0.0",
         "0.0",
         "0.0",
         "0.0",
         "0.0",
         "0.0",
         "0.0",
         "0.0",
         "0.0",
         "0.0",
         "0.08235294",
         "0.3764706",
         "0.33333334",
         "0.34117648",
         "0.33333334",
         "0.34509805",
         "0.34509805",
         "0.34509805",
         "0.34509805",
         "0.34901962",
         "0.34901962",
         "0.3882353",
         "0.039215688",
         "0.0",
         "0.0",
         "0.0",
         "0.0",
         "0.0",
         "0.0",
         "0.0",
         "0.0",
         "0.0",
         "0.0",
         "0.0",
         "0.0",
         "0.0",
         "0.0",
         "0.0",
         "0.09411765",
         "0.3764706",
         "0.33333334",
         "0.34117648",
         "0.33333334",
         "0.34117648",
         "0.34509805",
         "0.34509805",
         "0.34901962",
         "0.34509805",
         "0.35686275",
         "0.4",
         "0.05490196",
         "0.0",
         "0.0",
         "0.0",
         "0.0",
         "0.0",
         "0.0",
         "0.0",
         "0.0",
         "0.0",
         "0.0",
         "0.0",
         "0.0",
         "0.0",
         "0.0",
         "0.0",
         "0.09803922",
         "0.3647059",
         "0.32941177",
         "0.34509805",
         "0.34117648",
         "0.34117648",
         "0.34117648",
         "0.34117648",
         "0.34117648",
         "0.34901962",
         "0.35686275",
         "0.40392157",
         "0.11372549",
         "0.0",
         "0.0",
         "0.0",
         "0.0",
         "0.0",
         "0.0",
         "0.0",
         "0.0",
         "0.0",
         "0.0",
         "0.0",
         "0.0",
         "0.0",
         "0.0",
         "0.0",
         "0.11764706",
         "0.37254903",
         "0.33333334",
         "0.34509805",
         "0.34509805",
         "0.34117648",
         "0.34117648",
         "0.34117648",
         "0.34117648",
         "0.34901962",
         "0.34509805",
         "0.4",
         "0.14509805",
         "0.0",
         "0.0",
         "0.0",
         "0.0",
         "0.0",
         "0.0",
         "0.0",
         "0.0",
         "0.0",
         "0.0",
         "0.0",
         "0.0",
         "0.0",
         "0.0",
         "0.0",
         "0.13333334",
         "0.3764706",
         "0.34509805",
         "0.34117648",
         "0.34117648",
         "0.34117648",
         "0.34117648",
         "0.34117648",
         "0.34117648",
         "0.33333334",
         "0.33333334",
         "0.38039216",
         "0.14901961",
         "0.0",
         "0.0",
         "0.0",
         "0.0",
         "0.0",
         "0.0",
         "0.0",
         "0.0",
         "0.0",
         "0.0",
         "0.0",
         "0.0",
         "0.0",
         "0.0",
         "0.0",
         "0.15686275",
         "0.3764706",
         "0.34117648",
         "0.33333334",
         "0.34117648",
         "0.34117648",
         "0.34117648",
         "0.34117648",
         "0.34117648",
         "0.33333334",
         "0.32941177",
         "0.36078432",
         "0.19215687",
         "0.0",
         "0.0",
         "0.0",
         "0.0",
         "0.0",
         "0.0",
         "0.0",
         "0.0",
         "0.0",
         "0.0",
         "0.0",
         "0.0",
         "0.0",
         "0.0",
         "0.0",
         "0.18039216",
         "0.37254903",
         "0.3254902",
         "0.32941177",
         "0.34117648",
         "0.34117648",
         "0.34117648",
         "0.34117648",
         "0.34117648",
         "0.34117648",
         "0.32941177",
         "0.34117648",
         "0.32941177",
         "0.0",
         "0.0",
         "0.0",
         "0.0",
         "0.0",
         "0.0",
         "0.0",
         "0.0",
         "0.0",
         "0.0",
         "0.0",
         "0.0",
         "0.0",
         "0.0",
         "0.0",
         "0.28235295",
         "0.37254903",
         "0.33333334",
         "0.32941177",
         "0.33333334",
         "0.34509805",
         "0.34117648",
         "0.34117648",
         "0.34901962",
         "0.34117648",
         "0.33333334",
         "0.3254902",
         "0.24705882",
         "0.0",
         "0.0",
         "0.0",
         "0.0",
         "0.0",
         "0.0",
         "0.0",
         "0.0",
         "0.0",
         "0.0",
         "0.0",
         "0.0",
         "0.0",
         "0.0",
         "0.0",
         "0.2509804",
         "0.39215687",
         "0.32941177",
         "0.34117648",
         "0.34509805",
         "0.33333334",
         "0.34509805",
         "0.34509805",
         "0.32941177",
         "0.34117648",
         "0.3254902",
         "0.37254903",
         "0.20784314",
         "0.0",
         "0.0",
         "0.0",
         "0.0",
         "0.0",
         "0.0",
         "0.0",
         "0.0",
         "0.0",
         "0.0",
         "0.0",
         "0.0",
         "0.0",
         "0.0",
         "0.0",
         "0.039215688",
         "0.4",
         "0.39215687",
         "0.35686275",
         "0.35686275",
         "0.34901962",
         "0.33333334",
         "0.32941177",
         "0.32941177",
         "0.34117648",
         "0.42352942",
         "0.41568628",
         "0.05490196",
         "0.0",
         "0.0",
         "0.0",
         "0.0",
         "0.0",
         "0.0",
         "0.0",
         "0.0",
         "0.0",
         "0.0",
         "0.0",
         "0.0",
         "0.0",
         "0.0",
         "0.0",
         "0.0",
         "0.03137255",
         "0.28627452",
         "0.3647059",
         "0.40784314",
         "0.41960785",
         "0.40392157",
         "0.40392157",
         "0.41568628",
         "0.4",
         "0.29411766",
         "0.039215688",
         "0.0",
         "0.0",
         "0.0",
         "0.0",
         "0.0",
         "0.0",
         "0.0",
         "0.0",
         "0.0",
         "0.0",
         "0.0",
         "0.0",
         "0.0",
         "0.0",
         "0.0",
         "0.0",
         "0.003921569",
         "0.0",
         "0.0",
         "0.0",
         "0.07058824",
         "0.16470589",
         "0.22352941",
         "0.21960784",
         "0.1254902",
         "0.03137255",
         "0.0",
         "0.0",
         "0.003921569",
         "0.0",
         "0.0",
         "0.0",
         "0.0",
         "0.0",
         "0.0",
         "0.0",
         "0"
        ],
        [
         "3",
         "0.0",
         "0.0",
         "0.0",
         "0.0",
         "0.0",
         "0.0",
         "0.0",
         "0.0",
         "0.12941177",
         "0.3764706",
         "0.6862745",
         "0.6117647",
         "0.2509804",
         "0.05490196",
         "0.21176471",
         "0.5372549",
         "0.8",
         "0.7607843",
         "0.4",
         "0.0",
         "0.0",
         "0.0",
         "0.0",
         "0.0",
         "0.0",
         "0.0",
         "0.0",
         "0.0",
         "0.0",
         "0.0",
         "0.0",
         "0.0",
         "0.0",
         "0.0",
         "0.28627452",
         "0.7294118",
         "0.69411767",
         "0.7176471",
         "0.6862745",
         "0.7372549",
         "0.9098039",
         "1.0",
         "0.8745098",
         "0.85882354",
         "0.7607843",
         "0.7019608",
         "0.7294118",
         "0.8352941",
         "0.57254905",
         "0.0",
         "0.0",
         "0.0",
         "0.0",
         "0.0",
         "0.0",
         "0.0",
         "0.0",
         "0.0",
         "0.0",
         "0.0",
         "0.0",
         "0.13725491",
         "0.6392157",
         "0.54901963",
         "0.5882353",
         "0.59607846",
         "0.5882353",
         "0.57254905",
         "0.6862745",
         "0.6862745",
         "0.6784314",
         "0.67058825",
         "0.6117647",
         "0.59607846",
         "0.5803922",
         "0.5058824",
         "0.6117647",
         "0.54901963",
         "0.0",
         "0.0",
         "0.0",
         "0.0",
         "0.0",
         "0.0",
         "0.0",
         "0.0",
         "0.0",
         "0.0",
         "0.0",
         "0.5882353",
         "0.5568628",
         "0.54901963",
         "0.59607846",
         "0.627451",
         "0.6117647",
         "0.57254905",
         "0.5568628",
         "0.49803922",
         "0.5294118",
         "0.52156866",
         "0.54901963",
         "0.54901963",
         "0.5372549",
         "0.52156866",
         "0.49019608",
         "0.6627451",
         "0.29411766",
         "0.0",
         "0.0",
         "0.0",
         "0.0",
         "0.0",
         "0.0",
         "0.0",
         "0.0",
         "0.0",
         "0.0",
         "0.21176471",
         "0.654902",
         "0.57254905",
         "0.5058824",
         "0.5568628",
         "0.5372549",
         "0.5372549",
         "0.5137255",
         "0.5803922",
         "0.5803922",
         "0.52156866",
         "0.5137255",
         "0.5137255",
         "0.5137255",
         "0.49019608",
         "0.54901963",
         "0.54901963",
         "0.0",
         "0.0",
         "0.0",
         "0.0",
         "0.0",
         "0.0",
         "0.0",
         "0.0",
         "0.0",
         "0.0",
         "0.0",
         "0.0",
         "0.43137255",
         "0.7372549",
         "0.52156866",
         "0.57254905",
         "0.59607846",
         "0.52156866",
         "0.49019608",
         "0.49803922",
         "0.46666667",
         "0.5058824",
         "0.52156866",
         "0.46666667",
         "0.54901963",
         "0.5137255",
         "0.5882353",
         "0.05490196",
         "0.0",
         "0.0",
         "0.0",
         "0.0",
         "0.0",
         "0.0",
         "0.0",
         "0.0",
         "0.0",
         "0.0",
         "0.0",
         "0.0",
         "0.0",
         "0.8666667",
         "0.61960787",
         "0.5372549",
         "0.5294118",
         "0.48235294",
         "0.43137255",
         "0.43137255",
         "0.44705883",
         "0.42352942",
         "0.4392157",
         "0.45882353",
         "0.49803922",
         "0.5568628",
         "0.3019608",
         "0.0",
         "0.0",
         "0.0",
         "0.0",
         "0.0",
         "0.0",
         "0.0",
         "0.0",
         "0.0",
         "0.0",
         "0.0",
         "0.0",
         "0.015686275",
         "0.0",
         "0.09803922",
         "0.61960787",
         "0.5372549",
         "0.49019608",
         "0.46666667",
         "0.46666667",
         "0.43137255",
         "0.45882353",
         "0.45882353",
         "0.43137255",
         "0.46666667",
         "0.49803922",
         "0.5647059",
         "0.0",
         "0.0",
         "0.0",
         "0.0",
         "0.0",
         "0.0",
         "0.0",
         "0.0",
         "0.0",
         "0.0",
         "0.0",
         "0.0",
         "0.0",
         "0.0",
         "0.0",
         "0.0",
         "0.48235294",
         "0.6117647",
         "0.5058824",
         "0.4392157",
         "0.43137255",
         "0.4",
         "0.4392157",
         "0.39215687",
         "0.4745098",
         "0.45882353",
         "0.5058824",
         "0.44705883",
         "0.0",
         "0.0",
         "0.0",
         "0.0",
         "0.0",
         "0.0",
         "0.0",
         "0.0",
         "0.0",
         "0.0",
         "0.0",
         "0.0",
         "0.0",
         "0.0",
         "0.0",
         "0.0",
         "0.49019608",
         "0.6627451",
         "0.49803922",
         "0.46666667",
         "0.41568628",
         "0.42352942",
         "0.40784314",
         "0.36862746",
         "0.4745098",
         "0.44705883",
         "0.5058824",
         "0.35686275",
         "0.0",
         "0.0",
         "0.0",
         "0.0",
         "0.0",
         "0.0",
         "0.0",
         "0.0",
         "0.0",
         "0.0",
         "0.0",
         "0.0",
         "0.0",
         "0.0",
         "0.007843138",
         "0.0",
         "0.38431373",
         "0.67058825",
         "0.5058824",
         "0.4392157",
         "0.40784314",
         "0.44705883",
         "0.41568628",
         "0.4",
         "0.4392157",
         "0.40784314",
         "0.52156866",
         "0.2509804",
         "0.0",
         "0.015686275",
         "0.0",
         "0.0",
         "0.0",
         "0.0",
         "0.0",
         "0.0",
         "0.0",
         "0.0",
         "0.0",
         "0.0",
         "0.0",
         "0.0",
         "0.007843138",
         "0.0",
         "0.25882354",
         "0.6784314",
         "0.5294118",
         "0.5058824",
         "0.38431373",
         "0.39215687",
         "0.46666667",
         "0.4",
         "0.42352942",
         "0.38431373",
         "0.5294118",
         "0.23529412",
         "0.0",
         "0.015686275",
         "0.0",
         "0.0",
         "0.0",
         "0.0",
         "0.0",
         "0.0",
         "0.0",
         "0.0",
         "0.0",
         "0.0",
         "0.0",
         "0.0",
         "0.007843138",
         "0.0",
         "0.21960784",
         "0.67058825",
         "0.5294118",
         "0.49803922",
         "0.39215687",
         "0.42352942",
         "0.45882353",
         "0.33333334",
         "0.41568628",
         "0.43137255",
         "0.5294118",
         "0.25882354",
         "0.0",
         "0.015686275",
         "0.0",
         "0.0",
         "0.0",
         "0.0",
         "0.0",
         "0.0",
         "0.0",
         "0.0",
         "0.0",
         "0.0",
         "0.0",
         "0.0",
         "0.0",
         "0.0",
         "0.20392157",
         "0.5882353",
         "0.5058824",
         "0.43137255",
         "0.39215687",
         "0.35686275",
         "0.4",
         "0.36862746",
         "0.3254902",
         "0.40784314",
         "0.48235294",
         "0.25882354",
         "0.0",
         "0.015686275",
         "0.0",
         "0.0",
         "0.0",
         "0.0",
         "0.0",
         "0.0",
         "0.0",
         "0.0",
         "0.0",
         "0.0",
         "0.0",
         "0.0",
         "0.007843138",
         "0.0",
         "0.25882354",
         "0.654902",
         "0.54901963",
         "0.5803922",
         "0.5803922",
         "0.49803922",
         "0.5372549",
         "0.59607846",
         "0.57254905",
         "0.57254905",
         "0.5803922",
         "0.3764706",
         "0.0",
         "0.0",
         "0.0",
         "0.0",
         "0.0",
         "0.0",
         "0.0",
         "0.0",
         "0.0",
         "0.0",
         "0.0",
         "0.0",
         "0.0",
         "0.0",
         "0.0",
         "0.0",
         "0.1764706",
         "0.48235294",
         "0.36862746",
         "0.40784314",
         "0.3764706",
         "0.46666667",
         "0.4745098",
         "0.41568628",
         "0.38431373",
         "0.4392157",
         "0.34117648",
         "0.44705883",
         "0.0",
         "0.0",
         "0.0",
         "0.0",
         "0.0",
         "0.0",
         "0.0",
         "0.0",
         "0.0",
         "0.0",
         "0.0",
         "0.0",
         "0.0",
         "0.0",
         "0.0",
         "0.0",
         "0.41568628",
         "0.34901962",
         "0.22745098",
         "0.19607843",
         "0.14509805",
         "0.19607843",
         "0.25882354",
         "0.21960784",
         "0.19607843",
         "0.29411766",
         "0.29411766",
         "0.5372549",
         "0.08627451",
         "0.0",
         "0.007843138",
         "0.0",
         "0.0",
         "0.0",
         "0.0",
         "0.0",
         "0.0",
         "0.0",
         "0.0",
         "0.0",
         "0.0",
         "0.007843138",
         "0.0",
         "0.11372549",
         "0.5803922",
         "0.44705883",
         "0.41568628",
         "0.49019608",
         "0.34901962",
         "0.39215687",
         "0.52156866",
         "0.45882353",
         "0.5137255",
         "0.5137255",
         "0.5137255",
         "0.49019608",
         "0.4392157",
         "0.0",
         "0.0",
         "0.0",
         "0.0",
         "0.0",
         "0.0",
         "0.0",
         "0.0",
         "0.0",
         "0.0",
         "0.0",
         "0.0",
         "0.0",
         "0.0",
         "0.39215687",
         "0.41568628",
         "0.44705883",
         "0.35686275",
         "0.5372549",
         "0.24313726",
         "0.4",
         "0.5137255",
         "0.34901962",
         "0.5294118",
         "0.4392157",
         "0.5137255",
         "0.42352942",
         "0.5294118",
         "0.14509805",
         "0.0",
         "0.0",
         "0.0",
         "0.0",
         "0.0",
         "0.0",
         "0.0",
         "0.0",
         "0.0",
         "0.0",
         "0.0",
         "0.0",
         "0.0",
         "0.57254905",
         "0.39215687",
         "0.42352942",
         "0.38431373",
         "0.5647059",
         "0.24313726",
         "0.41568628",
         "0.5137255",
         "0.34117648",
         "0.52156866",
         "0.40784314",
         "0.627451",
         "0.45882353",
         "0.4745098",
         "0.26666668",
         "0.0",
         "0.0",
         "0.0",
         "0.0",
         "0.0",
         "0.0",
         "0.0",
         "0.0",
         "0.0",
         "0.0",
         "0.0",
         "0.0",
         "0.12941177",
         "0.4745098",
         "0.42352942",
         "0.3764706",
         "0.39215687",
         "0.54901963",
         "0.2784314",
         "0.41568628",
         "0.49803922",
         "0.33333334",
         "0.54901963",
         "0.40784314",
         "0.5882353",
         "0.54901963",
         "0.44705883",
         "0.34901962",
         "0.0",
         "0.0",
         "0.0",
         "0.0",
         "0.0",
         "0.0",
         "0.0",
         "0.0",
         "0.0",
         "0.0",
         "0.0",
         "0.0",
         "0.24313726",
         "0.46666667",
         "0.4392157",
         "0.4",
         "0.43137255",
         "0.5372549",
         "0.29411766",
         "0.41568628",
         "0.5647059",
         "0.31764707",
         "0.5647059",
         "0.42352942",
         "0.45882353",
         "0.6039216",
         "0.45882353",
         "0.40784314",
         "0.07058824",
         "0.0",
         "0.0",
         "0.0",
         "0.0",
         "0.0",
         "0.0",
         "0.0",
         "0.0",
         "0.0",
         "0.0",
         "0.0",
         "0.25882354",
         "0.4745098",
         "0.4",
         "0.4392157",
         "0.45882353",
         "0.5137255",
         "0.28627452",
         "0.40784314",
         "0.6117647",
         "0.3019608",
         "0.5372549",
         "0.5294118",
         "0.3254902",
         "0.7019608",
         "0.5058824",
         "0.4745098",
         "0.13725491",
         "0.0",
         "0.0",
         "0.0",
         "0.0",
         "0.0",
         "0.0",
         "0.0",
         "0.0",
         "0.0",
         "0.0",
         "0.0",
         "0.33333334",
         "0.49803922",
         "0.31764707",
         "0.49019608",
         "0.52156866",
         "0.46666667",
         "0.30980393",
         "0.39215687",
         "0.6627451",
         "0.3254902",
         "0.5058824",
         "0.6862745",
         "0.23529412",
         "0.6392157",
         "0.5294118",
         "0.57254905",
         "0.15294118",
         "0.0",
         "0.0",
         "0.0",
         "0.0",
         "0.0",
         "0.0",
         "0.0",
         "0.0",
         "0.0",
         "0.0",
         "0.0",
         "0.41568628",
         "0.5058824",
         "0.24313726",
         "0.54901963",
         "0.5647059",
         "0.42352942",
         "0.33333334",
         "0.3254902",
         "0.61960787",
         "0.33333334",
         "0.5058824",
         "0.6862745",
         "0.1882353",
         "0.57254905",
         "0.52156866",
         "0.5294118",
         "0.2509804",
         "0.0",
         "0.0",
         "0.0",
         "0.0",
         "0.0",
         "0.0",
         "0.0",
         "0.0",
         "0.0",
         "0.0",
         "0.0",
         "0.45882353",
         "0.46666667",
         "0.30980393",
         "0.54901963",
         "0.59607846",
         "0.4",
         "0.34901962",
         "0.43137255",
         "0.5372549",
         "0.3764706",
         "0.5882353",
         "0.76862746",
         "0.3254902",
         "0.5647059",
         "0.5294118",
         "0.52156866",
         "0.3019608",
         "0.0",
         "0.0",
         "0.0",
         "0.0",
         "0.0",
         "0.0",
         "0.0",
         "0.0",
         "0.0",
         "0.0",
         "0.0",
         "0.6039216",
         "0.4745098",
         "0.34117648",
         "0.54901963",
         "0.6039216",
         "0.4392157",
         "0.36862746",
         "0.20392157",
         "0.5568628",
         "0.39215687",
         "0.3254902",
         "0.59607846",
         "0.33333334",
         "0.627451",
         "0.52156866",
         "0.39215687",
         "0.047058824",
         "0.0",
         "0.0",
         "0.0",
         "0.0",
         "0.0",
         "0.0",
         "0.0",
         "0.0",
         "0.0",
         "0.0",
         "0.0",
         "0.015686275",
         "0.0",
         "0.007843138",
         "0.0",
         "0.13725491",
         "0.015686275",
         "0.12941177",
         "0.0",
         "0.0",
         "0.0",
         "0.0",
         "0.0",
         "0.0",
         "0.0",
         "0.0",
         "0.0",
         "0.0",
         "0.0",
         "0.0",
         "0.0",
         "0.0",
         "0.0",
         "3"
        ],
        [
         "4",
         "0.0",
         "0.0",
         "0.0",
         "0.0",
         "0.0",
         "0.0",
         "0.0",
         "0.0",
         "0.0",
         "0.0",
         "0.0",
         "0.0",
         "0.0",
         "0.0",
         "0.0",
         "0.0",
         "0.0",
         "0.101960786",
         "0.0",
         "0.0",
         "0.0",
         "0.0",
         "0.0",
         "0.0",
         "0.0",
         "0.0",
         "0.0",
         "0.0",
         "0.0",
         "0.0",
         "0.0",
         "0.0",
         "0.0",
         "0.0",
         "0.0",
         "0.0",
         "0.7411765",
         "0.80784315",
         "0.73333335",
         "0.1254902",
         "0.0",
         "0.0",
         "0.0",
         "0.101960786",
         "0.8509804",
         "0.8862745",
         "0.76862746",
         "0.043137256",
         "0.0",
         "0.0",
         "0.0",
         "0.0",
         "0.0",
         "0.0",
         "0.0",
         "0.0",
         "0.0",
         "0.0",
         "0.0",
         "0.0",
         "0.0",
         "0.0",
         "0.0",
         "0.0",
         "0.7529412",
         "0.8901961",
         "0.91764706",
         "0.9529412",
         "0.9019608",
         "0.5764706",
         "0.9372549",
         "0.9490196",
         "0.91764706",
         "0.85490197",
         "0.81960785",
         "0.0",
         "0.0",
         "0.0",
         "0.0",
         "0.0",
         "0.0",
         "0.0",
         "0.0",
         "0.0",
         "0.0",
         "0.0",
         "0.0",
         "0.0",
         "0.0",
         "0.0",
         "0.0",
         "0.0",
         "0.6784314",
         "0.88235295",
         "0.84313726",
         "0.9137255",
         "0.99607843",
         "0.0",
         "0.7607843",
         "0.9411765",
         "0.8509804",
         "0.8666667",
         "0.74509805",
         "0.0",
         "0.0",
         "0.0",
         "0.0",
         "0.0",
         "0.0",
         "0.0",
         "0.0",
         "0.0",
         "0.0",
         "0.0",
         "0.0",
         "0.0",
         "0.0",
         "0.0",
         "0.0",
         "0.0",
         "0.54509807",
         "0.8980392",
         "0.83137256",
         "0.8862745",
         "1.0",
         "0.0",
         "0.63529414",
         "1.0",
         "0.8352941",
         "0.8862745",
         "0.78431374",
         "0.0",
         "0.0",
         "0.0",
         "0.0",
         "0.0",
         "0.0",
         "0.0",
         "0.0",
         "0.0",
         "0.0",
         "0.0",
         "0.0",
         "0.0",
         "0.0",
         "0.0",
         "0.0",
         "0.0",
         "0.38431373",
         "0.9098039",
         "0.827451",
         "0.84313726",
         "0.9764706",
         "0.18039216",
         "0.63529414",
         "0.9647059",
         "0.8392157",
         "0.9019608",
         "0.7294118",
         "0.0",
         "0.0",
         "0.0",
         "0.0",
         "0.0",
         "0.0",
         "0.0",
         "0.0",
         "0.0",
         "0.0",
         "0.0",
         "0.0",
         "0.0",
         "0.0",
         "0.0",
         "0.0",
         "0.0",
         "0.27450982",
         "0.89411765",
         "0.8352941",
         "0.8627451",
         "0.8784314",
         "0.9882353",
         "0.9372549",
         "0.85882354",
         "0.8509804",
         "0.90588236",
         "0.67058825",
         "0.0",
         "0.0",
         "0.0",
         "0.0",
         "0.0",
         "0.0",
         "0.0",
         "0.0",
         "0.0",
         "0.0",
         "0.0",
         "0.0",
         "0.0",
         "0.0",
         "0.0",
         "0.0",
         "0.0",
         "0.1764706",
         "0.87058824",
         "0.8392157",
         "0.85490197",
         "0.84705883",
         "0.8235294",
         "0.84313726",
         "0.8509804",
         "0.7921569",
         "0.8784314",
         "0.6745098",
         "0.0",
         "0.0",
         "0.0",
         "0.0",
         "0.0",
         "0.0",
         "0.0",
         "0.0",
         "0.0",
         "0.0",
         "0.0",
         "0.0",
         "0.0",
         "0.0",
         "0.0",
         "0.0",
         "0.0",
         "0.09411765",
         "0.99607843",
         "0.8392157",
         "0.8235294",
         "0.827451",
         "0.8392157",
         "0.84313726",
         "0.83137256",
         "0.79607844",
         "0.8666667",
         "0.654902",
         "0.0",
         "0.0",
         "0.0",
         "0.0",
         "0.0",
         "0.0",
         "0.0",
         "0.0",
         "0.0",
         "0.0",
         "0.0",
         "0.0",
         "0.0",
         "0.0",
         "0.0",
         "0.0",
         "0.0",
         "0.0",
         "0.99607843",
         "0.84705883",
         "0.84313726",
         "0.8509804",
         "0.8509804",
         "0.84705883",
         "0.84705883",
         "0.80784315",
         "0.88235295",
         "0.5882353",
         "0.0",
         "0.0",
         "0.0",
         "0.0",
         "0.0",
         "0.0",
         "0.0",
         "0.0",
         "0.0",
         "0.0",
         "0.0",
         "0.0",
         "0.0",
         "0.0",
         "0.0",
         "0.0",
         "0.0",
         "0.0",
         "0.96862745",
         "0.84705883",
         "0.8392157",
         "0.8509804",
         "0.84705883",
         "0.8392157",
         "0.83137256",
         "0.79607844",
         "0.8862745",
         "0.53333336",
         "0.0",
         "0.0",
         "0.0",
         "0.0",
         "0.0",
         "0.0",
         "0.0",
         "0.0",
         "0.0",
         "0.0",
         "0.0",
         "0.0",
         "0.0",
         "0.0",
         "0.0",
         "0.0",
         "0.0",
         "0.0",
         "0.9607843",
         "0.84705883",
         "0.8392157",
         "0.84705883",
         "0.8509804",
         "0.84313726",
         "0.827451",
         "0.8",
         "0.88235295",
         "0.49019608",
         "0.0",
         "0.0",
         "0.0",
         "0.0",
         "0.0",
         "0.0",
         "0.0",
         "0.0",
         "0.0",
         "0.0",
         "0.0",
         "0.0",
         "0.0",
         "0.0",
         "0.0",
         "0.0",
         "0.0",
         "0.0",
         "0.96862745",
         "0.84705883",
         "0.8392157",
         "0.8509804",
         "0.8627451",
         "0.8509804",
         "0.8352941",
         "0.79607844",
         "0.87058824",
         "0.5764706",
         "0.0",
         "0.0",
         "0.0",
         "0.0",
         "0.0",
         "0.0",
         "0.0",
         "0.0",
         "0.0",
         "0.0",
         "0.0",
         "0.0",
         "0.0",
         "0.0",
         "0.0",
         "0.0",
         "0.0",
         "0.0",
         "0.972549",
         "0.84705883",
         "0.84313726",
         "0.85490197",
         "0.87058824",
         "0.84705883",
         "0.8392157",
         "0.8117647",
         "0.85490197",
         "0.7019608",
         "0.0",
         "0.0",
         "0.0",
         "0.0",
         "0.0",
         "0.0",
         "0.0",
         "0.0",
         "0.0",
         "0.0",
         "0.0",
         "0.0",
         "0.0",
         "0.0",
         "0.0",
         "0.0",
         "0.0",
         "0.0",
         "0.9764706",
         "0.84705883",
         "0.8509804",
         "0.85882354",
         "0.87058824",
         "0.8509804",
         "0.8392157",
         "0.8235294",
         "0.84313726",
         "0.827451",
         "0.0",
         "0.0",
         "0.0",
         "0.0",
         "0.0",
         "0.0",
         "0.0",
         "0.0",
         "0.0",
         "0.0",
         "0.0",
         "0.0",
         "0.0",
         "0.0",
         "0.0",
         "0.0",
         "0.0",
         "0.14901961",
         "1.0",
         "0.8392157",
         "0.85490197",
         "0.85882354",
         "0.8784314",
         "0.85490197",
         "0.84313726",
         "0.827451",
         "0.827451",
         "0.90588236",
         "0.0",
         "0.0",
         "0.0",
         "0.0",
         "0.0",
         "0.0",
         "0.0",
         "0.0",
         "0.0",
         "0.0",
         "0.0",
         "0.0",
         "0.0",
         "0.0",
         "0.0",
         "0.0",
         "0.0",
         "0.30980393",
         "0.8901961",
         "0.81960785",
         "0.85882354",
         "0.85882354",
         "0.8901961",
         "0.85882354",
         "0.84313726",
         "0.8352941",
         "0.80784315",
         "0.99607843",
         "0.22745098",
         "0.0",
         "0.0",
         "0.0",
         "0.0",
         "0.0",
         "0.0",
         "0.0",
         "0.0",
         "0.0",
         "0.0",
         "0.0",
         "0.0",
         "0.0",
         "0.0",
         "0.0",
         "0.0",
         "0.57254905",
         "0.8862745",
         "0.827451",
         "0.8627451",
         "0.85882354",
         "0.89411765",
         "0.85490197",
         "0.84313726",
         "0.84705883",
         "0.8039216",
         "0.85882354",
         "0.6392157",
         "0.0",
         "0.0",
         "0.0",
         "0.0",
         "0.0",
         "0.0",
         "0.0",
         "0.0",
         "0.0",
         "0.0",
         "0.0",
         "0.0",
         "0.0",
         "0.0",
         "0.0",
         "0.0",
         "0.7921569",
         "0.8666667",
         "0.8392157",
         "0.8666667",
         "0.85882354",
         "0.90588236",
         "0.85490197",
         "0.84313726",
         "0.85490197",
         "0.8352941",
         "0.83137256",
         "0.8627451",
         "0.0",
         "0.0",
         "0.0",
         "0.0",
         "0.0",
         "0.0",
         "0.0",
         "0.0",
         "0.0",
         "0.0",
         "0.0",
         "0.0",
         "0.0",
         "0.0",
         "0.0",
         "0.0",
         "0.91764706",
         "0.8509804",
         "0.84705883",
         "0.8627451",
         "0.85882354",
         "0.91764706",
         "0.8509804",
         "0.84313726",
         "0.85490197",
         "0.84705883",
         "0.8745098",
         "0.96862745",
         "0.02745098",
         "0.0",
         "0.0",
         "0.0",
         "0.0",
         "0.0",
         "0.0",
         "0.0",
         "0.0",
         "0.0",
         "0.0",
         "0.0",
         "0.0",
         "0.0",
         "0.0",
         "0.06666667",
         "0.99607843",
         "0.83137256",
         "0.85882354",
         "0.85882354",
         "0.8627451",
         "0.9137255",
         "0.8392157",
         "0.84705883",
         "0.85882354",
         "0.87058824",
         "0.6",
         "0.93333334",
         "0.22745098",
         "0.0",
         "0.0",
         "0.0",
         "0.0",
         "0.0",
         "0.0",
         "0.0",
         "0.0",
         "0.0",
         "0.0",
         "0.0",
         "0.0",
         "0.0",
         "0.0",
         "0.25882354",
         "1.0",
         "0.8156863",
         "0.8627451",
         "0.85882354",
         "0.87058824",
         "0.94509804",
         "0.8627451",
         "0.85490197",
         "0.85490197",
         "0.85490197",
         "0.7529412",
         "0.9490196",
         "0.3882353",
         "0.0",
         "0.0",
         "0.0",
         "0.0",
         "0.0",
         "0.0",
         "0.0",
         "0.0",
         "0.0",
         "0.0",
         "0.0",
         "0.0",
         "0.0",
         "0.0",
         "0.5568628",
         "0.92156863",
         "0.79607844",
         "0.85490197",
         "0.84705883",
         "0.90588236",
         "0.9490196",
         "0.88235295",
         "0.9137255",
         "0.85882354",
         "0.8392157",
         "0.84705883",
         "0.93333334",
         "0.5647059",
         "0.0",
         "0.0",
         "0.0",
         "0.0",
         "0.0",
         "0.0",
         "0.0",
         "0.0",
         "0.0",
         "0.0",
         "0.0",
         "0.0",
         "0.0",
         "0.0",
         "0.69411767",
         "0.972549",
         "0.8901961",
         "0.8980392",
         "0.827451",
         "1.0",
         "0.29803923",
         "0.0",
         "0.96862745",
         "0.9529412",
         "0.9019608",
         "0.9019608",
         "0.9764706",
         "0.73333335",
         "0.0",
         "0.0",
         "0.0",
         "0.0",
         "0.0",
         "0.0",
         "0.0",
         "0.0",
         "0.0",
         "0.0",
         "0.0",
         "0.0",
         "0.0",
         "0.0",
         "0.39607844",
         "0.94509804",
         "0.89411765",
         "0.89411765",
         "0.8627451",
         "1.0",
         "0.2509804",
         "0.0",
         "0.9529412",
         "0.92941177",
         "0.9019608",
         "0.8901961",
         "0.94509804",
         "0.5568628",
         "0.0",
         "0.0",
         "0.0",
         "0.0",
         "0.0",
         "0.0",
         "0.0",
         "0.0",
         "0.0",
         "0.0",
         "0.0",
         "0.0",
         "0.0",
         "0.0",
         "0.0",
         "1.0",
         "0.9490196",
         "0.87058824",
         "0.85490197",
         "1.0",
         "0.24313726",
         "0.0",
         "0.8745098",
         "0.93333334",
         "0.88235295",
         "0.93333334",
         "1.0",
         "0.12156863",
         "0.0",
         "0.0",
         "0.0",
         "0.0",
         "0.0",
         "0.0",
         "0.0",
         "0.0",
         "0.0",
         "0.0",
         "0.0",
         "0.0",
         "0.0",
         "0.0",
         "0.0",
         "0.1764706",
         "1.0",
         "0.9490196",
         "0.92156863",
         "1.0",
         "0.32941177",
         "0.0",
         "0.9647059",
         "1.0",
         "0.9490196",
         "1.0",
         "0.27450982",
         "0.0",
         "0.0",
         "0.0",
         "0.0",
         "0.0",
         "0.0",
         "0.0",
         "0.0",
         "0.0",
         "0.0",
         "0.0",
         "0.0",
         "0.0",
         "0.0",
         "0.0",
         "0.0",
         "0.0",
         "0.0",
         "0.23921569",
         "0.4",
         "0.65882355",
         "0.09803922",
         "0.0",
         "0.54509807",
         "0.6313726",
         "0.2901961",
         "0.0",
         "0.0",
         "0.0",
         "0.0",
         "0.0",
         "0.0",
         "0.0",
         "0.0",
         "0.0",
         "0.0",
         "0"
        ]
       ],
       "shape": {
        "columns": 785,
        "rows": 5
       }
      },
      "text/html": [
       "<div>\n",
       "<style scoped>\n",
       "    .dataframe tbody tr th:only-of-type {\n",
       "        vertical-align: middle;\n",
       "    }\n",
       "\n",
       "    .dataframe tbody tr th {\n",
       "        vertical-align: top;\n",
       "    }\n",
       "\n",
       "    .dataframe thead th {\n",
       "        text-align: right;\n",
       "    }\n",
       "</style>\n",
       "<table border=\"1\" class=\"dataframe\">\n",
       "  <thead>\n",
       "    <tr style=\"text-align: right;\">\n",
       "      <th></th>\n",
       "      <th>0</th>\n",
       "      <th>1</th>\n",
       "      <th>2</th>\n",
       "      <th>3</th>\n",
       "      <th>4</th>\n",
       "      <th>5</th>\n",
       "      <th>6</th>\n",
       "      <th>7</th>\n",
       "      <th>8</th>\n",
       "      <th>9</th>\n",
       "      <th>...</th>\n",
       "      <th>775</th>\n",
       "      <th>776</th>\n",
       "      <th>777</th>\n",
       "      <th>778</th>\n",
       "      <th>779</th>\n",
       "      <th>780</th>\n",
       "      <th>781</th>\n",
       "      <th>782</th>\n",
       "      <th>783</th>\n",
       "      <th>label</th>\n",
       "    </tr>\n",
       "  </thead>\n",
       "  <tbody>\n",
       "    <tr>\n",
       "      <th>0</th>\n",
       "      <td>0.0</td>\n",
       "      <td>0.0</td>\n",
       "      <td>0.0</td>\n",
       "      <td>0.0</td>\n",
       "      <td>0.0</td>\n",
       "      <td>0.000000</td>\n",
       "      <td>0.0</td>\n",
       "      <td>0.0</td>\n",
       "      <td>0.000000</td>\n",
       "      <td>0.000000</td>\n",
       "      <td>...</td>\n",
       "      <td>0.000000</td>\n",
       "      <td>0.000000</td>\n",
       "      <td>0.000000</td>\n",
       "      <td>0.0</td>\n",
       "      <td>0.0</td>\n",
       "      <td>0.0</td>\n",
       "      <td>0.0</td>\n",
       "      <td>0.0</td>\n",
       "      <td>0.0</td>\n",
       "      <td>9</td>\n",
       "    </tr>\n",
       "    <tr>\n",
       "      <th>1</th>\n",
       "      <td>0.0</td>\n",
       "      <td>0.0</td>\n",
       "      <td>0.0</td>\n",
       "      <td>0.0</td>\n",
       "      <td>0.0</td>\n",
       "      <td>0.003922</td>\n",
       "      <td>0.0</td>\n",
       "      <td>0.0</td>\n",
       "      <td>0.000000</td>\n",
       "      <td>0.000000</td>\n",
       "      <td>...</td>\n",
       "      <td>0.447059</td>\n",
       "      <td>0.509804</td>\n",
       "      <td>0.298039</td>\n",
       "      <td>0.0</td>\n",
       "      <td>0.0</td>\n",
       "      <td>0.0</td>\n",
       "      <td>0.0</td>\n",
       "      <td>0.0</td>\n",
       "      <td>0.0</td>\n",
       "      <td>0</td>\n",
       "    </tr>\n",
       "    <tr>\n",
       "      <th>2</th>\n",
       "      <td>0.0</td>\n",
       "      <td>0.0</td>\n",
       "      <td>0.0</td>\n",
       "      <td>0.0</td>\n",
       "      <td>0.0</td>\n",
       "      <td>0.000000</td>\n",
       "      <td>0.0</td>\n",
       "      <td>0.0</td>\n",
       "      <td>0.000000</td>\n",
       "      <td>0.086275</td>\n",
       "      <td>...</td>\n",
       "      <td>0.000000</td>\n",
       "      <td>0.003922</td>\n",
       "      <td>0.000000</td>\n",
       "      <td>0.0</td>\n",
       "      <td>0.0</td>\n",
       "      <td>0.0</td>\n",
       "      <td>0.0</td>\n",
       "      <td>0.0</td>\n",
       "      <td>0.0</td>\n",
       "      <td>0</td>\n",
       "    </tr>\n",
       "    <tr>\n",
       "      <th>3</th>\n",
       "      <td>0.0</td>\n",
       "      <td>0.0</td>\n",
       "      <td>0.0</td>\n",
       "      <td>0.0</td>\n",
       "      <td>0.0</td>\n",
       "      <td>0.000000</td>\n",
       "      <td>0.0</td>\n",
       "      <td>0.0</td>\n",
       "      <td>0.129412</td>\n",
       "      <td>0.376471</td>\n",
       "      <td>...</td>\n",
       "      <td>0.000000</td>\n",
       "      <td>0.000000</td>\n",
       "      <td>0.000000</td>\n",
       "      <td>0.0</td>\n",
       "      <td>0.0</td>\n",
       "      <td>0.0</td>\n",
       "      <td>0.0</td>\n",
       "      <td>0.0</td>\n",
       "      <td>0.0</td>\n",
       "      <td>3</td>\n",
       "    </tr>\n",
       "    <tr>\n",
       "      <th>4</th>\n",
       "      <td>0.0</td>\n",
       "      <td>0.0</td>\n",
       "      <td>0.0</td>\n",
       "      <td>0.0</td>\n",
       "      <td>0.0</td>\n",
       "      <td>0.000000</td>\n",
       "      <td>0.0</td>\n",
       "      <td>0.0</td>\n",
       "      <td>0.000000</td>\n",
       "      <td>0.000000</td>\n",
       "      <td>...</td>\n",
       "      <td>0.000000</td>\n",
       "      <td>0.000000</td>\n",
       "      <td>0.000000</td>\n",
       "      <td>0.0</td>\n",
       "      <td>0.0</td>\n",
       "      <td>0.0</td>\n",
       "      <td>0.0</td>\n",
       "      <td>0.0</td>\n",
       "      <td>0.0</td>\n",
       "      <td>0</td>\n",
       "    </tr>\n",
       "  </tbody>\n",
       "</table>\n",
       "<p>5 rows × 785 columns</p>\n",
       "</div>"
      ],
      "text/plain": [
       "     0    1    2    3    4         5    6    7         8         9  ...  \\\n",
       "0  0.0  0.0  0.0  0.0  0.0  0.000000  0.0  0.0  0.000000  0.000000  ...   \n",
       "1  0.0  0.0  0.0  0.0  0.0  0.003922  0.0  0.0  0.000000  0.000000  ...   \n",
       "2  0.0  0.0  0.0  0.0  0.0  0.000000  0.0  0.0  0.000000  0.086275  ...   \n",
       "3  0.0  0.0  0.0  0.0  0.0  0.000000  0.0  0.0  0.129412  0.376471  ...   \n",
       "4  0.0  0.0  0.0  0.0  0.0  0.000000  0.0  0.0  0.000000  0.000000  ...   \n",
       "\n",
       "        775       776       777  778  779  780  781  782  783  label  \n",
       "0  0.000000  0.000000  0.000000  0.0  0.0  0.0  0.0  0.0  0.0      9  \n",
       "1  0.447059  0.509804  0.298039  0.0  0.0  0.0  0.0  0.0  0.0      0  \n",
       "2  0.000000  0.003922  0.000000  0.0  0.0  0.0  0.0  0.0  0.0      0  \n",
       "3  0.000000  0.000000  0.000000  0.0  0.0  0.0  0.0  0.0  0.0      3  \n",
       "4  0.000000  0.000000  0.000000  0.0  0.0  0.0  0.0  0.0  0.0      0  \n",
       "\n",
       "[5 rows x 785 columns]"
      ]
     },
     "execution_count": 6,
     "metadata": {},
     "output_type": "execute_result"
    }
   ],
   "source": [
    "\n",
    "# Download and load Fashion-MNIST\n",
    "transform = transforms.Compose([transforms.ToTensor()])\n",
    "\n",
    "train_dataset = torchvision.datasets.FashionMNIST(\n",
    "    root='./data', \n",
    "    train=True, \n",
    "    download=True,  \n",
    "    transform=transform\n",
    ")\n",
    "\n",
    "test_dataset = torchvision.datasets.FashionMNIST(\n",
    "    root='./data', \n",
    "    train=False, \n",
    "    download=True, \n",
    "    transform=transform\n",
    ")\n",
    "\n",
    "# Convert train_dataset to DataFrame\n",
    "train_images = []\n",
    "train_labels = []\n",
    "\n",
    "for img, label in train_dataset:\n",
    "    train_images.append(img.numpy().flatten())\n",
    "    train_labels.append(label)\n",
    "\n",
    "df_train_fashion = pd.DataFrame(train_images)\n",
    "df_train_fashion['label'] = train_labels\n",
    "\n",
    "# Convert test_dataset to DataFrame\n",
    "test_images = []\n",
    "test_labels = []\n",
    "\n",
    "for img, label in test_dataset:\n",
    "    test_images.append(img.numpy().flatten())\n",
    "    test_labels.append(label)\n",
    "\n",
    "df_test_fashion = pd.DataFrame(test_images)\n",
    "df_test_fashion['label'] = test_labels\n",
    "\n",
    "print(\"Fashion-MNIST dataset loaded.\")\n",
    "print(f\"Fashion-MNIST train shape: {df_train_fashion.shape}, Fashion-MNIST test shape: {df_test_fashion.shape}\")\n",
    "df_train_fashion.head()\n"
   ]
  },
  {
   "cell_type": "code",
   "execution_count": 7,
   "id": "adba3e38",
   "metadata": {},
   "outputs": [
    {
     "name": "stdout",
     "output_type": "stream",
     "text": [
      "Covtype class distribution:\n",
      " 0    211840\n",
      "1    283301\n",
      "2     35754\n",
      "3      2747\n",
      "4      9493\n",
      "5     17367\n",
      "6     20510\n",
      "Name: count, dtype: int64\n",
      "Fashion-MNIST class distribution:\n",
      " label\n",
      "0    6000\n",
      "1    6000\n",
      "2    6000\n",
      "3    6000\n",
      "4    6000\n",
      "5    6000\n",
      "6    6000\n",
      "7    6000\n",
      "8    6000\n",
      "9    6000\n",
      "Name: count, dtype: int64\n"
     ]
    }
   ],
   "source": [
    "# what is the class distribution for each dataset\n",
    "print(\"Covtype class distribution:\\n\", pd.Series(y_cov_type).value_counts().sort_index())\n",
    "print(\"Fashion-MNIST class distribution:\\n\", pd.Series(df_train_fashion['label']).value_counts().sort_index())"
   ]
  },
  {
   "cell_type": "code",
   "execution_count": 8,
   "id": "70dbbd54",
   "metadata": {},
   "outputs": [
    {
     "name": "stdout",
     "output_type": "stream",
     "text": [
      "Updated Fashion-MNIST class distribution:\n",
      " label\n",
      "0    6000\n",
      "1    5500\n",
      "2    5000\n",
      "3    4500\n",
      "4    4000\n",
      "5    3500\n",
      "6    3000\n",
      "7    2500\n",
      "8    2000\n",
      "9    1500\n",
      "Name: count, dtype: int64\n"
     ]
    }
   ],
   "source": [
    "# take away 1000 entries from class label 0 in fashion mnist\n",
    "for i in range(0, 10):\n",
    "    index_to_drop = df_train_fashion[df_train_fashion['label'] == i].index[0]\n",
    "    df_train_fashion = df_train_fashion.drop(df_train_fashion[df_train_fashion['label'] == i].index[:500*i])\n",
    "print(\"Updated Fashion-MNIST class distribution:\\n\", pd.Series(df_train_fashion['label']).value_counts().sort_index())"
   ]
  },
  {
   "cell_type": "markdown",
   "id": "c610100f",
   "metadata": {},
   "source": [
    "### Prepare each dataset for training and testing"
   ]
  },
  {
   "cell_type": "markdown",
   "id": "9af0e96a",
   "metadata": {},
   "source": [
    "### Covtype dataset"
   ]
  },
  {
   "cell_type": "code",
   "execution_count": 9,
   "id": "af754e4b",
   "metadata": {},
   "outputs": [
    {
     "name": "stdout",
     "output_type": "stream",
     "text": [
      "Min label: 0 Max label: 6\n"
     ]
    }
   ],
   "source": [
    "\n",
    "X_train_cov_init, X_test_cov_init, y_train_cov_init, y_test_cov_init = train_test_split(X_cov_type, y_cov_type, test_size=0.3, random_state=42)\n",
    "\n",
    "scaler = StandardScaler()\n",
    "X_train_cov_scaled = scaler.fit_transform(X_train_cov_init)\n",
    "X_test_cov_scaled = scaler.transform(X_test_cov_init)\n",
    "\n",
    "X_train_cov = torch.tensor(X_train_cov_scaled, dtype=torch.float32).to(device)\n",
    "X_test_cov = torch.tensor(X_test_cov_scaled, dtype=torch.float32).to(device)\n",
    "# need to minus 1 to make labels start from 0\n",
    "y_train_cov = torch.tensor((y_train_cov_init), dtype=torch.long).to(device)\n",
    "y_test_cov = torch.tensor((y_test_cov_init), dtype=torch.long).to(device)\n",
    "print(\"Min label:\", y_train_cov.min().item(), \"Max label:\", y_train_cov.max().item())"
   ]
  },
  {
   "cell_type": "markdown",
   "id": "7f5da2f7",
   "metadata": {},
   "source": [
    "### Fashion-MNIST dataset"
   ]
  },
  {
   "cell_type": "code",
   "execution_count": 10,
   "id": "43f1c124",
   "metadata": {},
   "outputs": [],
   "source": [
    "X_train_fashion_init = df_train_fashion.drop('label', axis=1)\n",
    "y_train_fashion = df_train_fashion['label']\n",
    "\n",
    "X_test_fashion_init = df_test_fashion.drop('label', axis=1)\n",
    "y_test_fashion = df_test_fashion['label']\n",
    "\n",
    "X_train_fashion = torch.tensor(X_train_fashion_init.values, dtype=torch.float32).to(device)\n",
    "y_train_fashion = torch.tensor(y_train_fashion.values, dtype=torch.long).to(device)\n",
    "X_test_fashion = torch.tensor(X_test_fashion_init.values, dtype=torch.float32).to(device)\n",
    "y_test_fashion = torch.tensor(y_test_fashion.values, dtype=torch.long).to(device)"
   ]
  },
  {
   "cell_type": "markdown",
   "id": "0dac60ba",
   "metadata": {},
   "source": [
    "### train baseline model"
   ]
  },
  {
   "cell_type": "code",
   "execution_count": 11,
   "id": "0b2c6605",
   "metadata": {},
   "outputs": [],
   "source": [
    "# 'hidden_layers': [(50,), (100,), (150,), (100, 50), (100, 100), (150, 100, 50), (256, 128, 64), (150, 100, 50, 25)]\n",
    "param_grid = {\n",
    "    'hidden_layers': [(50,), (100,), (150,), (100, 50), (100, 100), (150, 100, 50), (256, 128, 64),\n",
    "        (200, 150, 100, 50),\n",
    "        (256, 128, 64, 32),     \n",
    "        (512, 256, 128, 64),  \n",
    "        (128, 128, 128, 128),     \n",
    "        (300, 200, 100, 50),  ],\n",
    "    'activation': ['relu', 'tanh'],\n",
    "    'lr': [0.001, 0.005, 0.01, 0.5, 0.1],\n",
    "    'epochs': [300]\n",
    "}"
   ]
  },
  {
   "cell_type": "code",
   "execution_count": 12,
   "id": "d2ca4197",
   "metadata": {},
   "outputs": [],
   "source": [
    "def grid_search_params(X_train, y_train, X_test, y_test, param_grid):\n",
    "    input_dim = X_train.shape[1]\n",
    "    output_dim = len(torch.unique(y_train))\n",
    "\n",
    "    results = []\n",
    "\n",
    "    for hidden_layers, activation, lr, epochs in product(\n",
    "        param_grid['hidden_layers'],\n",
    "        param_grid['activation'],\n",
    "        param_grid['lr'],\n",
    "        param_grid['epochs']\n",
    "    ):\n",
    "        model = SimpleMLP(input_dim, hidden_layers, output_dim, activation).to(device)\n",
    "        criterion = nn.CrossEntropyLoss()\n",
    "        optimizer = optim.Adam(model.parameters(), lr=lr) if activation == 'relu' else optim.SGD(model.parameters(), lr=lr)\n",
    "        \n",
    "        # Training loop\n",
    "        for epoch in range(epochs):\n",
    "            model.train()\n",
    "            optimizer.zero_grad()\n",
    "            outputs = model(X_train)\n",
    "            loss = criterion(outputs, y_train)\n",
    "            loss.backward()\n",
    "            optimizer.step()\n",
    "        \n",
    "        # Evaluation\n",
    "        model.eval()\n",
    "        with torch.no_grad():\n",
    "            preds = model(X_test).argmax(dim=1)\n",
    "            acc = accuracy_score(y_test.cpu(), preds.cpu())\n",
    "        results.append({\n",
    "            'hidden_layers': hidden_layers,\n",
    "            'activation': activation,\n",
    "            'lr': lr,\n",
    "            'epochs': epochs,\n",
    "            'accuracy': acc\n",
    "        })\n",
    "\n",
    "    # Display top 5 results\n",
    "    results_df = pd.DataFrame(results).sort_values('accuracy', ascending=False)\n",
    "    print(results_df.head())"
   ]
  },
  {
   "cell_type": "code",
   "execution_count": 13,
   "id": "d1babe9b",
   "metadata": {},
   "outputs": [],
   "source": [
    "# grid_search_params(X_train_cov, y_train_cov, X_test_cov, y_test_cov, param_grid)"
   ]
  },
  {
   "cell_type": "code",
   "execution_count": 14,
   "id": "b331d6d8",
   "metadata": {},
   "outputs": [],
   "source": [
    "# grid_search_params(X_train_fashion, y_train_fashion, X_test_fashion, y_test_fashion, param_grid)"
   ]
  },
  {
   "cell_type": "code",
   "execution_count": 15,
   "id": "20610f0e",
   "metadata": {},
   "outputs": [],
   "source": [
    "optimal_params_cov = {\n",
    "    'hidden_layers': (512, 256, 128, 64),\n",
    "    'activation': 'relu',\n",
    "    'lr': 0.01,\n",
    "}\n",
    "optimal_params_fashion = {\n",
    "    'hidden_layers': (512, 256, 128, 64),\n",
    "    'activation': 'relu',\n",
    "    'lr': 0.005,\n",
    "\n",
    "}"
   ]
  },
  {
   "cell_type": "markdown",
   "id": "18656d3b",
   "metadata": {},
   "source": [
    "### baseline model training and evaluation ###"
   ]
  },
  {
   "cell_type": "code",
   "execution_count": 16,
   "id": "7c5a836d",
   "metadata": {},
   "outputs": [],
   "source": [
    "def train_model(model, optimizer, criterion, X_train, y_train, X_test, y_test, epochs=50):\n",
    "    train_acc = []\n",
    "    test_acc = []\n",
    "    for epoch in tqdm.tqdm(range(epochs), desc=\"Training Progress\"):\n",
    "        model.train()\n",
    "        optimizer.zero_grad()\n",
    "        outputs = model(X_train)\n",
    "        loss = criterion(outputs, y_train)\n",
    "        loss.backward()\n",
    "        optimizer.step()\n",
    "        \n",
    "        # Training accuracy\n",
    "        model.eval()\n",
    "        with torch.no_grad():\n",
    "            train_preds = model(X_train).argmax(dim=1)\n",
    "            test_preds = model(X_test).argmax(dim=1)\n",
    "            train_acc.append(accuracy_score(y_train.cpu(), train_preds.cpu()))\n",
    "            test_acc.append(accuracy_score(y_test.cpu(), test_preds.cpu()))\n",
    "    return train_acc, test_acc\n",
    "\n",
    "def plot_learning_curves(train_acc, test_acc, title=\"Learning Curves\"):\n",
    "    plt.figure(figsize=figsize)\n",
    "    plt.plot(train_acc, label=\"Train Accuracy\")\n",
    "    plt.plot(test_acc, label=\"Test Accuracy\")\n",
    "    plt.xlabel(\"Epoch\")\n",
    "    plt.ylabel(\"Accuracy\")\n",
    "    plt.title(title)\n",
    "    plt.legend()\n",
    "    plt.grid(True)\n",
    "    plt.show()"
   ]
  },
  {
   "cell_type": "markdown",
   "id": "1575ca98",
   "metadata": {},
   "source": [
    "#### covtype model training and evaluation"
   ]
  },
  {
   "cell_type": "code",
   "execution_count": 68,
   "id": "4126132e",
   "metadata": {},
   "outputs": [
    {
     "name": "stderr",
     "output_type": "stream",
     "text": [
      "Training Progress:   0%|          | 0/400 [00:00<?, ?it/s]"
     ]
    },
    {
     "name": "stderr",
     "output_type": "stream",
     "text": [
      "Training Progress: 100%|██████████| 400/400 [05:06<00:00,  1.30it/s]\n"
     ]
    },
    {
     "data": {
      "image/png": "[encoded data removed]",
      "text/plain": [
       "<Figure size 800x500 with 1 Axes>"
      ]
     },
     "metadata": {},
     "output_type": "display_data"
    }
   ],
   "source": [
    "input_dim_cov = X_train_cov.shape[1]\n",
    "output_dim_cov = len(torch.unique(y_train_cov))\n",
    "hidden_layers_cov = optimal_params_cov['hidden_layers']\n",
    "activation_cov = optimal_params_cov['activation']\n",
    "\n",
    "model_cov = SimpleMLP(input_dim_cov, hidden_layers_cov, output_dim_cov, activation_cov).to(device)\n",
    "optimizer_cov = torch.optim.Adam(model_cov.parameters(), lr=optimal_params_cov['lr'])\n",
    "criterion = nn.CrossEntropyLoss()\n",
    "train_acc, test_acc = train_model(model_cov, optimizer_cov, criterion, X_train_cov, y_train_cov, X_test_cov, y_test_cov, epochs=400)\n",
    "plot_learning_curves(train_acc, test_acc, title=\"Covtype Model Learning Curves\")"
   ]
  },
  {
   "cell_type": "markdown",
   "id": "b709fe4c",
   "metadata": {},
   "source": [
    "#### fashion-mnist training and evaluation"
   ]
  },
  {
   "cell_type": "code",
   "execution_count": 69,
   "id": "42bd04f6",
   "metadata": {},
   "outputs": [
    {
     "name": "stderr",
     "output_type": "stream",
     "text": [
      "Training Progress: 100%|██████████| 400/400 [01:59<00:00,  3.34it/s]\n"
     ]
    },
    {
     "data": {
      "image/png": "[encoded data removed]",
      "text/plain": [
       "<Figure size 800x500 with 1 Axes>"
      ]
     },
     "metadata": {},
     "output_type": "display_data"
    }
   ],
   "source": [
    "input_dim_fashion = X_train_fashion.shape[1]\n",
    "output_dim_fashion = len(torch.unique(y_train_fashion))\n",
    "hidden_layers_fashion = optimal_params_fashion['hidden_layers']\n",
    "activation_fashion = optimal_params_fashion['activation']\n",
    "\n",
    "model_fashion = SimpleMLP(input_dim_fashion, hidden_layers_fashion, output_dim_fashion, activation_fashion).to(device)\n",
    "optimizer_fashion = torch.optim.Adam(model_fashion.parameters(), lr=optimal_params_fashion['lr'])\n",
    "criterion = nn.CrossEntropyLoss()\n",
    "train_acc, test_acc = train_model(model_fashion, optimizer_fashion, criterion, X_train_fashion, y_train_fashion, X_test_fashion, y_test_fashion, epochs=400)\n",
    "plot_learning_curves(train_acc, test_acc, title=\"Fashion-MNIST Model Learning Curves\")"
   ]
  },
  {
   "cell_type": "markdown",
   "id": "27602bed",
   "metadata": {},
   "source": [
    "### training for dynamic model"
   ]
  },
  {
   "cell_type": "code",
   "execution_count": 121,
   "id": "7477ce0f",
   "metadata": {},
   "outputs": [],
   "source": [
    "# # Concatenate vertically (stack rows)\n",
    "# combined_df = pd.concat([df1, df2], axis=0)\n"
   ]
  },
  {
   "cell_type": "code",
   "execution_count": 18,
   "id": "8c64e94d",
   "metadata": {},
   "outputs": [
    {
     "name": "stdout",
     "output_type": "stream",
     "text": [
      "DataFrames split by class created.\n"
     ]
    }
   ],
   "source": [
    "dfs_cov = [df_covtype[df_covtype['Cover_Type'] == i] for i in range(7)]\n",
    "dfs_fashion = [df_train_fashion[df_train_fashion['label'] == i] for i in range(10)]\n",
    "\n",
    "print(\"DataFrames split by class created.\")"
   ]
  },
  {
   "cell_type": "code",
   "execution_count": 19,
   "id": "6c3a4500",
   "metadata": {},
   "outputs": [
    {
     "name": "stdout",
     "output_type": "stream",
     "text": [
      "DataFrames sorted by class size.\n",
      "Size of each class in Covtype: [283301, 211840, 35754, 20510, 17367, 9493, 2747]\n"
     ]
    }
   ],
   "source": [
    "# sort the dataframes list by the size of each dataframe in ascending order\n",
    "dfs_cov.sort(key=lambda x: len(x), reverse=True)\n",
    "dfs_fashion.sort(key=lambda x: len(x), reverse=True)\n",
    "\n",
    "print(\"DataFrames sorted by class size.\")\n",
    "print(f\"Size of each class in Covtype: {[len(df) for df in dfs_cov]}\")"
   ]
  },
  {
   "cell_type": "code",
   "execution_count": 17,
   "id": "990bd12c",
   "metadata": {},
   "outputs": [],
   "source": [
    "def train_complex_model(model, optimizer, criterion, parameters, all_train_dfs, all_test_dfs, label, epochs=50):\n",
    "    train_acc = []\n",
    "    test_acc = []\n",
    "    look_back = 20\n",
    "\n",
    "    has_underfit = False\n",
    "    has_overfit = False\n",
    "    has_plateaued = False\n",
    "    lock = False\n",
    "    lock_epochs = 0\n",
    "\n",
    "    X_train, y_train, X_test, y_test = None, None, None, None\n",
    "    current_class_index = 2  # start from the third class since first two are combined initially\n",
    "    def combine_new_class_to_dataset(new_class_df_train, new_class_df_test):\n",
    "        nonlocal X_train, y_train, X_test, y_test\n",
    "        if X_train is None or y_train is None:\n",
    "            combined_train_df = new_class_df_train\n",
    "            combined_test_df = new_class_df_test\n",
    "        else:\n",
    "            combined_train_df = pd.concat([pd.DataFrame(X_train.cpu().numpy()), pd.DataFrame(y_train.cpu().numpy(), columns=[label]), new_class_df_train], axis=0).sample(frac=1).reset_index(drop=True)\n",
    "            combined_test_df = pd.concat([pd.DataFrame(X_test.cpu().numpy()), pd.DataFrame(y_test.cpu().numpy(), columns=[label]), new_class_df_test], axis=0).sample(frac=1).reset_index(drop=True)\n",
    "\n",
    "        X_train = torch.tensor(combined_train_df.drop(columns=[label]).values, dtype=torch.float32).to(device)\n",
    "        y_train = torch.tensor(combined_train_df[label].values if label in combined_train_df else combined_train_df['label'].values, dtype=torch.long).to(device)\n",
    "\n",
    "        X_test = torch.tensor(combined_test_df.drop(columns=[label]).values, dtype=torch.float32).to(device)\n",
    "        y_test = torch.tensor(combined_test_df[label].values if label in combined_test_df else combined_test_df['label'].values, dtype=torch.long).to(device)\n",
    "\n",
    "    # start with the first 2 dataframes\n",
    "    if len(all_train_dfs) >= 2:\n",
    "        combined_train_df = pd.concat(all_train_dfs[:2], axis=0).sample(frac=1).reset_index(drop=True)\n",
    "        combined_test_df = pd.concat(all_test_dfs[:2], axis=0).sample(frac=1).reset_index(drop=True)\n",
    "\n",
    "        X_train = torch.tensor(combined_train_df.drop(columns=[label]).values, dtype=torch.float32).to(device)\n",
    "        y_train = torch.tensor(combined_train_df[label].values if label in combined_train_df else combined_train_df['label'].values, dtype=torch.long).to(device)\n",
    "\n",
    "        X_test = torch.tensor(combined_test_df.drop(columns=[label]).values, dtype=torch.float32).to(device)\n",
    "        y_test = torch.tensor(combined_test_df[label].values if label in combined_test_df else combined_test_df['label'].values, dtype=torch.long).to(device)\n",
    "\n",
    "    for epoch in tqdm.tqdm(range(epochs), desc=\"Training Progress\"):\n",
    "        model.train()\n",
    "        optimizer.zero_grad()\n",
    "        outputs = model(X_train)\n",
    "        loss = criterion(outputs, y_train)\n",
    "        loss.backward()\n",
    "        optimizer.step()\n",
    "        \n",
    "        # Training accuracy\n",
    "        model.eval()\n",
    "        with torch.no_grad():\n",
    "            train_preds = model(X_train).argmax(dim=1)\n",
    "            test_preds = model(X_test).argmax(dim=1)\n",
    "            train_acc.append(accuracy_score(y_train.cpu(), train_preds.cpu()))\n",
    "            test_acc.append(accuracy_score(y_test.cpu(), test_preds.cpu()))\n",
    "\n",
    "        if epoch > look_back and not lock:\n",
    "            recent_train_acc = train_acc[-look_back:]\n",
    "            recent_test_acc = test_acc[-look_back:]\n",
    "\n",
    "            train_trend = np.polyfit(range(look_back), recent_train_acc, 1)[0]\n",
    "            test_trend = np.polyfit(range(look_back), recent_test_acc, 1)[0]\n",
    "\n",
    "            if train_trend < 0.005 and test_trend < 0.005:\n",
    "                has_plateaued = True\n",
    "                print(f\"Training has plateaued at epoch {epoch}.\")\n",
    "                if current_class_index == len(all_train_dfs):\n",
    "                    print(\"All classes have been added. Cannot add more classes.\")\n",
    "                    return train_acc, test_acc\n",
    "                \n",
    "                \n",
    "            # check if underfitting\n",
    "            elif train_trend > 0.001 and test_trend > 0.001:\n",
    "                has_underfit = True\n",
    "                print(\"Model is underfit at epoch: \", epoch)\n",
    "                model.add_hidden_layer() \n",
    "                optimizer = torch.optim.Adam(model.parameters(), lr=parameters['lr'])\n",
    "                current_class_index += 1\n",
    "\n",
    "            # check if overfitting\n",
    "            elif train_trend > 0.01 and test_trend < -0.01:\n",
    "                has_overfit = True\n",
    "                print(\"Model is overfit at epoch: \", epoch)\n",
    "                if current_class_index < len(all_train_dfs):\n",
    "                    print(f\"Adding new class {current_class_index} to the dataset.\")\n",
    "                    combine_new_class_to_dataset(all_train_dfs[current_class_index], all_test_dfs[current_class_index])\n",
    "                    model.update_output_layer(len(torch.unique(y_train)))\n",
    "                    optimizer = torch.optim.Adam(model.parameters(), lr=parameters['lr'])\n",
    "                else: \n",
    "                    print(\"All classes have been added. Cannot add more classes.\")\n",
    "                    return train_acc, test_acc\n",
    "\n",
    "            # if any of the flags are set, lock further checks\n",
    "            if has_underfit or has_overfit or has_plateaued:\n",
    "                lock = True\n",
    "                lock_epochs = 10\n",
    "                print(\"Locking further checks for 10 epochs.\")\n",
    "        else:\n",
    "            if lock:\n",
    "                lock_epochs -= 1\n",
    "                if lock_epochs <= 0:\n",
    "                    lock = False\n",
    "                    print(\"Unlocking checks after lock period.\")\n",
    "        \n",
    "        # reset flags for next epoch\n",
    "        has_underfit = False\n",
    "        has_overfit = False\n",
    "        has_plateaued = False\n",
    "\n",
    "    print(\"Training completed early - needs further tuning.\")\n",
    "    return train_acc, test_acc\n",
    " "
   ]
  },
  {
   "cell_type": "code",
   "execution_count": null,
   "id": "ea6b17af",
   "metadata": {},
   "outputs": [
    {
     "ename": "NameError",
     "evalue": "name 'dfs_cov' is not defined",
     "output_type": "error",
     "traceback": [
      "\u001b[31m---------------------------------------------------------------------------\u001b[39m",
      "\u001b[31mNameError\u001b[39m                                 Traceback (most recent call last)",
      "\u001b[36mCell\u001b[39m\u001b[36m \u001b[39m\u001b[32mIn[19]\u001b[39m\u001b[32m, line 6\u001b[39m\n\u001b[32m      4\u001b[39m optimizer_cov_dynamic = torch.optim.Adam(model_cov_dynamic.parameters(), lr=optimal_params_cov[\u001b[33m'\u001b[39m\u001b[33mlr\u001b[39m\u001b[33m'\u001b[39m])\n\u001b[32m      5\u001b[39m criterion = nn.CrossEntropyLoss()\n\u001b[32m----> \u001b[39m\u001b[32m6\u001b[39m train_acc, test_acc = train_complex_model(model_cov_dynamic, optimizer_cov_dynamic, criterion, optimal_params_cov, \u001b[43mdfs_cov\u001b[49m, dfs_cov, \u001b[33m'\u001b[39m\u001b[33mCover_Type\u001b[39m\u001b[33m'\u001b[39m, epochs=\u001b[32m400\u001b[39m)\n\u001b[32m      7\u001b[39m plot_learning_curves(train_acc, test_acc, title=\u001b[33m\"\u001b[39m\u001b[33mDynamic Covtype Model Learning Curves\u001b[39m\u001b[33m\"\u001b[39m)\n",
      "\u001b[31mNameError\u001b[39m: name 'dfs_cov' is not defined"
     ]
    }
   ],
   "source": [
    "FIX THE DATASETS NOW\n",
    "\n",
    "input_dim_cov = X_train_cov.shape[1]\n",
    "activation_cov = optimal_params_cov['activation']\n",
    "model_cov_dynamic = DynamicMLP(input_dim_cov).to(device)\n",
    "optimizer_cov_dynamic = torch.optim.Adam(model_cov_dynamic.parameters(), lr=optimal_params_cov['lr'])\n",
    "criterion = nn.CrossEntropyLoss()\n",
    "train_acc, test_acc = train_complex_model(model_cov_dynamic, optimizer_cov_dynamic, criterion, optimal_params_cov, dfs_cov, dfs_cov, 'Cover_Type', epochs=400)\n",
    "plot_learning_curves(train_acc, test_acc, title=\"Dynamic Covtype Model Learning Curves\")"
   ]
  }
 ],
 "metadata": {
  "kernelspec": {
   "display_name": ".venv",
   "language": "python",
   "name": "python3"
  },
  "language_info": {
   "codemirror_mode": {
    "name": "ipython",
    "version": 3
   },
   "file_extension": ".py",
   "mimetype": "text/x-python",
   "name": "python",
   "nbconvert_exporter": "python",
   "pygments_lexer": "ipython3",
   "version": "3.12.3"
  }
 },
 "nbformat": 4,
 "nbformat_minor": 5
}
